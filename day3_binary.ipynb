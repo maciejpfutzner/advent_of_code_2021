{
 "cells": [
  {
   "cell_type": "code",
   "execution_count": 1,
   "id": "c7cffddc",
   "metadata": {
    "ExecuteTime": {
     "end_time": "2021-12-03T09:20:01.392017Z",
     "start_time": "2021-12-03T09:20:01.228194Z"
    }
   },
   "outputs": [],
   "source": [
    "import numpy as np"
   ]
  },
  {
   "cell_type": "code",
   "execution_count": 2,
   "id": "d30c0a08",
   "metadata": {
    "ExecuteTime": {
     "end_time": "2021-12-03T09:20:18.389212Z",
     "start_time": "2021-12-03T09:20:18.385499Z"
    }
   },
   "outputs": [],
   "source": [
    "filename = 'day3_binary.txt'"
   ]
  },
  {
   "cell_type": "code",
   "execution_count": 3,
   "id": "a4567498",
   "metadata": {
    "ExecuteTime": {
     "end_time": "2021-12-03T09:20:37.792279Z",
     "start_time": "2021-12-03T09:20:37.787292Z"
    }
   },
   "outputs": [],
   "source": [
    "with open(filename, 'r') as infile:\n",
    "    bits = infile.readlines()"
   ]
  },
  {
   "cell_type": "markdown",
   "id": "da0fad00",
   "metadata": {},
   "source": [
    "# Part 1 "
   ]
  },
  {
   "cell_type": "code",
   "execution_count": 12,
   "id": "b7e3d3d1",
   "metadata": {
    "ExecuteTime": {
     "end_time": "2021-12-03T09:22:46.488835Z",
     "start_time": "2021-12-03T09:22:46.476273Z"
    }
   },
   "outputs": [],
   "source": [
    "bits = np.array([[int(b) for b in bit.strip()] for bit in bits ])"
   ]
  },
  {
   "cell_type": "code",
   "execution_count": 18,
   "id": "528d6141",
   "metadata": {
    "ExecuteTime": {
     "end_time": "2021-12-03T09:23:17.759029Z",
     "start_time": "2021-12-03T09:23:17.753191Z"
    }
   },
   "outputs": [
    {
     "data": {
      "text/plain": [
       "(1000, 12)"
      ]
     },
     "execution_count": 18,
     "metadata": {},
     "output_type": "execute_result"
    }
   ],
   "source": [
    "bits.shape"
   ]
  },
  {
   "cell_type": "code",
   "execution_count": 50,
   "id": "3c827db2",
   "metadata": {
    "ExecuteTime": {
     "end_time": "2021-12-03T09:30:01.533191Z",
     "start_time": "2021-12-03T09:30:01.527534Z"
    }
   },
   "outputs": [],
   "source": [
    "gamma_arr = np.median(bits, axis=0).astype(int)"
   ]
  },
  {
   "cell_type": "code",
   "execution_count": 51,
   "id": "b5623353",
   "metadata": {
    "ExecuteTime": {
     "end_time": "2021-12-03T09:30:01.771909Z",
     "start_time": "2021-12-03T09:30:01.765085Z"
    }
   },
   "outputs": [
    {
     "data": {
      "text/plain": [
       "3875"
      ]
     },
     "execution_count": 51,
     "metadata": {},
     "output_type": "execute_result"
    }
   ],
   "source": [
    "gamma = int(''.join([str(b) for b in gamma_arr]), 2)\n",
    "gamma"
   ]
  },
  {
   "cell_type": "code",
   "execution_count": 52,
   "id": "a7eaa7d9",
   "metadata": {
    "ExecuteTime": {
     "end_time": "2021-12-03T09:30:02.040710Z",
     "start_time": "2021-12-03T09:30:02.037848Z"
    }
   },
   "outputs": [],
   "source": [
    "epsilon_arr = (~gamma_arr.astype(bool)).astype(int)"
   ]
  },
  {
   "cell_type": "code",
   "execution_count": 53,
   "id": "2f007505",
   "metadata": {
    "ExecuteTime": {
     "end_time": "2021-12-03T09:30:02.887336Z",
     "start_time": "2021-12-03T09:30:02.879547Z"
    }
   },
   "outputs": [
    {
     "data": {
      "text/plain": [
       "220"
      ]
     },
     "execution_count": 53,
     "metadata": {},
     "output_type": "execute_result"
    }
   ],
   "source": [
    "epsilon = int(''.join([str(b) for b in epsilon_arr]), 2)\n",
    "epsilon"
   ]
  },
  {
   "cell_type": "code",
   "execution_count": 55,
   "id": "b2c2d085",
   "metadata": {
    "ExecuteTime": {
     "end_time": "2021-12-03T09:30:08.834238Z",
     "start_time": "2021-12-03T09:30:08.826684Z"
    }
   },
   "outputs": [
    {
     "data": {
      "text/plain": [
       "852500"
      ]
     },
     "execution_count": 55,
     "metadata": {},
     "output_type": "execute_result"
    }
   ],
   "source": [
    "gamma*epsilon"
   ]
  },
  {
   "cell_type": "markdown",
   "id": "263f2a1c",
   "metadata": {},
   "source": [
    "# Part 2"
   ]
  },
  {
   "cell_type": "code",
   "execution_count": 107,
   "id": "5600692a",
   "metadata": {
    "ExecuteTime": {
     "end_time": "2021-12-03T09:49:53.162585Z",
     "start_time": "2021-12-03T09:49:53.151419Z"
    }
   },
   "outputs": [],
   "source": [
    "def get_rating(bits, invert=False):\n",
    "    bits2 = bits\n",
    "    for iteration in range(bits.shape[1]):\n",
    "        most_common = np.median(bits2[:,iteration])\n",
    "        if most_common == .5:\n",
    "            most_common = 1\n",
    "        if invert:\n",
    "            most_common = 1 - most_common\n",
    "        sel = bits2[:,iteration] == most_common\n",
    "        bits2 = bits2[sel]\n",
    "        if bits2.shape[0] == 1:\n",
    "            break\n",
    "    val = int(''.join([str(b) for b in bits2[0]]), 2)\n",
    "    return val"
   ]
  },
  {
   "cell_type": "code",
   "execution_count": 108,
   "id": "54930cf4",
   "metadata": {
    "ExecuteTime": {
     "end_time": "2021-12-03T09:49:53.637524Z",
     "start_time": "2021-12-03T09:49:53.629760Z"
    }
   },
   "outputs": [
    {
     "data": {
      "text/plain": [
       "2235"
      ]
     },
     "execution_count": 108,
     "metadata": {},
     "output_type": "execute_result"
    }
   ],
   "source": [
    "ox_rating = get_rating(bits)\n",
    "ox_rating"
   ]
  },
  {
   "cell_type": "code",
   "execution_count": 110,
   "id": "4f5c2a60",
   "metadata": {
    "ExecuteTime": {
     "end_time": "2021-12-03T09:49:58.291947Z",
     "start_time": "2021-12-03T09:49:58.284616Z"
    }
   },
   "outputs": [
    {
     "data": {
      "text/plain": [
       "451"
      ]
     },
     "execution_count": 110,
     "metadata": {},
     "output_type": "execute_result"
    }
   ],
   "source": [
    "co2_rating = get_rating(bits, invert=True)\n",
    "co2_rating"
   ]
  },
  {
   "cell_type": "code",
   "execution_count": 111,
   "id": "71e17361",
   "metadata": {
    "ExecuteTime": {
     "end_time": "2021-12-03T09:50:31.106909Z",
     "start_time": "2021-12-03T09:50:31.100440Z"
    }
   },
   "outputs": [
    {
     "data": {
      "text/plain": [
       "1007985"
      ]
     },
     "execution_count": 111,
     "metadata": {},
     "output_type": "execute_result"
    }
   ],
   "source": [
    "ox_rating * co2_rating"
   ]
  },
  {
   "cell_type": "code",
   "execution_count": null,
   "id": "9e495269",
   "metadata": {},
   "outputs": [],
   "source": []
  }
 ],
 "metadata": {
  "kernelspec": {
   "display_name": "Python 3",
   "language": "python",
   "name": "python3"
  },
  "language_info": {
   "codemirror_mode": {
    "name": "ipython",
    "version": 3
   },
   "file_extension": ".py",
   "mimetype": "text/x-python",
   "name": "python",
   "nbconvert_exporter": "python",
   "pygments_lexer": "ipython3",
   "version": "3.8.12"
  }
 },
 "nbformat": 4,
 "nbformat_minor": 5
}
