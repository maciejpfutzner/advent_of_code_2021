{
 "cells": [
  {
   "cell_type": "code",
   "execution_count": 3,
   "id": "8ab77cc4",
   "metadata": {
    "ExecuteTime": {
     "end_time": "2021-12-06T13:24:22.008088Z",
     "start_time": "2021-12-06T13:24:22.002698Z"
    }
   },
   "outputs": [],
   "source": [
    "data_fname = 'day6_fish_initial.txt'\n",
    "with open(data_fname, 'r') as datafile:\n",
    "    initial = [int(l) for l in datafile.read().split(',')]"
   ]
  },
  {
   "cell_type": "code",
   "execution_count": 5,
   "id": "d9b496cb",
   "metadata": {
    "ExecuteTime": {
     "end_time": "2021-12-06T13:24:30.952431Z",
     "start_time": "2021-12-06T13:24:30.946518Z"
    },
    "scrolled": false
   },
   "outputs": [
    {
     "data": {
      "text/plain": [
       "300"
      ]
     },
     "execution_count": 5,
     "metadata": {},
     "output_type": "execute_result"
    }
   ],
   "source": [
    "len(initial)"
   ]
  },
  {
   "cell_type": "markdown",
   "id": "d5267d4d",
   "metadata": {},
   "source": [
    "# Part 1"
   ]
  },
  {
   "cell_type": "code",
   "execution_count": 10,
   "id": "73a1c28c",
   "metadata": {
    "ExecuteTime": {
     "end_time": "2021-12-06T13:27:53.127949Z",
     "start_time": "2021-12-06T13:27:53.121669Z"
    }
   },
   "outputs": [],
   "source": [
    "class Fish:\n",
    "    def __init__(self, age=8):\n",
    "        self.age = age\n",
    "    \n",
    "    def spawn(self):\n",
    "        self.age = 6\n",
    "        return Fish()\n",
    "    \n",
    "    def tick(self):\n",
    "        self.age -= 1\n",
    "        if self.age < 0:\n",
    "            return self.spawn()\n",
    "        else:\n",
    "            return\n",
    "        \n",
    "    def __repr__(self):\n",
    "        return f'Fish({self.age})'"
   ]
  },
  {
   "cell_type": "code",
   "execution_count": 29,
   "id": "bdbb0f36",
   "metadata": {
    "ExecuteTime": {
     "end_time": "2021-12-06T13:32:47.514135Z",
     "start_time": "2021-12-06T13:32:46.136262Z"
    }
   },
   "outputs": [
    {
     "name": "stdout",
     "output_type": "stream",
     "text": [
      "Starting day 0 with 300 fishes\n",
      "Adding 0 new fishes\n",
      "Starting day 1 with 300 fishes\n",
      "Adding 90 new fishes\n",
      "Starting day 2 with 390 fishes\n",
      "Adding 72 new fishes\n",
      "Starting day 3 with 462 fishes\n",
      "Adding 28 new fishes\n",
      "Starting day 4 with 490 fishes\n",
      "Adding 55 new fishes\n",
      "Starting day 5 with 545 fishes\n",
      "Adding 55 new fishes\n",
      "Starting day 6 with 600 fishes\n",
      "Adding 0 new fishes\n",
      "Starting day 7 with 600 fishes\n",
      "Adding 0 new fishes\n",
      "Starting day 8 with 600 fishes\n",
      "Adding 90 new fishes\n",
      "Starting day 9 with 690 fishes\n",
      "Adding 72 new fishes\n",
      "Starting day 10 with 762 fishes\n",
      "Adding 118 new fishes\n",
      "Starting day 11 with 880 fishes\n",
      "Adding 127 new fishes\n",
      "Starting day 12 with 1007 fishes\n",
      "Adding 83 new fishes\n",
      "Starting day 13 with 1090 fishes\n",
      "Adding 55 new fishes\n",
      "Starting day 14 with 1145 fishes\n",
      "Adding 55 new fishes\n",
      "Starting day 15 with 1200 fishes\n",
      "Adding 90 new fishes\n",
      "Starting day 16 with 1290 fishes\n",
      "Adding 72 new fishes\n",
      "Starting day 17 with 1362 fishes\n",
      "Adding 208 new fishes\n",
      "Starting day 18 with 1570 fishes\n",
      "Adding 199 new fishes\n",
      "Starting day 19 with 1769 fishes\n",
      "Adding 201 new fishes\n",
      "Starting day 20 with 1970 fishes\n",
      "Adding 182 new fishes\n",
      "Starting day 21 with 2152 fishes\n",
      "Adding 138 new fishes\n",
      "Starting day 22 with 2290 fishes\n",
      "Adding 145 new fishes\n",
      "Starting day 23 with 2435 fishes\n",
      "Adding 127 new fishes\n",
      "Starting day 24 with 2562 fishes\n",
      "Adding 298 new fishes\n",
      "Starting day 25 with 2860 fishes\n",
      "Adding 271 new fishes\n",
      "Starting day 26 with 3131 fishes\n",
      "Adding 409 new fishes\n",
      "Starting day 27 with 3540 fishes\n",
      "Adding 381 new fishes\n",
      "Starting day 28 with 3921 fishes\n",
      "Adding 339 new fishes\n",
      "Starting day 29 with 4260 fishes\n",
      "Adding 327 new fishes\n",
      "Starting day 30 with 4587 fishes\n",
      "Adding 265 new fishes\n",
      "Starting day 31 with 4852 fishes\n",
      "Adding 443 new fishes\n",
      "Starting day 32 with 5295 fishes\n",
      "Adding 398 new fishes\n",
      "Starting day 33 with 5693 fishes\n",
      "Adding 707 new fishes\n",
      "Starting day 34 with 6400 fishes\n",
      "Adding 652 new fishes\n",
      "Starting day 35 with 7052 fishes\n",
      "Adding 748 new fishes\n",
      "Starting day 36 with 7800 fishes\n",
      "Adding 708 new fishes\n",
      "Starting day 37 with 8508 fishes\n",
      "Adding 604 new fishes\n",
      "Starting day 38 with 9112 fishes\n",
      "Adding 770 new fishes\n",
      "Starting day 39 with 9882 fishes\n",
      "Adding 663 new fishes\n",
      "Starting day 40 with 10545 fishes\n",
      "Adding 1150 new fishes\n",
      "Starting day 41 with 11695 fishes\n",
      "Adding 1050 new fishes\n",
      "Starting day 42 with 12745 fishes\n",
      "Adding 1455 new fishes\n",
      "Starting day 43 with 14200 fishes\n",
      "Adding 1360 new fishes\n",
      "Starting day 44 with 15560 fishes\n",
      "Adding 1352 new fishes\n",
      "Starting day 45 with 16912 fishes\n",
      "Adding 1478 new fishes\n",
      "Starting day 46 with 18390 fishes\n",
      "Adding 1267 new fishes\n",
      "Starting day 47 with 19657 fishes\n",
      "Adding 1920 new fishes\n",
      "Starting day 48 with 21577 fishes\n",
      "Adding 1713 new fishes\n",
      "Starting day 49 with 23290 fishes\n",
      "Adding 2605 new fishes\n",
      "Starting day 50 with 25895 fishes\n",
      "Adding 2410 new fishes\n",
      "Starting day 51 with 28305 fishes\n",
      "Adding 2807 new fishes\n",
      "Starting day 52 with 31112 fishes\n",
      "Adding 2838 new fishes\n",
      "Starting day 53 with 33950 fishes\n",
      "Adding 2619 new fishes\n",
      "Starting day 54 with 36569 fishes\n",
      "Adding 3398 new fishes\n",
      "Starting day 55 with 39967 fishes\n",
      "Adding 2980 new fishes\n",
      "Starting day 56 with 42947 fishes\n",
      "Adding 4525 new fishes\n",
      "Starting day 57 with 47472 fishes\n",
      "Adding 4123 new fishes\n",
      "Starting day 58 with 51595 fishes\n",
      "Adding 5412 new fishes\n",
      "Starting day 59 with 57007 fishes\n",
      "Adding 5248 new fishes\n",
      "Starting day 60 with 62255 fishes\n",
      "Adding 5426 new fishes\n",
      "Starting day 61 with 67681 fishes\n",
      "Adding 6236 new fishes\n",
      "Starting day 62 with 73917 fishes\n",
      "Adding 5599 new fishes\n",
      "Starting day 63 with 79516 fishes\n",
      "Adding 7923 new fishes\n",
      "Starting day 64 with 87439 fishes\n",
      "Adding 7103 new fishes\n",
      "Starting day 65 with 94542 fishes\n",
      "Adding 9937 new fishes\n",
      "Starting day 66 with 104479 fishes\n",
      "Adding 9371 new fishes\n",
      "Starting day 67 with 113850 fishes\n",
      "Adding 10838 new fishes\n",
      "Starting day 68 with 124688 fishes\n",
      "Adding 11484 new fishes\n",
      "Starting day 69 with 136172 fishes\n",
      "Adding 11025 new fishes\n",
      "Starting day 70 with 147197 fishes\n",
      "Adding 14159 new fishes\n",
      "Starting day 71 with 161356 fishes\n",
      "Adding 12702 new fishes\n",
      "Starting day 72 with 174058 fishes\n",
      "Adding 17860 new fishes\n",
      "Starting day 73 with 191918 fishes\n",
      "Adding 16474 new fishes\n",
      "Starting day 74 with 208392 fishes\n",
      "Adding 20775 new fishes\n",
      "Starting day 75 with 229167 fishes\n",
      "Adding 20855 new fishes\n",
      "Starting day 76 with 250022 fishes\n",
      "Adding 21863 new fishes\n",
      "Starting day 77 with 271885 fishes\n",
      "Adding 25643 new fishes\n",
      "Starting day 78 with 297528 fishes\n",
      "Adding 23727 new fishes\n",
      "Starting day 79 with 321255 fishes\n",
      "Adding 32019 new fishes\n"
     ]
    }
   ],
   "source": [
    "fishes = [Fish(age) for age in initial]\n",
    "\n",
    "for i in range(0, 80):\n",
    "    print(f'Starting day {i} with {len(fishes)} fishes')\n",
    "    new_fishes = [f for f in [f.tick() for f in fishes] if f is not None]\n",
    "    fishes.extend(new_fishes)\n",
    "    print(f'Adding {len(new_fishes)} new fishes')"
   ]
  },
  {
   "cell_type": "code",
   "execution_count": 26,
   "id": "b460631d",
   "metadata": {
    "ExecuteTime": {
     "end_time": "2021-12-06T13:31:06.353493Z",
     "start_time": "2021-12-06T13:31:06.347696Z"
    }
   },
   "outputs": [
    {
     "data": {
      "text/plain": [
       "353274"
      ]
     },
     "execution_count": 26,
     "metadata": {},
     "output_type": "execute_result"
    }
   ],
   "source": [
    "len(fishes)"
   ]
  },
  {
   "cell_type": "markdown",
   "id": "0cb427d9",
   "metadata": {},
   "source": [
    "# Part 2\n",
    "Now we need to vectorise it"
   ]
  },
  {
   "cell_type": "code",
   "execution_count": 46,
   "id": "292de0e7",
   "metadata": {
    "ExecuteTime": {
     "end_time": "2021-12-06T13:38:04.707321Z",
     "start_time": "2021-12-06T13:38:04.702974Z"
    }
   },
   "outputs": [],
   "source": [
    "from collections import Counter, defaultdict"
   ]
  },
  {
   "cell_type": "code",
   "execution_count": 62,
   "id": "0e78af8f",
   "metadata": {
    "ExecuteTime": {
     "end_time": "2021-12-06T13:42:51.603654Z",
     "start_time": "2021-12-06T13:42:51.596640Z"
    }
   },
   "outputs": [],
   "source": [
    "def tick(age_counter):\n",
    "    # Remove 1 day from all ages\n",
    "    new_counter = defaultdict(int, {a-1: n for a,n in age_counter.items()})\n",
    "    \n",
    "    # Remove all the overdue fishes\n",
    "    spawning_fishes = new_counter.pop(-1, 0)\n",
    "    \n",
    "    # Add them back with counter 6\n",
    "    new_counter[6] += spawning_fishes\n",
    "    # And add the same number of new fishes\n",
    "    new_counter[8] += spawning_fishes\n",
    "    \n",
    "    return new_counter"
   ]
  },
  {
   "cell_type": "code",
   "execution_count": 63,
   "id": "4e10644e",
   "metadata": {
    "ExecuteTime": {
     "end_time": "2021-12-06T13:43:12.141149Z",
     "start_time": "2021-12-06T13:43:12.134148Z"
    }
   },
   "outputs": [],
   "source": [
    "age_counter = Counter(initial)\n",
    "\n",
    "for i in range(256):\n",
    "    age_counter = tick(age_counter)"
   ]
  },
  {
   "cell_type": "code",
   "execution_count": 64,
   "id": "b5cf932a",
   "metadata": {
    "ExecuteTime": {
     "end_time": "2021-12-06T13:43:12.893778Z",
     "start_time": "2021-12-06T13:43:12.887115Z"
    }
   },
   "outputs": [
    {
     "data": {
      "text/plain": [
       "1609314870967"
      ]
     },
     "execution_count": 64,
     "metadata": {},
     "output_type": "execute_result"
    }
   ],
   "source": [
    "sum(age_counter.values())"
   ]
  },
  {
   "cell_type": "code",
   "execution_count": null,
   "id": "4ff2ba10",
   "metadata": {},
   "outputs": [],
   "source": []
  }
 ],
 "metadata": {
  "kernelspec": {
   "display_name": "Python 3",
   "language": "python",
   "name": "python3"
  },
  "language_info": {
   "codemirror_mode": {
    "name": "ipython",
    "version": 3
   },
   "file_extension": ".py",
   "mimetype": "text/x-python",
   "name": "python",
   "nbconvert_exporter": "python",
   "pygments_lexer": "ipython3",
   "version": "3.8.12"
  }
 },
 "nbformat": 4,
 "nbformat_minor": 5
}
