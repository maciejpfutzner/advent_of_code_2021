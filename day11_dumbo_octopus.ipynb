{
 "cells": [
  {
   "cell_type": "code",
   "execution_count": 283,
   "id": "53b60d53",
   "metadata": {
    "ExecuteTime": {
     "end_time": "2021-12-11T10:49:01.318710Z",
     "start_time": "2021-12-11T10:49:01.290136Z"
    }
   },
   "outputs": [],
   "source": [
    "import numpy as np\n",
    "\n",
    "from matplotlib import pyplot as plt\n",
    "from PIL import Image\n",
    "import imageio"
   ]
  },
  {
   "cell_type": "code",
   "execution_count": 339,
   "id": "e7e6d4d8",
   "metadata": {
    "ExecuteTime": {
     "end_time": "2021-12-11T11:17:31.369376Z",
     "start_time": "2021-12-11T11:17:31.363520Z"
    }
   },
   "outputs": [],
   "source": [
    "data_filename = 'day11_dumbo.txt'\n",
    "with open(data_filename) as datafile:\n",
    "    data_orig = [l.strip() for l in datafile.readlines()]"
   ]
  },
  {
   "cell_type": "code",
   "execution_count": 340,
   "id": "1d784b31",
   "metadata": {
    "ExecuteTime": {
     "end_time": "2021-12-11T11:17:31.669768Z",
     "start_time": "2021-12-11T11:17:31.661698Z"
    }
   },
   "outputs": [
    {
     "data": {
      "text/plain": [
       "array([[1, 4, 4, 3, 6, 6, 8, 6, 4, 6],\n",
       "       [7, 6, 8, 6, 7, 3, 5, 7, 1, 6],\n",
       "       [4, 2, 6, 1, 5, 7, 6, 2, 3, 1],\n",
       "       [3, 3, 6, 1, 2, 5, 8, 6, 5, 4],\n",
       "       [4, 8, 5, 2, 5, 3, 2, 6, 1, 1],\n",
       "       [5, 5, 8, 7, 1, 1, 3, 7, 3, 2],\n",
       "       [1, 2, 2, 4, 4, 2, 6, 7, 5, 7],\n",
       "       [5, 1, 5, 5, 5, 6, 5, 1, 3, 3],\n",
       "       [6, 4, 8, 8, 3, 7, 7, 8, 6, 2],\n",
       "       [8, 2, 6, 7, 8, 3, 3, 8, 1, 1]])"
      ]
     },
     "execution_count": 340,
     "metadata": {},
     "output_type": "execute_result"
    }
   ],
   "source": [
    "data_orig = np.array([[d for d in row] for row in data_orig]).astype(int)\n",
    "data_orig"
   ]
  },
  {
   "cell_type": "markdown",
   "id": "36841431",
   "metadata": {},
   "source": [
    "# Part 1"
   ]
  },
  {
   "cell_type": "code",
   "execution_count": 341,
   "id": "80566f0a",
   "metadata": {
    "ExecuteTime": {
     "end_time": "2021-12-11T11:17:32.372706Z",
     "start_time": "2021-12-11T11:17:32.366915Z"
    }
   },
   "outputs": [],
   "source": [
    "def find_neighbours(x, y):\n",
    "    result = []\n",
    "    for x_new in range(x-1, x+2):\n",
    "        if x_new >= 0 and x_new < 10:\n",
    "            for y_new in range(y-1, y+2):\n",
    "                if y_new >= 0 and y_new < 10:\n",
    "                    result.append((x_new, y_new))\n",
    "    result.remove((x, y))\n",
    "    return result"
   ]
  },
  {
   "cell_type": "code",
   "execution_count": 356,
   "id": "7649e4e7",
   "metadata": {
    "ExecuteTime": {
     "end_time": "2021-12-11T11:22:28.562410Z",
     "start_time": "2021-12-11T11:22:28.555224Z"
    }
   },
   "outputs": [
    {
     "data": {
      "text/plain": [
       "[(4, 4), (4, 5), (4, 6), (5, 4), (5, 6), (6, 4), (6, 5), (6, 6)]"
      ]
     },
     "execution_count": 356,
     "metadata": {},
     "output_type": "execute_result"
    }
   ],
   "source": [
    "find_neighbours(5,5)"
   ]
  },
  {
   "cell_type": "code",
   "execution_count": 342,
   "id": "b2edbf3d",
   "metadata": {
    "ExecuteTime": {
     "end_time": "2021-12-11T11:17:32.979775Z",
     "start_time": "2021-12-11T11:17:32.972597Z"
    }
   },
   "outputs": [
    {
     "data": {
      "text/plain": [
       "array([[1, 4, 4, 3, 6, 6, 8, 6, 4, 6],\n",
       "       [7, 6, 8, 6, 7, 3, 5, 7, 1, 6],\n",
       "       [4, 2, 6, 1, 5, 7, 6, 2, 3, 1],\n",
       "       [3, 3, 6, 1, 2, 5, 8, 6, 5, 4],\n",
       "       [4, 8, 5, 2, 5, 3, 2, 6, 1, 1],\n",
       "       [5, 5, 8, 7, 1, 1, 3, 7, 3, 2],\n",
       "       [1, 2, 2, 4, 4, 2, 6, 7, 5, 7],\n",
       "       [5, 1, 5, 5, 5, 6, 5, 1, 3, 3],\n",
       "       [6, 4, 8, 8, 3, 7, 7, 8, 6, 2],\n",
       "       [8, 2, 6, 7, 8, 3, 3, 8, 1, 1]])"
      ]
     },
     "execution_count": 342,
     "metadata": {},
     "output_type": "execute_result"
    }
   ],
   "source": [
    "data = data_orig.copy()\n",
    "data"
   ]
  },
  {
   "cell_type": "code",
   "execution_count": 349,
   "id": "f6aa2ef6",
   "metadata": {
    "ExecuteTime": {
     "end_time": "2021-12-11T11:18:36.569521Z",
     "start_time": "2021-12-11T11:18:36.562922Z"
    }
   },
   "outputs": [
    {
     "data": {
      "text/plain": [
       "array([[False, False, False, False,  True,  True,  True,  True, False,\n",
       "         True],\n",
       "       [ True,  True,  True,  True,  True, False, False,  True, False,\n",
       "         True],\n",
       "       [False, False,  True, False, False,  True,  True, False, False,\n",
       "        False],\n",
       "       [False, False,  True, False, False, False,  True,  True, False,\n",
       "        False],\n",
       "       [False,  True, False, False, False, False, False,  True, False,\n",
       "        False],\n",
       "       [False, False,  True,  True, False, False, False,  True, False,\n",
       "        False],\n",
       "       [False, False, False, False, False, False,  True,  True, False,\n",
       "         True],\n",
       "       [False, False, False, False, False,  True, False, False, False,\n",
       "        False],\n",
       "       [ True, False,  True,  True, False,  True,  True,  True,  True,\n",
       "        False],\n",
       "       [ True, False,  True,  True,  True, False, False,  True, False,\n",
       "        False]])"
      ]
     },
     "execution_count": 349,
     "metadata": {},
     "output_type": "execute_result"
    }
   ],
   "source": [
    "arr = data > 5\n",
    "arr"
   ]
  },
  {
   "cell_type": "code",
   "execution_count": 301,
   "id": "526cdb3b",
   "metadata": {
    "ExecuteTime": {
     "end_time": "2021-12-11T10:57:37.764330Z",
     "start_time": "2021-12-11T10:57:37.757522Z"
    }
   },
   "outputs": [],
   "source": [
    "def step(data):\n",
    "    data = data + 1\n",
    "    flashed = np.zeros_like(data).astype(bool)\n",
    "    to_flash = ((data > 9) & ~flashed)\n",
    "    \n",
    "    while to_flash.sum() > 0:\n",
    "        # Find all indices of flashing points\n",
    "        coords = np.where(to_flash)\n",
    "        \n",
    "        # Add 1 to all neighbours\n",
    "        for x, y in zip(*coords):\n",
    "            neighbours = find_neighbours(x, y)\n",
    "            for xn, yn in neighbours:\n",
    "                data[xn, yn] += 1\n",
    "                \n",
    "        # Mark them as flashed\n",
    "        flashed[coords] = True\n",
    "        to_flash = ((data > 9) & ~flashed)\n",
    "        #print(to_flash.sum(), 'to flash')\n",
    "        \n",
    "    # Reset all flashed cells to 0\n",
    "    data[flashed] = 0\n",
    "    \n",
    "    return data, flashed"
   ]
  },
  {
   "cell_type": "code",
   "execution_count": 302,
   "id": "792d7ec1",
   "metadata": {
    "ExecuteTime": {
     "end_time": "2021-12-11T10:57:40.196286Z",
     "start_time": "2021-12-11T10:57:40.190187Z"
    }
   },
   "outputs": [],
   "source": [
    "cm = plt.get_cmap('viridis')\n",
    "def save_img(data, i):\n",
    "    img_scale = np.kron(data, np.ones((20, 20)))\n",
    "    img = Image.fromarray((cm(img_scale)[:, :, :3] * 255).astype(np.uint8))\n",
    "    img.save(f'animation_day11/{i}.png')"
   ]
  },
  {
   "cell_type": "code",
   "execution_count": 303,
   "id": "40995658",
   "metadata": {
    "ExecuteTime": {
     "end_time": "2021-12-11T10:57:41.166758Z",
     "start_time": "2021-12-11T10:57:40.536119Z"
    }
   },
   "outputs": [
    {
     "name": "stdout",
     "output_type": "stream",
     "text": [
      "1743\n"
     ]
    },
    {
     "data": {
      "text/plain": [
       "<matplotlib.image.AxesImage at 0x11f9a6c70>"
      ]
     },
     "execution_count": 303,
     "metadata": {},
     "output_type": "execute_result"
    },
    {
     "data": {
      "image/png": "[encoded data removed]",
      "text/plain": [
       "<Figure size 432x288 with 1 Axes>"
      ]
     },
     "metadata": {
      "needs_background": "light"
     },
     "output_type": "display_data"
    }
   ],
   "source": [
    "data = data_orig.copy()\n",
    "total_flashes = 0\n",
    "\n",
    "for i in range(100):\n",
    "    data, flashed = step(data)\n",
    "    total_flashes += flashed.sum()\n",
    "    #save_img(flashed, i)\n",
    "print(total_flashes)\n",
    "plt.imshow(data)"
   ]
  },
  {
   "cell_type": "markdown",
   "id": "82a2d52d",
   "metadata": {},
   "source": [
    "# Part 2"
   ]
  },
  {
   "cell_type": "code",
   "execution_count": 309,
   "id": "584a1495",
   "metadata": {
    "ExecuteTime": {
     "end_time": "2021-12-11T10:59:00.254202Z",
     "start_time": "2021-12-11T10:58:58.509677Z"
    }
   },
   "outputs": [
    {
     "name": "stdout",
     "output_type": "stream",
     "text": [
      "364\n"
     ]
    },
    {
     "data": {
      "text/plain": [
       "<matplotlib.image.AxesImage at 0x11fa6e460>"
      ]
     },
     "execution_count": 309,
     "metadata": {},
     "output_type": "execute_result"
    },
    {
     "data": {
      "image/png": "[encoded data removed]",
      "text/plain": [
       "<Figure size 432x288 with 1 Axes>"
      ]
     },
     "metadata": {
      "needs_background": "light"
     },
     "output_type": "display_data"
    }
   ],
   "source": [
    "data = data_orig.copy()\n",
    "\n",
    "for i in range(10_000):\n",
    "    data, flashed = step(data)\n",
    "    save_img(flashed, i)\n",
    "    if flashed.all():\n",
    "        print(i + 1)\n",
    "        break\n",
    "        \n",
    "plt.imshow(flashed)"
   ]
  },
  {
   "cell_type": "markdown",
   "id": "6fb76b24",
   "metadata": {},
   "source": [
    "# Make a gif"
   ]
  },
  {
   "cell_type": "code",
   "execution_count": 310,
   "id": "8850565c",
   "metadata": {
    "ExecuteTime": {
     "end_time": "2021-12-11T10:59:03.235771Z",
     "start_time": "2021-12-11T10:59:03.231773Z"
    }
   },
   "outputs": [],
   "source": [
    "import os"
   ]
  },
  {
   "cell_type": "code",
   "execution_count": 311,
   "id": "a04be572",
   "metadata": {
    "ExecuteTime": {
     "end_time": "2021-12-11T10:59:04.627421Z",
     "start_time": "2021-12-11T10:59:03.503501Z"
    }
   },
   "outputs": [],
   "source": [
    "fnames = os.listdir('animation_day11/')\n",
    "images = []\n",
    "for filename in fnames:\n",
    "    image = imageio.imread(f'animation_day11/{filename}')\n",
    "    images.append(image)\n",
    "imageio.mimsave('animation_day11.gif', images, fps=5)"
   ]
  },
  {
   "cell_type": "markdown",
   "id": "de6f8472",
   "metadata": {},
   "source": [
    "### Result\n",
    "![SegmentLocal](animation_day11.gif \"segment\")"
   ]
  },
  {
   "cell_type": "code",
   "execution_count": null,
   "id": "0529da0b",
   "metadata": {},
   "outputs": [],
   "source": []
  }
 ],
 "metadata": {
  "kernelspec": {
   "display_name": "Python 3",
   "language": "python",
   "name": "python3"
  },
  "language_info": {
   "codemirror_mode": {
    "name": "ipython",
    "version": 3
   },
   "file_extension": ".py",
   "mimetype": "text/x-python",
   "name": "python",
   "nbconvert_exporter": "python",
   "pygments_lexer": "ipython3",
   "version": "3.8.12"
  }
 },
 "nbformat": 4,
 "nbformat_minor": 5
}
