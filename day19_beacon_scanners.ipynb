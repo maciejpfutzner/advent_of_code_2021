{
 "cells": [
  {
   "cell_type": "code",
   "execution_count": 848,
   "id": "36c5ec83",
   "metadata": {
    "ExecuteTime": {
     "end_time": "2021-12-20T10:17:42.012193Z",
     "start_time": "2021-12-20T10:17:42.008462Z"
    }
   },
   "outputs": [],
   "source": [
    "import re\n",
    "import numpy as np\n",
    "from collections import defaultdict"
   ]
  },
  {
   "cell_type": "code",
   "execution_count": 849,
   "id": "bc845431",
   "metadata": {
    "ExecuteTime": {
     "end_time": "2021-12-20T10:17:42.023090Z",
     "start_time": "2021-12-20T10:17:42.016244Z"
    }
   },
   "outputs": [],
   "source": [
    "def load_scans(filename='day19_scanners.txt'):\n",
    "    with open(filename) as infile:\n",
    "        scanners = infile.read().split('\\n\\n')\n",
    "\n",
    "    scans = {}\n",
    "    for scanner_data in scanners:\n",
    "        scanner_data = scanner_data.split('\\n')\n",
    "        n_scanner = int(re.findall('\\d+', scanner_data[0])[0])\n",
    "        data = np.array([[int(c) for c in r.split(',')]\n",
    "                         for r in scanner_data[1:]])\n",
    "        scans[n_scanner] = data\n",
    "    scans = [scans[i] for i in range(len(scans))]\n",
    "    return scans"
   ]
  },
  {
   "cell_type": "code",
   "execution_count": 850,
   "id": "c994f5e8",
   "metadata": {
    "ExecuteTime": {
     "end_time": "2021-12-20T10:17:42.033265Z",
     "start_time": "2021-12-20T10:17:42.026966Z"
    }
   },
   "outputs": [],
   "source": [
    "scans = load_scans()\n",
    "ex_scans = load_scans('day19_example.txt')"
   ]
  },
  {
   "cell_type": "code",
   "execution_count": 851,
   "id": "4e85688a",
   "metadata": {
    "ExecuteTime": {
     "end_time": "2021-12-20T10:17:42.039581Z",
     "start_time": "2021-12-20T10:17:42.036709Z"
    }
   },
   "outputs": [],
   "source": [
    "scans = ex_scans"
   ]
  },
  {
   "cell_type": "markdown",
   "id": "844d3795",
   "metadata": {},
   "source": [
    "# Part 1"
   ]
  },
  {
   "cell_type": "code",
   "execution_count": 858,
   "id": "6446784a",
   "metadata": {
    "ExecuteTime": {
     "end_time": "2021-12-20T10:18:15.803079Z",
     "start_time": "2021-12-20T10:18:15.796123Z"
    }
   },
   "outputs": [
    {
     "name": "stdout",
     "output_type": "stream",
     "text": [
      "(25, 3)\n",
      "[-892 -824 -901]\n",
      "[630 900 763]\n",
      "\n",
      "(25, 3)\n",
      "[-500 -763 -893]\n",
      "[807 935 858]\n",
      "\n",
      "(26, 3)\n",
      "[-889 -892 -804]\n",
      "[697 759 800]\n",
      "\n",
      "(25, 3)\n",
      "[-938 -903 -870]\n",
      "[647 780 750]\n",
      "\n",
      "(26, 3)\n",
      "[-743 -632 -822]\n",
      "[927 719 876]\n",
      "\n"
     ]
    }
   ],
   "source": [
    "for data in scans:\n",
    "    print(data.shape)\n",
    "    print(data.min(axis=0))\n",
    "    print(data.max(axis=0))\n",
    "    print()"
   ]
  },
  {
   "cell_type": "markdown",
   "id": "ca258aab",
   "metadata": {},
   "source": [
    "### Find all coordinate transformations"
   ]
  },
  {
   "cell_type": "code",
   "execution_count": 859,
   "id": "28ebb110",
   "metadata": {
    "ExecuteTime": {
     "end_time": "2021-12-20T10:18:16.920357Z",
     "start_time": "2021-12-20T10:18:16.912818Z"
    }
   },
   "outputs": [
    {
     "data": {
      "text/plain": [
       "[array([1, 0, 0]), array([0, 1, 0]), array([0, 0, 1])]"
      ]
     },
     "execution_count": 859,
     "metadata": {},
     "output_type": "execute_result"
    }
   ],
   "source": [
    "# Must be a nicer way to do this\n",
    "units = []\n",
    "for i in range(3):\n",
    "    tmp = np.array([0, 0, 0])\n",
    "    tmp[i] += 1\n",
    "    units.append(tmp)\n",
    "units"
   ]
  },
  {
   "cell_type": "code",
   "execution_count": 860,
   "id": "3b418c45",
   "metadata": {
    "ExecuteTime": {
     "end_time": "2021-12-20T10:18:17.109702Z",
     "start_time": "2021-12-20T10:18:17.100129Z"
    }
   },
   "outputs": [
    {
     "data": {
      "text/plain": [
       "24"
      ]
     },
     "execution_count": 860,
     "metadata": {},
     "output_type": "execute_result"
    }
   ],
   "source": [
    "rotations = []\n",
    "for xdir in range(3):\n",
    "    for xsign in [1, -1]:\n",
    "        for ydir in set(range(3)) - {xdir}:\n",
    "            if ydir != xdir:\n",
    "                for ysign in [1, -1]:\n",
    "                    zdir = (set(range(3)) - {xdir, ydir}).pop()\n",
    "                    if str(xdir)+str(ydir) in '0120':\n",
    "                        zsign = xsign*ysign\n",
    "                    else:\n",
    "                        zsign = -xsign*ysign \n",
    "                    x = units[xdir] * xsign\n",
    "                    y = units[ydir] * ysign\n",
    "                    z = units[zdir] * zsign\n",
    "                    rot = np.array([x,y,z])\n",
    "                    rotations.append(rot)\n",
    "                    #print(rot)\n",
    "len({tuple(tuple(c) for c in r) for r in orientations})"
   ]
  },
  {
   "cell_type": "code",
   "execution_count": 861,
   "id": "a7c2f05c",
   "metadata": {
    "ExecuteTime": {
     "end_time": "2021-12-20T10:18:19.587806Z",
     "start_time": "2021-12-20T10:18:19.583085Z"
    }
   },
   "outputs": [],
   "source": [
    "vecs = [\n",
    "    [-1,-1,1],\n",
    "    [-2,-2,2],\n",
    "    [-3,-3,3],\n",
    "    [-2,-3,1],\n",
    "    [5,6,-4],\n",
    "    [8,0,7]\n",
    "]\n",
    "\n",
    "#for rot in rotations:\n",
    "#    for vec in vecs:\n",
    "#        print(rot.dot(vec))\n",
    "#    print()"
   ]
  },
  {
   "cell_type": "markdown",
   "id": "256d20eb",
   "metadata": {},
   "source": [
    "### Try brute force approach"
   ]
  },
  {
   "cell_type": "code",
   "execution_count": 862,
   "id": "9b0b9286",
   "metadata": {
    "ExecuteTime": {
     "end_time": "2021-12-20T10:18:19.594884Z",
     "start_time": "2021-12-20T10:18:19.591456Z"
    }
   },
   "outputs": [],
   "source": [
    "s1 = 0\n",
    "s2 = 1\n",
    "\n",
    "data1 = scans[s1]\n",
    "data2 = scans[s2]"
   ]
  },
  {
   "cell_type": "code",
   "execution_count": 863,
   "id": "3f5aa697",
   "metadata": {
    "ExecuteTime": {
     "end_time": "2021-12-20T10:18:19.602698Z",
     "start_time": "2021-12-20T10:18:19.598993Z"
    }
   },
   "outputs": [],
   "source": [
    "set1 = {*(tuple(c for c in r) for r in data1)}\n",
    "found_match = False\n",
    "\n",
    "#for rot in rotations:\n",
    "#    rotated = rot.dot(data2.T).T\n",
    "#    mean_diff = (data1.mean(axis=0) - rotated.mean(axis=0)).astype(int)\n",
    "#    for i in range(-100, 100):\n",
    "#        for j in range(-100, 100):\n",
    "#            for k in range(-100, 100):\n",
    "#                offset = mean_diff + np.array([i, j, k])\n",
    "#                set2 = {*(tuple(c for c in r) for r in rotated + offset)}\n",
    "#                if len(set1 & set2) > 0:\n",
    "#                    found_match = True\n",
    "#                    print('found match')\n",
    "#                    break\n",
    "#            if found_match:\n",
    "#                break\n",
    "#        if found_match:\n",
    "#            break"
   ]
  },
  {
   "cell_type": "code",
   "execution_count": 864,
   "id": "2d7a3e97",
   "metadata": {
    "ExecuteTime": {
     "end_time": "2021-12-20T10:18:19.608660Z",
     "start_time": "2021-12-20T10:18:19.604834Z"
    }
   },
   "outputs": [
    {
     "data": {
      "text/plain": [
       "(2, 0, -58)"
      ]
     },
     "execution_count": 864,
     "metadata": {},
     "output_type": "execute_result"
    }
   ],
   "source": [
    "i,j,k"
   ]
  },
  {
   "cell_type": "code",
   "execution_count": null,
   "id": "ff88c0c7",
   "metadata": {},
   "outputs": [],
   "source": []
  },
  {
   "cell_type": "markdown",
   "id": "6def5378",
   "metadata": {},
   "source": [
    "### That's too slow"
   ]
  },
  {
   "cell_type": "code",
   "execution_count": 865,
   "id": "331a10c5",
   "metadata": {
    "ExecuteTime": {
     "end_time": "2021-12-20T10:18:19.613598Z",
     "start_time": "2021-12-20T10:18:19.610426Z"
    }
   },
   "outputs": [],
   "source": [
    "data1 = ex_scans[0]\n",
    "data2 = ex_scans[1]"
   ]
  },
  {
   "cell_type": "code",
   "execution_count": 866,
   "id": "9acd6105",
   "metadata": {
    "ExecuteTime": {
     "end_time": "2021-12-20T10:18:19.618355Z",
     "start_time": "2021-12-20T10:18:19.615608Z"
    }
   },
   "outputs": [],
   "source": [
    "offset = np.array([68,-1246,-43])"
   ]
  },
  {
   "cell_type": "code",
   "execution_count": 867,
   "id": "bb3eae74",
   "metadata": {
    "ExecuteTime": {
     "end_time": "2021-12-20T10:18:19.628003Z",
     "start_time": "2021-12-20T10:18:19.622061Z"
    }
   },
   "outputs": [
    {
     "name": "stdout",
     "output_type": "stream",
     "text": [
      "found match\n"
     ]
    }
   ],
   "source": [
    "set1 = {*(tuple(c for c in r) for r in data1)}\n",
    "for rot in rotations:\n",
    "    rotated = rot.dot((data2).T).T\n",
    "    set2 = {*(tuple(c for c in r) for r in rotated + offset)}\n",
    "    if len(set1 & set2) > 0:\n",
    "        found_match = True\n",
    "        print('found match')\n",
    "        break"
   ]
  },
  {
   "cell_type": "markdown",
   "id": "2ceb50a6",
   "metadata": {},
   "source": [
    "### Look for an invariant - distances to other beacons"
   ]
  },
  {
   "cell_type": "code",
   "execution_count": 868,
   "id": "c5067630",
   "metadata": {
    "ExecuteTime": {
     "end_time": "2021-12-20T10:18:19.635331Z",
     "start_time": "2021-12-20T10:18:19.631317Z"
    }
   },
   "outputs": [],
   "source": [
    "def get_dists(data):\n",
    "    dists = []\n",
    "    for row in data:\n",
    "        dd = {*(tuple(c for c in r) for r in data - row)}\n",
    "        dists.append(dd - {(0,0,0)})\n",
    "    return dists"
   ]
  },
  {
   "cell_type": "code",
   "execution_count": 869,
   "id": "8ff0d3e3",
   "metadata": {
    "ExecuteTime": {
     "end_time": "2021-12-20T10:18:20.163168Z",
     "start_time": "2021-12-20T10:18:19.638064Z"
    }
   },
   "outputs": [
    {
     "name": "stdout",
     "output_type": "stream",
     "text": [
      "Overlap between scanners 0 and 1\n",
      "Overlap between scanners 1 and 3\n",
      "Overlap between scanners 1 and 4\n",
      "Overlap between scanners 2 and 4\n"
     ]
    }
   ],
   "source": [
    "overlaps = {}\n",
    "for s1, data1 in enumerate(scans):\n",
    "    for s2, data2 in list(enumerate(scans))[s1+1:]:\n",
    "        #print(f'checking scanners {s1} and {s2}')\n",
    "        dists1 = get_dists(data1)\n",
    "        for rot in rotations:\n",
    "            rotated = rot.dot((data2).T).T\n",
    "            dists2 = get_dists(rotated)\n",
    "            \n",
    "            matches = []\n",
    "            for i, dd1 in enumerate(dists1):\n",
    "                for j, dd2 in enumerate(dists2):\n",
    "                    if (overlap := len(dd1 & dd2)) > 10:\n",
    "                        matches.append((i, j, overlap))\n",
    "            if len(matches) >= 12:\n",
    "                print(f\"Overlap between scanners {s1} and {s2}\")\n",
    "                overlaps[(s1, s2)] = (matches, rot)"
   ]
  },
  {
   "cell_type": "code",
   "execution_count": 870,
   "id": "9b110880",
   "metadata": {
    "ExecuteTime": {
     "end_time": "2021-12-20T10:18:20.169513Z",
     "start_time": "2021-12-20T10:18:20.165441Z"
    }
   },
   "outputs": [
    {
     "data": {
      "text/plain": [
       "119"
      ]
     },
     "execution_count": 870,
     "metadata": {},
     "output_type": "execute_result"
    }
   ],
   "source": [
    "# Not the correct way to get all beacons\n",
    "sum([len(ss) for ss in scans]) - sum([len(v) for v in overlaps.values()])"
   ]
  },
  {
   "cell_type": "code",
   "execution_count": 871,
   "id": "e4962634",
   "metadata": {
    "ExecuteTime": {
     "end_time": "2021-12-20T10:18:20.175919Z",
     "start_time": "2021-12-20T10:18:20.171143Z"
    }
   },
   "outputs": [],
   "source": [
    "def get_correction(s1, s2, overlaps, scans=scans):\n",
    "    reverse = False\n",
    "    if s1 > s2:\n",
    "        s1, s2 = s2, s1\n",
    "        reverse = True\n",
    "        \n",
    "    if (s1, s2) not in overlaps:\n",
    "        print('Not an overlapping pair')\n",
    "        return None\n",
    "    \n",
    "    matches, rot = overlaps[(s1, s2)]\n",
    "    bid1, bid2, _ = matches[0]\n",
    "    b1 = scans[s1][bid1]\n",
    "    b2 = scans[s2][bid2]\n",
    "    offset = b1 - rot.dot(b2)\n",
    "    \n",
    "    if reverse:\n",
    "        rot = np.linalg.inv(rot)\n",
    "        offset = b2 - rot.dot(b1)\n",
    "    \n",
    "    rot = rot.copy()\n",
    "    offset = offset.copy()\n",
    "    def correction(data):\n",
    "        corrected = rot.dot((data).T).T + offset\n",
    "        return corrected\n",
    "    \n",
    "    return correction"
   ]
  },
  {
   "cell_type": "code",
   "execution_count": 872,
   "id": "ef1bbf1b",
   "metadata": {
    "ExecuteTime": {
     "end_time": "2021-12-20T10:18:20.179736Z",
     "start_time": "2021-12-20T10:18:20.177516Z"
    }
   },
   "outputs": [],
   "source": [
    "#correction14_0 = get_correction(14, 0, overlaps)\n",
    "#set14_0 = {*(tuple(c for c in r) for r in correction14_0(scans[0]))}\n",
    "#set14_0 & {*(tuple(c for c in r) for r in scans[14])}"
   ]
  },
  {
   "cell_type": "code",
   "execution_count": 873,
   "id": "9e44c6bb",
   "metadata": {
    "ExecuteTime": {
     "end_time": "2021-12-20T10:18:20.184902Z",
     "start_time": "2021-12-20T10:18:20.181801Z"
    }
   },
   "outputs": [],
   "source": [
    "#correction0_14 = get_correction(0, 14, overlaps)\n",
    "#set0_14 = {*(tuple(c for c in r) for r in correction0_14(scans[14]))}\n",
    "#set0_14 & {*(tuple(c for c in r) for r in scans[0])}"
   ]
  },
  {
   "cell_type": "code",
   "execution_count": 874,
   "id": "cc21fca8",
   "metadata": {
    "ExecuteTime": {
     "end_time": "2021-12-20T10:18:20.193323Z",
     "start_time": "2021-12-20T10:18:20.187543Z"
    }
   },
   "outputs": [
    {
     "data": {
      "text/plain": [
       "array([[1., 0., 0.],\n",
       "       [0., 1., 0.],\n",
       "       [0., 0., 1.]])"
      ]
     },
     "execution_count": 874,
     "metadata": {},
     "output_type": "execute_result"
    }
   ],
   "source": [
    "corrections[19][4](corrections[4][19](np.eye(3)))"
   ]
  },
  {
   "cell_type": "code",
   "execution_count": 875,
   "id": "db13ee42",
   "metadata": {
    "ExecuteTime": {
     "end_time": "2021-12-20T10:18:20.199488Z",
     "start_time": "2021-12-20T10:18:20.195154Z"
    }
   },
   "outputs": [],
   "source": [
    "corrections = defaultdict(dict)\n",
    "for s1, s2 in overlaps.keys():\n",
    "    corrections[s1][s2] = get_correction(s1, s2, overlaps)\n",
    "    corrections[s2][s1] = get_correction(s2, s1, overlaps)"
   ]
  },
  {
   "cell_type": "markdown",
   "id": "4c4cf420",
   "metadata": {},
   "source": [
    "### Traverse the corrections graph recursively"
   ]
  },
  {
   "cell_type": "code",
   "execution_count": 878,
   "id": "2cc2a25e",
   "metadata": {
    "ExecuteTime": {
     "end_time": "2021-12-20T10:18:33.325931Z",
     "start_time": "2021-12-20T10:18:33.321047Z"
    }
   },
   "outputs": [],
   "source": [
    "def get_overlap(data1, data2):\n",
    "    set1 = {*(tuple(c for c in r) for r in data1)}\n",
    "    set2 = {*(tuple(c for c in r) for r in data2)}\n",
    "    return set1 & set2"
   ]
  },
  {
   "cell_type": "code",
   "execution_count": 879,
   "id": "b6d9f506",
   "metadata": {
    "ExecuteTime": {
     "end_time": "2021-12-20T10:18:33.493403Z",
     "start_time": "2021-12-20T10:18:33.487153Z"
    }
   },
   "outputs": [],
   "source": [
    "def correct_back(cur):\n",
    "    print(f'\\nEntering {cur}')\n",
    "    corrected = {}\n",
    "    to_descend = []\n",
    "    for sid, correction in corrections[cur].items():\n",
    "        if sid in visited:\n",
    "            print(f'Already done {sid}')\n",
    "            continue\n",
    "        else:\n",
    "            print(f'Correcting from {sid} to {cur} directly')\n",
    "            corrected[sid] = correction(scans[sid])\n",
    "            visited.add(sid)\n",
    "            to_descend.append(sid)\n",
    "    print(len(corrected))\n",
    "            \n",
    "    for sid in to_descend:\n",
    "        print(f'Descending to find corrections to {sid}')\n",
    "        to_correct = correct_back(sid)\n",
    "        print(f'Back at {cur}')\n",
    "        print(f'Got back {len(to_correct)} corrections')\n",
    "        for target, data in to_correct.items():\n",
    "            print(f'Correcting {target} inherited from {sid} to {cur}')\n",
    "            corrected[target] = corrections[cur][sid](data)\n",
    "    print(len(corrected))\n",
    "    print()\n",
    "            \n",
    "    return corrected"
   ]
  },
  {
   "cell_type": "code",
   "execution_count": 880,
   "id": "9b242bc2",
   "metadata": {
    "ExecuteTime": {
     "end_time": "2021-12-20T10:18:37.840313Z",
     "start_time": "2021-12-20T10:18:37.835833Z"
    },
    "scrolled": true
   },
   "outputs": [
    {
     "name": "stdout",
     "output_type": "stream",
     "text": [
      "\n",
      "Entering 0\n",
      "Correcting from 1 to 0 directly\n",
      "1\n",
      "Descending to find corrections to 1\n",
      "\n",
      "Entering 1\n",
      "Already done 0\n",
      "Correcting from 3 to 1 directly\n",
      "Correcting from 4 to 1 directly\n",
      "2\n",
      "Descending to find corrections to 3\n",
      "\n",
      "Entering 3\n",
      "Already done 1\n",
      "0\n",
      "0\n",
      "\n",
      "Back at 1\n",
      "Got back 0 corrections\n",
      "Descending to find corrections to 4\n",
      "\n",
      "Entering 4\n",
      "Already done 1\n",
      "Correcting from 2 to 4 directly\n",
      "1\n",
      "Descending to find corrections to 2\n",
      "\n",
      "Entering 2\n",
      "Already done 4\n",
      "0\n",
      "0\n",
      "\n",
      "Back at 4\n",
      "Got back 0 corrections\n",
      "1\n",
      "\n",
      "Back at 1\n",
      "Got back 1 corrections\n",
      "Correcting 2 inherited from 4 to 1\n",
      "3\n",
      "\n",
      "Back at 0\n",
      "Got back 3 corrections\n",
      "Correcting 3 inherited from 1 to 0\n",
      "Correcting 4 inherited from 1 to 0\n",
      "Correcting 2 inherited from 1 to 0\n",
      "4\n",
      "\n"
     ]
    }
   ],
   "source": [
    "visited = {0}\n",
    "new_scans = correct_back(0)\n",
    "new_scans[0] = scans[0]"
   ]
  },
  {
   "cell_type": "code",
   "execution_count": 881,
   "id": "f3e2ba3a",
   "metadata": {
    "ExecuteTime": {
     "end_time": "2021-12-20T10:18:37.846916Z",
     "start_time": "2021-12-20T10:18:37.843819Z"
    }
   },
   "outputs": [],
   "source": [
    "full_map = set()\n",
    "for data in new_scans.values():\n",
    "    full_map |= {*(tuple(c for c in r) for r in data)}"
   ]
  },
  {
   "cell_type": "code",
   "execution_count": 890,
   "id": "28048e39",
   "metadata": {
    "ExecuteTime": {
     "end_time": "2021-12-20T10:18:48.730563Z",
     "start_time": "2021-12-20T10:18:48.725164Z"
    }
   },
   "outputs": [
    {
     "data": {
      "text/plain": [
       "79"
      ]
     },
     "execution_count": 890,
     "metadata": {},
     "output_type": "execute_result"
    }
   ],
   "source": [
    "len(full_map)"
   ]
  },
  {
   "cell_type": "markdown",
   "id": "02027202",
   "metadata": {},
   "source": [
    "# Part 2"
   ]
  },
  {
   "cell_type": "code",
   "execution_count": 882,
   "id": "fd46ce3f",
   "metadata": {
    "ExecuteTime": {
     "end_time": "2021-12-20T10:18:37.854975Z",
     "start_time": "2021-12-20T10:18:37.850566Z"
    }
   },
   "outputs": [],
   "source": [
    "def get_offset(s1, s2, overlaps, scans=scans):\n",
    "    reverse = False\n",
    "    if s1 > s2:\n",
    "        s1, s2 = s2, s1\n",
    "        reverse = True\n",
    "        \n",
    "    if (s1, s2) not in overlaps:\n",
    "        print('Not an overlapping pair')\n",
    "        return None\n",
    "    \n",
    "    matches, rot = overlaps[(s1, s2)]\n",
    "    bid1, bid2, _ = matches[0]\n",
    "    b1 = scans[s1][bid1]\n",
    "    b2 = scans[s2][bid2]\n",
    "    offset = b1 - rot.dot(b2)\n",
    "    \n",
    "    if reverse:\n",
    "        rot = np.linalg.inv(rot)\n",
    "        offset = b2 - rot.dot(b1)\n",
    "    \n",
    "    def correction(pos):\n",
    "        corrected = rot.dot(pos) + offset\n",
    "        return corrected\n",
    "    \n",
    "    return correction"
   ]
  },
  {
   "cell_type": "code",
   "execution_count": 883,
   "id": "3dde0e92",
   "metadata": {
    "ExecuteTime": {
     "end_time": "2021-12-20T10:18:37.863697Z",
     "start_time": "2021-12-20T10:18:37.858414Z"
    }
   },
   "outputs": [],
   "source": [
    "offsets = defaultdict(dict)\n",
    "for s1, s2 in overlaps.keys():\n",
    "    offsets[s1][s2] = get_offset(s1, s2, overlaps)\n",
    "    offsets[s2][s1] = get_offset(s2, s1, overlaps)"
   ]
  },
  {
   "cell_type": "code",
   "execution_count": 884,
   "id": "4b578cf2",
   "metadata": {
    "ExecuteTime": {
     "end_time": "2021-12-20T10:18:37.872274Z",
     "start_time": "2021-12-20T10:18:37.867687Z"
    }
   },
   "outputs": [
    {
     "data": {
      "text/plain": [
       "{}"
      ]
     },
     "execution_count": 884,
     "metadata": {},
     "output_type": "execute_result"
    }
   ],
   "source": [
    "offsets[14]"
   ]
  },
  {
   "cell_type": "code",
   "execution_count": 885,
   "id": "4880600c",
   "metadata": {
    "ExecuteTime": {
     "end_time": "2021-12-20T10:18:37.885458Z",
     "start_time": "2021-12-20T10:18:37.874799Z"
    }
   },
   "outputs": [],
   "source": [
    "def get_positions(cur):\n",
    "    print(f'\\nEntering {cur}')\n",
    "    positions = {}\n",
    "    to_descend = []\n",
    "    for sid, correction in offsets[cur].items():\n",
    "        if sid in visited:\n",
    "            print(f'Already done {sid}')\n",
    "            continue\n",
    "        else:\n",
    "            print(f'Correcting from {sid} to {cur} directly')\n",
    "            positions[sid] = correction(np.array((0,0,0)))\n",
    "            #print(positions[sid])\n",
    "            visited.add(sid)\n",
    "            to_descend.append(sid)\n",
    "    print(len(positions))\n",
    "            \n",
    "    for sid in to_descend:\n",
    "        print(f'Descending to find offsets to {sid}')\n",
    "        to_correct = get_positions(sid)\n",
    "        print(f'Back at {cur}')\n",
    "        print(f'Got back {len(to_correct)} offsets')\n",
    "        for target, pos in to_correct.items():\n",
    "            print(f'Correcting {target} inherited from {sid} to {cur}')\n",
    "            positions[target] = offsets[cur][sid](pos)\n",
    "    print(len(positions))\n",
    "    print()\n",
    "            \n",
    "    return positions"
   ]
  },
  {
   "cell_type": "code",
   "execution_count": 886,
   "id": "9b9a2cc0",
   "metadata": {
    "ExecuteTime": {
     "end_time": "2021-12-20T10:18:37.893570Z",
     "start_time": "2021-12-20T10:18:37.887753Z"
    },
    "scrolled": true
   },
   "outputs": [
    {
     "name": "stdout",
     "output_type": "stream",
     "text": [
      "\n",
      "Entering 0\n",
      "Correcting from 1 to 0 directly\n",
      "1\n",
      "Descending to find offsets to 1\n",
      "\n",
      "Entering 1\n",
      "Already done 0\n",
      "Correcting from 3 to 1 directly\n",
      "Correcting from 4 to 1 directly\n",
      "2\n",
      "Descending to find offsets to 3\n",
      "\n",
      "Entering 3\n",
      "Already done 1\n",
      "0\n",
      "0\n",
      "\n",
      "Back at 1\n",
      "Got back 0 offsets\n",
      "Descending to find offsets to 4\n",
      "\n",
      "Entering 4\n",
      "Already done 1\n",
      "Correcting from 2 to 4 directly\n",
      "1\n",
      "Descending to find offsets to 2\n",
      "\n",
      "Entering 2\n",
      "Already done 4\n",
      "0\n",
      "0\n",
      "\n",
      "Back at 4\n",
      "Got back 0 offsets\n",
      "1\n",
      "\n",
      "Back at 1\n",
      "Got back 1 offsets\n",
      "Correcting 2 inherited from 4 to 1\n",
      "3\n",
      "\n",
      "Back at 0\n",
      "Got back 3 offsets\n",
      "Correcting 3 inherited from 1 to 0\n",
      "Correcting 4 inherited from 1 to 0\n",
      "Correcting 2 inherited from 1 to 0\n",
      "4\n",
      "\n"
     ]
    }
   ],
   "source": [
    "visited = {0}\n",
    "positions = get_positions(0)\n",
    "positions[0] = np.array((0, 0, 0))"
   ]
  },
  {
   "cell_type": "code",
   "execution_count": 887,
   "id": "8fb22d47",
   "metadata": {
    "ExecuteTime": {
     "end_time": "2021-12-20T10:18:37.903284Z",
     "start_time": "2021-12-20T10:18:37.898072Z"
    }
   },
   "outputs": [],
   "source": [
    "max_dist = 0\n",
    "pair = None\n",
    "for i, pos1 in positions.items():\n",
    "    for j, pos2 in positions.items():\n",
    "        if i != j:\n",
    "            dist = sum(abs(pos1 - pos2))\n",
    "            if dist > max_dist:\n",
    "                max_dist = dist\n",
    "                pair = i, j"
   ]
  },
  {
   "cell_type": "code",
   "execution_count": 888,
   "id": "48455a7c",
   "metadata": {
    "ExecuteTime": {
     "end_time": "2021-12-20T10:18:37.916603Z",
     "start_time": "2021-12-20T10:18:37.910262Z"
    }
   },
   "outputs": [
    {
     "data": {
      "text/plain": [
       "((3, 2), 3621.0)"
      ]
     },
     "execution_count": 888,
     "metadata": {},
     "output_type": "execute_result"
    }
   ],
   "source": [
    "pair, max_dist"
   ]
  },
  {
   "cell_type": "code",
   "execution_count": null,
   "id": "7cc3d4b0",
   "metadata": {},
   "outputs": [],
   "source": []
  }
 ],
 "metadata": {
  "kernelspec": {
   "display_name": "Python 3",
   "language": "python",
   "name": "python3"
  },
  "language_info": {
   "codemirror_mode": {
    "name": "ipython",
    "version": 3
   },
   "file_extension": ".py",
   "mimetype": "text/x-python",
   "name": "python",
   "nbconvert_exporter": "python",
   "pygments_lexer": "ipython3",
   "version": "3.8.12"
  }
 },
 "nbformat": 4,
 "nbformat_minor": 5
}
