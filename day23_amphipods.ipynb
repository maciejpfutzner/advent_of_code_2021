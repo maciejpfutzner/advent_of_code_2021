{
 "cells": [
  {
   "cell_type": "code",
   "execution_count": 50,
   "id": "06be1243",
   "metadata": {
    "ExecuteTime": {
     "end_time": "2021-12-23T21:19:33.112734Z",
     "start_time": "2021-12-23T21:19:33.109224Z"
    }
   },
   "outputs": [],
   "source": [
    "from heapq import heappop, heappush\n",
    "from copy import deepcopy"
   ]
  },
  {
   "cell_type": "code",
   "execution_count": 38,
   "id": "24aeca03",
   "metadata": {
    "ExecuteTime": {
     "end_time": "2021-12-23T20:44:50.435811Z",
     "start_time": "2021-12-23T20:44:50.432240Z"
    }
   },
   "outputs": [],
   "source": [
    "start_map_txt = \"\"\"\\\n",
    "#############\n",
    "#...........#\n",
    "###D#A#C#D###\n",
    "  #B#C#B#A#\n",
    "  #########\"\"\"\n",
    "\n",
    "end_map_txt = \"\"\"\\\n",
    "#############\n",
    "#...........#\n",
    "###A#B#C#D###\n",
    "  #A#B#C#D#\n",
    "  #########\"\"\""
   ]
  },
  {
   "cell_type": "markdown",
   "id": "120b33b7",
   "metadata": {
    "ExecuteTime": {
     "end_time": "2021-12-23T20:36:26.899325Z",
     "start_time": "2021-12-23T20:36:26.892775Z"
    }
   },
   "source": [
    "# Rules\n",
    "- Energy\n",
    "    - Amber amphipods require 1 energy per step\n",
    "    - Bronze amphipods require 10 energy\n",
    "    - Copper amphipods require 100\n",
    "    - Desert ones require 1000\n",
    "- Amphipods will never stop on the space immediately outside any room. They can move into that space so long as they immediately continue moving.\n",
    "    - (Specifically, this refers to the four open spaces in the hallway that are directly above an amphipod starting position.)\n",
    "- Amphipods will never move from the hallway into a room unless that room is their destination room and that room contains no amphipods which do not also have that room as their own destination. If an amphipod's starting room is not its destination room, it can stay in that room until it leaves the room.\n",
    "    - (For example, an Amber amphipod will not move from the hallway into the right three rooms, and will only move into the leftmost room if that room is empty or if it only contains other Amber amphipods.)\n",
    "- Once an amphipod stops moving in the hallway, it will stay in that spot until it can move into a room.\n",
    "    - (That is, once any amphipod starts moving, any other amphipods currently in the hallway are locked in place and will not move again until they can move fully into a room.)"
   ]
  },
  {
   "cell_type": "markdown",
   "id": "0343b056",
   "metadata": {},
   "source": [
    "# Part 1"
   ]
  },
  {
   "cell_type": "code",
   "execution_count": 237,
   "id": "34bb1ec9",
   "metadata": {
    "ExecuteTime": {
     "end_time": "2021-12-24T11:58:13.312838Z",
     "start_time": "2021-12-24T11:58:13.308903Z"
    }
   },
   "outputs": [],
   "source": [
    "cost_dict = {'A': 1, 'B': 10, 'C': 100, 'D': 1000}\n",
    "room_dict = {'A': 1, 'B': 2, 'C': 3, 'D': 4}"
   ]
  },
  {
   "cell_type": "code",
   "execution_count": 238,
   "id": "b2b9b817",
   "metadata": {
    "ExecuteTime": {
     "end_time": "2021-12-24T11:58:13.468744Z",
     "start_time": "2021-12-24T11:58:13.465159Z"
    }
   },
   "outputs": [],
   "source": [
    "start_rooms = [['B', 'D'], ['C', 'A'], ['B', 'C'], ['A', 'D']]\n",
    "# A stop at index i is to the left of room i-1 (room_id i)\n",
    "start_stops = ['.']*7"
   ]
  },
  {
   "cell_type": "code",
   "execution_count": 239,
   "id": "0ea12c39",
   "metadata": {
    "ExecuteTime": {
     "end_time": "2021-12-24T11:58:13.636035Z",
     "start_time": "2021-12-24T11:58:13.633141Z"
    }
   },
   "outputs": [],
   "source": [
    "end_rooms = [['A', 'A'], ['B', 'B'], ['C', 'C'], ['D', 'D']]"
   ]
  },
  {
   "cell_type": "markdown",
   "id": "e22cf0b1",
   "metadata": {},
   "source": [
    "Legal moves are:\n",
    "- Getting out of a room and into a stop\n",
    "    - Without passing any other amphipod\n",
    "- Getting into a room from a stop\n",
    "    - Without passing anyone\n",
    "    - Only to destination room (empty or with 1 correct guy)"
   ]
  },
  {
   "cell_type": "code",
   "execution_count": 240,
   "id": "e6bfdec9",
   "metadata": {
    "ExecuteTime": {
     "end_time": "2021-12-24T11:58:14.013846Z",
     "start_time": "2021-12-24T11:58:14.008129Z"
    }
   },
   "outputs": [],
   "source": [
    "def find_room_to_stop(room_id, stops):\n",
    "    \"\"\"Find possible moves into the corridor\n",
    "    \n",
    "    Find all possible routes out of a given room into the corridor,\n",
    "    without passing others. Return a list of the possible corridor indices\n",
    "    and the required number of steps.\n",
    "    \"\"\"\n",
    "    res_sids, res_steps = [], []\n",
    "    # Check where to go to the left\n",
    "    for sid in range(room_id, -1, -1):\n",
    "        if stops[sid] != '.':\n",
    "            # Cannot go anymore\n",
    "            break\n",
    "        else:\n",
    "            # This is an empty space, return it as possible\n",
    "            res_sids.append(sid)\n",
    "            # It takes 2 steps per stop, except the leftmost one\n",
    "            n_steps = 2* (room_id - sid + 1)\n",
    "            if sid == 0:\n",
    "                n_steps -= 1\n",
    "            res_steps.append(n_steps)\n",
    "            \n",
    "    # Check where to go to the right\n",
    "    for sid in range(room_id+1, len(stops), 1):\n",
    "        if stops[sid] != '.':\n",
    "            # Cannot go anymore\n",
    "            break\n",
    "        else:\n",
    "            # This is an empty space, return it as possible\n",
    "            res_sids.append(sid)\n",
    "            # It takes 2 steps per stop, except the leftmost one\n",
    "            n_steps = 2* (sid - room_id)\n",
    "            if sid == len(stops) - 1:\n",
    "                n_steps -= 1\n",
    "            res_steps.append(n_steps)\n",
    "    \n",
    "    return zip(res_sids, res_steps)"
   ]
  },
  {
   "cell_type": "code",
   "execution_count": 241,
   "id": "71445652",
   "metadata": {
    "ExecuteTime": {
     "end_time": "2021-12-24T11:58:14.611113Z",
     "start_time": "2021-12-24T11:58:14.604237Z"
    }
   },
   "outputs": [],
   "source": [
    "def check_stop_to_room(stop_id, room_id, stops):\n",
    "    # Are there any guys between the stop and the room entrance?\n",
    "    if stop_id <= room_id:\n",
    "        # Room is on the right of the stop\n",
    "        for sid in range(stop_id+1, room_id+1):\n",
    "            if stops[sid] != '.':\n",
    "                # If any of the stops is occupied, you can't go\n",
    "                return False\n",
    "        n_steps = (room_id - stop_id + 1) * 2\n",
    "        if stop_id == 0:\n",
    "            n_steps -= 1\n",
    "        return n_steps\n",
    "    \n",
    "    else:\n",
    "        # Room is on the left of the stop\n",
    "        for sid in range(room_id+1, stop_id):\n",
    "            if stops[sid] != '.':\n",
    "                # If any of the stops is occupied, you can't go\n",
    "                return False\n",
    "        n_steps = (stop_id - room_id) * 2\n",
    "        if stop_id == len(stops) - 1:\n",
    "            n_steps -= 1\n",
    "        return n_steps"
   ]
  },
  {
   "cell_type": "code",
   "execution_count": 242,
   "id": "3f11de4a",
   "metadata": {
    "ExecuteTime": {
     "end_time": "2021-12-24T11:58:15.253607Z",
     "start_time": "2021-12-24T11:58:15.248127Z"
    }
   },
   "outputs": [],
   "source": [
    "def plot(state):\n",
    "    rooms, stops = state\n",
    "    stops = stops[0] + '.'.join(stops[1:-1]) + stops[-1]\n",
    "    print('#############')\n",
    "    print(f'#{\"\".join(stops)}#')\n",
    "    print(f'###{rooms[0][1]}#{rooms[1][1]}#{rooms[2][1]}#{rooms[3][1]}###')\n",
    "    print(f'  #{rooms[0][0]}#{rooms[1][0]}#{rooms[2][0]}#{rooms[3][0]}###')\n",
    "    print('  #########')"
   ]
  },
  {
   "cell_type": "code",
   "execution_count": 243,
   "id": "f93413a5",
   "metadata": {
    "ExecuteTime": {
     "end_time": "2021-12-24T11:58:25.279622Z",
     "start_time": "2021-12-24T11:58:25.268134Z"
    }
   },
   "outputs": [],
   "source": [
    "def get_legal_moves(rooms, stops, start_cost, queue):\n",
    "    # Find possible moves out of a room\n",
    "    for i, room in enumerate(rooms):\n",
    "        rid = i+1\n",
    "        if (guy := room[1]) != '.':\n",
    "            extra_step = 0\n",
    "        elif (guy := room[0]) != '.':\n",
    "            extra_step = 1\n",
    "        else:\n",
    "            # Can't move out of this room\n",
    "            continue\n",
    "            \n",
    "        # the top or the bottom guy can go into a stop (that's not blocked)\n",
    "        moves = find_room_to_stop(rid, stops)\n",
    "        for new_stop_pos, n_steps in moves:\n",
    "            # New rooms will have an empty spot\n",
    "            new_rooms = deepcopy(rooms)\n",
    "            if extra_step:\n",
    "                new_rooms[rid-1] = ['.', '.']\n",
    "            else:\n",
    "                new_rooms[rid-1] = [room[0], '.']\n",
    "            # New corridor will have the guy ins new spot\n",
    "            new_stops = stops.copy()\n",
    "            new_stops[new_stop_pos] = guy\n",
    "            # Cost is number of steps (+1 one if from back) times energy\n",
    "            cost = start_cost + (n_steps + extra_step) * cost_dict[guy]\n",
    "            heappush(queue, (cost, new_rooms, new_stops))\n",
    "            \n",
    "    # Find possible moves into a room\n",
    "    for sid, guy in enumerate(stops):\n",
    "        if guy != '.':\n",
    "            # There's a guy in the corridor, see if his room is ready\n",
    "            rid = room_dict[guy]\n",
    "            dest_room = rooms[rid - 1]\n",
    "            if dest_room == ['.', '.']:\n",
    "                extra_step = 1\n",
    "            elif dest_room == [guy, '.']:\n",
    "                extra_step = 0\n",
    "            else:\n",
    "                # This guy cannot move into any room\n",
    "                break\n",
    "                \n",
    "            # Is there a clear way and how many steps\n",
    "            n_steps = check_stop_to_room(sid, rid, stops)\n",
    "            if n_steps:\n",
    "                new_rooms = deepcopy(rooms)\n",
    "                if extra_step:\n",
    "                    new_rooms[rid-1] = [guy, '.']\n",
    "                else:\n",
    "                    new_rooms[rid-1] = [guy, guy]\n",
    "                # New corridor will have an empty spot\n",
    "                new_stops = stops.copy()\n",
    "                new_stops[sid] = '.'\n",
    "                # Cost is number of steps (+1 one if from back) times energy\n",
    "                cost = start_cost + (n_steps + extra_step) * cost_dict[guy]\n",
    "                heappush(queue, (cost, new_rooms, new_stops))"
   ]
  },
  {
   "cell_type": "code",
   "execution_count": 244,
   "id": "eb23b85e",
   "metadata": {
    "ExecuteTime": {
     "end_time": "2021-12-24T11:58:26.064831Z",
     "start_time": "2021-12-24T11:58:26.061057Z"
    }
   },
   "outputs": [],
   "source": [
    "end_state = (tuple(tuple(r) for r in end_rooms), tuple(start_stops))\n",
    "#end_state in visited"
   ]
  },
  {
   "cell_type": "code",
   "execution_count": 245,
   "id": "e9ba561a",
   "metadata": {
    "ExecuteTime": {
     "end_time": "2021-12-24T11:58:32.349447Z",
     "start_time": "2021-12-24T11:58:26.359110Z"
    }
   },
   "outputs": [
    {
     "name": "stdout",
     "output_type": "stream",
     "text": [
      "We're finished, the cost is 14148\n"
     ]
    }
   ],
   "source": [
    "queue = []\n",
    "visited = set()\n",
    "heappush(queue, (0, start_rooms, start_stops))\n",
    "\n",
    "while queue:\n",
    "    cost, rooms, stops = heappop(queue)\n",
    "    state = (tuple(tuple(r) for r in rooms), tuple(stops))\n",
    "    if state == end_state:\n",
    "        print(f\"We're finished, the cost is {cost}\")\n",
    "        break\n",
    "    if state not in visited:\n",
    "        visited.add(state)\n",
    "        get_legal_moves(rooms, stops, cost, queue)"
   ]
  },
  {
   "cell_type": "code",
   "execution_count": 246,
   "id": "46cf7188",
   "metadata": {
    "ExecuteTime": {
     "end_time": "2021-12-24T11:58:33.435615Z",
     "start_time": "2021-12-24T11:58:33.431151Z"
    }
   },
   "outputs": [
    {
     "name": "stdout",
     "output_type": "stream",
     "text": [
      "#############\n",
      "#...........#\n",
      "###A#B#C#D###\n",
      "  #A#B#C#D###\n",
      "  #########\n"
     ]
    }
   ],
   "source": [
    "plot(state)"
   ]
  },
  {
   "cell_type": "markdown",
   "id": "c58165fe",
   "metadata": {},
   "source": [
    "# Part 2"
   ]
  },
  {
   "cell_type": "code",
   "execution_count": 247,
   "id": "62ae4a59",
   "metadata": {
    "ExecuteTime": {
     "end_time": "2021-12-24T11:58:36.756796Z",
     "start_time": "2021-12-24T11:58:36.754308Z"
    }
   },
   "outputs": [],
   "source": [
    "start_map_txt = \"\"\"\\\n",
    "#############\n",
    "#...........#\n",
    "###D#A#C#D###\n",
    "  #D#C#B#A#\n",
    "  #D#B#A#C#\n",
    "  #B#C#B#A#\n",
    "  #########\"\"\"\n",
    "\n",
    "end_map_txt = \"\"\"\\\n",
    "#############\n",
    "#...........#\n",
    "###A#B#C#D###\n",
    "  #A#B#C#D#\n",
    "  #A#B#C#D#\n",
    "  #A#B#C#D#\n",
    "  #########\"\"\""
   ]
  },
  {
   "cell_type": "code",
   "execution_count": 248,
   "id": "be930453",
   "metadata": {
    "ExecuteTime": {
     "end_time": "2021-12-24T11:58:36.764179Z",
     "start_time": "2021-12-24T11:58:36.759826Z"
    }
   },
   "outputs": [],
   "source": [
    "start_rooms = [['D', 'D', 'D', 'B'], ['A', 'C', 'B', 'C'],\n",
    "               ['C', 'B', 'A', 'B'], ['D', 'A', 'C', 'A']]\n",
    "# A stop at index i is to the left of room i-1 (room_id i)\n",
    "start_stops = ['.']*7"
   ]
  },
  {
   "cell_type": "code",
   "execution_count": 249,
   "id": "6d79f314",
   "metadata": {
    "ExecuteTime": {
     "end_time": "2021-12-24T11:58:36.770616Z",
     "start_time": "2021-12-24T11:58:36.767521Z"
    }
   },
   "outputs": [],
   "source": [
    "end_rooms = [['A', 'A', 'A', 'A'], ['B', 'B', 'B', 'B'],\n",
    "             ['C', 'C', 'C', 'C'], ['D', 'D', 'D', 'D']]\n",
    "end_state = (tuple(tuple(r) for r in end_rooms), tuple(start_stops))"
   ]
  },
  {
   "cell_type": "code",
   "execution_count": null,
   "id": "39e2d345",
   "metadata": {
    "ExecuteTime": {
     "end_time": "2021-12-24T13:03:49.340917Z",
     "start_time": "2021-12-24T13:02:31.118Z"
    }
   },
   "outputs": [],
   "source": [
    "def plot2(state):\n",
    "    rooms, stops = state\n",
    "    stops = stops[0] + '.'.join(stops[1:-1]) + stops[-1]\n",
    "    print('#############')\n",
    "    print(f'#{\"\".join(stops)}#')\n",
    "    print(f'###{rooms[0][0]}#{rooms[1][0]}#{rooms[2][0]}#{rooms[3][0]}###')\n",
    "    print(f'  #{rooms[0][1]}#{rooms[1][1]}#{rooms[2][1]}#{rooms[3][1]}#')\n",
    "    print(f'  #{rooms[0][2]}#{rooms[1][2]}#{rooms[2][2]}#{rooms[3][2]}#')\n",
    "    print(f'  #{rooms[0][3]}#{rooms[1][3]}#{rooms[2][3]}#{rooms[3][3]}#')\n",
    "    print('  #########')"
   ]
  },
  {
   "cell_type": "code",
   "execution_count": 307,
   "id": "ca6b8dc4",
   "metadata": {
    "ExecuteTime": {
     "end_time": "2021-12-24T13:07:08.005800Z",
     "start_time": "2021-12-24T13:07:07.995290Z"
    }
   },
   "outputs": [],
   "source": [
    "def get_legal_moves2(rooms, stops):\n",
    "    next_moves = []\n",
    "    \n",
    "    # Find possible moves out of a room\n",
    "    for rid, room in enumerate(rooms):\n",
    "        # Find the top-most guy in the room (and index)\n",
    "        for i, guy in enumerate(room):\n",
    "            if guy != '.':\n",
    "                break\n",
    "                \n",
    "        # If room was empty, move to the next one\n",
    "        if guy == '.':\n",
    "            continue\n",
    "            \n",
    "        # the top-most guy can go into a stop (that's not blocked)\n",
    "        moves = find_room_to_stop(rid+1, stops)\n",
    "        \n",
    "        for new_stop_pos, n_steps in moves:\n",
    "            # New rooms will have a new empty spot\n",
    "            new_rooms = deepcopy(rooms)\n",
    "            new_rooms[rid][i] = '.'\n",
    "            # New corridor will have the guy ins new spot\n",
    "            new_stops = stops.copy()\n",
    "            new_stops[new_stop_pos] = guy\n",
    "            # Cost is number of steps (+ depth of occupied spot) times energy\n",
    "            cost = (n_steps + i) * cost_dict[guy]\n",
    "            next_moves.append((cost, new_rooms, new_stops))\n",
    "            #print('Getting out of the room')\n",
    "            #plot2((rooms, stops))\n",
    "            #print('Next state')\n",
    "            #plot2((new_rooms, new_stops))\n",
    "            #print()\n",
    "            \n",
    "    # Find possible moves into a room\n",
    "    for sid, guy in enumerate(stops):\n",
    "        if guy != '.':\n",
    "            # There's a guy in the corridor, see if his room is ready\n",
    "            rid = room_dict[guy] - 1\n",
    "            dest_room = rooms[rid]\n",
    "            \n",
    "            if set(dest_room) <= {'.', guy}:\n",
    "                #print(f'Room {rid+1} was supposed to be ready for {guy}')\n",
    "                #print(dest_room)\n",
    "                # Good room, find index of top-most empty spot\n",
    "                i = len(dest_room) - dest_room[::-1].index('.') -1\n",
    "            else:\n",
    "                # This guy cannot move into a room\n",
    "                continue\n",
    "                \n",
    "            # Is there a clear way and how many steps\n",
    "            n_steps = check_stop_to_room(sid, rid+1, stops)\n",
    "            if n_steps:\n",
    "                new_rooms = deepcopy(rooms)\n",
    "                new_rooms[rid][i] = guy\n",
    "                # New corridor will have an empty spot\n",
    "                new_stops = stops.copy()\n",
    "                new_stops[sid] = '.'\n",
    "                # Cost is number of steps (+1 one if from back) times energy\n",
    "                cost = (n_steps + i) * cost_dict[guy]\n",
    "                next_moves.append((cost, new_rooms, new_stops))\n",
    "                #print('Getting into the room')\n",
    "                #plot2((rooms, stops))\n",
    "                #print('Next state')\n",
    "                #plot2((new_rooms, new_stops))\n",
    "                #print()\n",
    "    return next_moves"
   ]
  },
  {
   "cell_type": "code",
   "execution_count": 309,
   "id": "832c7d8e",
   "metadata": {
    "ExecuteTime": {
     "end_time": "2021-12-24T13:08:22.791514Z",
     "start_time": "2021-12-24T13:08:12.416769Z"
    }
   },
   "outputs": [
    {
     "name": "stdout",
     "output_type": "stream",
     "text": [
      "We're finished, the cost is 43814\n"
     ]
    }
   ],
   "source": [
    "queue = []\n",
    "visited = set()\n",
    "heappush(queue, (0, start_rooms, start_stops))\n",
    "\n",
    "while queue:\n",
    "    cost, rooms, stops = heappop(queue)\n",
    "    state = (tuple(tuple(r) for r in rooms), tuple(stops))\n",
    "    #plot2(state)\n",
    "    #print()\n",
    "    if state == end_state:\n",
    "        print(f\"We're finished, the cost is {cost}\")\n",
    "        break\n",
    "    elif state not in visited:\n",
    "        visited.add(state)\n",
    "        moves = get_legal_moves2(rooms, stops)\n",
    "        for new_cost, new_rooms, new_stops in moves:\n",
    "            heappush(queue, (cost+new_cost, new_rooms, new_stops))\n",
    "        #if len(moves) == 0:\n",
    "        #    print('No more legal moves')\n",
    "        #    plot2(state)\n",
    "        #    print()"
   ]
  },
  {
   "cell_type": "code",
   "execution_count": null,
   "id": "e98c1fad",
   "metadata": {},
   "outputs": [],
   "source": []
  }
 ],
 "metadata": {
  "kernelspec": {
   "display_name": "Python 3",
   "language": "python",
   "name": "python3"
  },
  "language_info": {
   "codemirror_mode": {
    "name": "ipython",
    "version": 3
   },
   "file_extension": ".py",
   "mimetype": "text/x-python",
   "name": "python",
   "nbconvert_exporter": "python",
   "pygments_lexer": "ipython3",
   "version": "3.8.12"
  }
 },
 "nbformat": 4,
 "nbformat_minor": 5
}
