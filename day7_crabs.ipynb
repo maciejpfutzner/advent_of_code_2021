{
 "cells": [
  {
   "cell_type": "code",
   "execution_count": 2,
   "id": "87f76c1e",
   "metadata": {
    "ExecuteTime": {
     "end_time": "2021-12-07T08:46:33.695490Z",
     "start_time": "2021-12-07T08:46:33.494540Z"
    }
   },
   "outputs": [],
   "source": [
    "import numpy as np"
   ]
  },
  {
   "cell_type": "code",
   "execution_count": 1,
   "id": "b6cb21a7",
   "metadata": {
    "ExecuteTime": {
     "end_time": "2021-12-07T08:46:21.562764Z",
     "start_time": "2021-12-07T08:46:21.550769Z"
    }
   },
   "outputs": [],
   "source": [
    "data_fname = 'day7_crabs.txt'\n",
    "with open(data_fname, 'r') as datafile:\n",
    "    positions = [int(l) for l in datafile.read().split(',')]"
   ]
  },
  {
   "cell_type": "markdown",
   "id": "1f604c74",
   "metadata": {},
   "source": [
    "# Part 1"
   ]
  },
  {
   "cell_type": "code",
   "execution_count": 61,
   "id": "7e96656e",
   "metadata": {
    "ExecuteTime": {
     "end_time": "2021-12-07T08:59:45.648283Z",
     "start_time": "2021-12-07T08:59:45.644310Z"
    }
   },
   "outputs": [],
   "source": [
    "positions = np.array(positions, dtype=int)"
   ]
  },
  {
   "cell_type": "code",
   "execution_count": 62,
   "id": "b98d3ae5",
   "metadata": {
    "ExecuteTime": {
     "end_time": "2021-12-07T08:59:46.608545Z",
     "start_time": "2021-12-07T08:59:46.600907Z"
    }
   },
   "outputs": [
    {
     "data": {
      "text/plain": [
       "323.0"
      ]
     },
     "execution_count": 62,
     "metadata": {},
     "output_type": "execute_result"
    }
   ],
   "source": [
    "mean = np.median(positions)\n",
    "mean"
   ]
  },
  {
   "cell_type": "code",
   "execution_count": 66,
   "id": "aed35426",
   "metadata": {
    "ExecuteTime": {
     "end_time": "2021-12-07T09:00:02.168515Z",
     "start_time": "2021-12-07T09:00:02.162882Z"
    }
   },
   "outputs": [],
   "source": [
    "f1 = int(np.abs(positions - mean +1).sum())\n",
    "f2 = int(np.abs(positions - mean).sum())\n",
    "f3 = int(np.abs(positions - mean -1).sum())"
   ]
  },
  {
   "cell_type": "code",
   "execution_count": 67,
   "id": "20ce1eab",
   "metadata": {
    "ExecuteTime": {
     "end_time": "2021-12-07T09:00:02.339460Z",
     "start_time": "2021-12-07T09:00:02.333564Z"
    }
   },
   "outputs": [
    {
     "data": {
      "text/plain": [
       "336040"
      ]
     },
     "execution_count": 67,
     "metadata": {},
     "output_type": "execute_result"
    }
   ],
   "source": [
    "min([f1, f2, f3])"
   ]
  },
  {
   "cell_type": "code",
   "execution_count": 68,
   "id": "c64f0c76",
   "metadata": {
    "ExecuteTime": {
     "end_time": "2021-12-07T09:00:02.512605Z",
     "start_time": "2021-12-07T09:00:02.506827Z"
    }
   },
   "outputs": [
    {
     "data": {
      "text/plain": [
       "336040"
      ]
     },
     "execution_count": 68,
     "metadata": {},
     "output_type": "execute_result"
    }
   ],
   "source": [
    "f2"
   ]
  },
  {
   "cell_type": "markdown",
   "id": "ab12d64a",
   "metadata": {
    "ExecuteTime": {
     "end_time": "2021-12-07T08:52:49.926463Z",
     "start_time": "2021-12-07T08:52:49.922891Z"
    }
   },
   "source": [
    "# Part 2"
   ]
  },
  {
   "cell_type": "code",
   "execution_count": 69,
   "id": "7734b093",
   "metadata": {
    "ExecuteTime": {
     "end_time": "2021-12-07T09:00:04.240963Z",
     "start_time": "2021-12-07T09:00:04.235863Z"
    }
   },
   "outputs": [
    {
     "name": "stdout",
     "output_type": "stream",
     "text": [
      "0\n",
      "1898\n"
     ]
    }
   ],
   "source": [
    "print(positions.min())\n",
    "print(positions.max())"
   ]
  },
  {
   "cell_type": "code",
   "execution_count": null,
   "id": "7ca8249b",
   "metadata": {},
   "outputs": [],
   "source": [
    "# Each crab will have to end up somewhere between 0 and 1898 (let's say 2k)"
   ]
  },
  {
   "cell_type": "code",
   "execution_count": 82,
   "id": "9c3cdcc9",
   "metadata": {
    "ExecuteTime": {
     "end_time": "2021-12-07T09:03:17.784366Z",
     "start_time": "2021-12-07T09:03:17.776193Z"
    }
   },
   "outputs": [
    {
     "data": {
      "text/plain": [
       "(0, 1, 3, 6, 10)"
      ]
     },
     "execution_count": 82,
     "metadata": {},
     "output_type": "execute_result"
    }
   ],
   "source": [
    "0, 1, 1+2, 1+2+3, 1+2+3+4"
   ]
  },
  {
   "cell_type": "code",
   "execution_count": 83,
   "id": "94203a87",
   "metadata": {
    "ExecuteTime": {
     "end_time": "2021-12-07T09:04:14.221331Z",
     "start_time": "2021-12-07T09:04:14.215837Z"
    }
   },
   "outputs": [
    {
     "name": "stdout",
     "output_type": "stream",
     "text": [
      "0.0\n",
      "1.0\n",
      "3.0\n",
      "6.0\n",
      "10.0\n"
     ]
    }
   ],
   "source": [
    "for i in range(5):\n",
    "    print((i+1)*i*.5)"
   ]
  },
  {
   "cell_type": "code",
   "execution_count": 85,
   "id": "72b663f8",
   "metadata": {
    "ExecuteTime": {
     "end_time": "2021-12-07T09:06:01.398236Z",
     "start_time": "2021-12-07T09:06:01.351268Z"
    }
   },
   "outputs": [],
   "source": [
    "max_size = 2_000\n",
    "costs = np.zeros((len(positions), max_size), dtype=int)\n",
    "\n",
    "for crab, p in enumerate(positions):\n",
    "    i1 = np.arange(max_size-p)\n",
    "    costs[crab, p:] = (i1+1) * i1 * .5\n",
    "    \n",
    "    i2 = np.arange(p, 0, -1)\n",
    "    costs[crab, :p] = (i2+1) * i2 * .5"
   ]
  },
  {
   "cell_type": "code",
   "execution_count": 89,
   "id": "9f475399",
   "metadata": {
    "ExecuteTime": {
     "end_time": "2021-12-07T09:06:21.269145Z",
     "start_time": "2021-12-07T09:06:21.262561Z"
    }
   },
   "outputs": [
    {
     "data": {
      "text/plain": [
       "array([ 1,  0,  1,  3,  6, 10, 15, 21, 28, 36])"
      ]
     },
     "execution_count": 89,
     "metadata": {},
     "output_type": "execute_result"
    }
   ],
   "source": [
    "costs[1, :10]"
   ]
  },
  {
   "cell_type": "code",
   "execution_count": 90,
   "id": "9c574f3d",
   "metadata": {
    "ExecuteTime": {
     "end_time": "2021-12-07T09:06:24.100377Z",
     "start_time": "2021-12-07T09:06:24.092126Z"
    }
   },
   "outputs": [
    {
     "data": {
      "text/plain": [
       "94813675"
      ]
     },
     "execution_count": 90,
     "metadata": {},
     "output_type": "execute_result"
    }
   ],
   "source": [
    "costs.sum(axis=0).min()"
   ]
  },
  {
   "cell_type": "code",
   "execution_count": null,
   "id": "3a75dab8",
   "metadata": {},
   "outputs": [],
   "source": []
  }
 ],
 "metadata": {
  "kernelspec": {
   "display_name": "Python 3",
   "language": "python",
   "name": "python3"
  },
  "language_info": {
   "codemirror_mode": {
    "name": "ipython",
    "version": 3
   },
   "file_extension": ".py",
   "mimetype": "text/x-python",
   "name": "python",
   "nbconvert_exporter": "python",
   "pygments_lexer": "ipython3",
   "version": "3.8.12"
  }
 },
 "nbformat": 4,
 "nbformat_minor": 5
}
