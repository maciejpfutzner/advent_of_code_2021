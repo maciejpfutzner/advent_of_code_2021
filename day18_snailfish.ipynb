{
 "cells": [
  {
   "cell_type": "code",
   "execution_count": 1,
   "id": "eead38a6",
   "metadata": {
    "ExecuteTime": {
     "end_time": "2021-12-18T14:49:20.243481Z",
     "start_time": "2021-12-18T14:49:20.234743Z"
    }
   },
   "outputs": [],
   "source": [
    "from ast import literal_eval\n",
    "from copy import deepcopy\n",
    "from collections import deque\n",
    "from math import ceil, floor"
   ]
  },
  {
   "cell_type": "code",
   "execution_count": 2,
   "id": "4eee3b4f",
   "metadata": {
    "ExecuteTime": {
     "end_time": "2021-12-18T14:49:20.382075Z",
     "start_time": "2021-12-18T14:49:20.372418Z"
    }
   },
   "outputs": [],
   "source": [
    "with open('day18_snailfish.txt') as dfile:\n",
    "    numbers = [l.strip() for l in dfile]\n",
    "numbers = [literal_eval(l) for l in numbers]"
   ]
  },
  {
   "cell_type": "markdown",
   "id": "940792a1",
   "metadata": {
    "ExecuteTime": {
     "end_time": "2021-12-18T08:38:52.392790Z",
     "start_time": "2021-12-18T08:38:52.387821Z"
    }
   },
   "source": [
    "# Part 1"
   ]
  },
  {
   "cell_type": "code",
   "execution_count": 3,
   "id": "b0be52ae",
   "metadata": {
    "ExecuteTime": {
     "end_time": "2021-12-18T11:55:24.861971Z",
     "start_time": "2021-12-18T11:55:24.858950Z"
    }
   },
   "outputs": [],
   "source": [
    "def access(nested_list, indices):\n",
    "    try:\n",
    "        for i in indices:\n",
    "            nested_list = nested_list[i]\n",
    "        return nested_list\n",
    "    except IndexError:\n",
    "        return None"
   ]
  },
  {
   "cell_type": "code",
   "execution_count": 141,
   "id": "d42e6ee5",
   "metadata": {
    "ExecuteTime": {
     "end_time": "2021-12-18T13:34:53.121436Z",
     "start_time": "2021-12-18T13:34:53.117318Z"
    }
   },
   "outputs": [],
   "source": [
    "def get_indices(n):\n",
    "    if type(n) is int:\n",
    "        return [[]]\n",
    "    \n",
    "    else:\n",
    "        indices = []\n",
    "        for i in range(2):\n",
    "            for ids in get_indices(n[i]):\n",
    "                indices.append([i] + ids)\n",
    "            \n",
    "        return indices"
   ]
  },
  {
   "cell_type": "code",
   "execution_count": 142,
   "id": "7d3332c4",
   "metadata": {
    "ExecuteTime": {
     "end_time": "2021-12-18T13:34:53.329747Z",
     "start_time": "2021-12-18T13:34:53.324361Z"
    }
   },
   "outputs": [
    {
     "name": "stdout",
     "output_type": "stream",
     "text": [
      "[[2, [[7, 4], [5, [3, 9]]]], [[[[1, 4], [0, 1]], 4], [3, [8, 5]]]]\n",
      "2: [0, 0]\n",
      "7: [0, 1, 0, 0]\n",
      "4: [0, 1, 0, 1]\n",
      "5: [0, 1, 1, 0]\n",
      "3: [0, 1, 1, 1, 0]\n",
      "9: [0, 1, 1, 1, 1]\n",
      "1: [1, 0, 0, 0, 0]\n",
      "4: [1, 0, 0, 0, 1]\n",
      "0: [1, 0, 0, 1, 0]\n",
      "1: [1, 0, 0, 1, 1]\n",
      "4: [1, 0, 1]\n",
      "3: [1, 1, 0]\n",
      "8: [1, 1, 1, 0]\n",
      "5: [1, 1, 1, 1]\n"
     ]
    }
   ],
   "source": [
    "n = [[2, [[7, 4], [5, [3, 9]]]], [[[[1, 4], [0, 1]], 4], [3, [8, 5]]]]\n",
    "\n",
    "print(n)\n",
    "for ii in get_indices(n):\n",
    "    print(f'{access(n, ii)}: {ii}')"
   ]
  },
  {
   "cell_type": "code",
   "execution_count": 143,
   "id": "abf837f7",
   "metadata": {
    "ExecuteTime": {
     "end_time": "2021-12-18T13:34:53.523705Z",
     "start_time": "2021-12-18T13:34:53.520405Z"
    }
   },
   "outputs": [],
   "source": [
    "def find_left(n, location):\n",
    "    \"\"\"Find the number to the left of location\n",
    "    \n",
    "    Args:\n",
    "        n - snailfish number\n",
    "        location - list of indices for the desired digit\n",
    "    Returns:\n",
    "        list of indices for the left-hand digit or None\n",
    "    \"\"\"\n",
    "    all_ids = get_indices(n)\n",
    "    where = all_ids.index(location)\n",
    "    \n",
    "    if where > 0:\n",
    "        return all_ids[where-1]\n",
    "    else:\n",
    "        return None"
   ]
  },
  {
   "cell_type": "code",
   "execution_count": 144,
   "id": "8a6c2195",
   "metadata": {
    "ExecuteTime": {
     "end_time": "2021-12-18T13:34:53.712783Z",
     "start_time": "2021-12-18T13:34:53.707812Z"
    }
   },
   "outputs": [
    {
     "name": "stdout",
     "output_type": "stream",
     "text": [
      "7\n",
      "[0, 0]\n",
      "2\n"
     ]
    }
   ],
   "source": [
    "n = [[2, [[7, 4], [5, [3, 9]]]], [[[[1, 4], [0, 1]], 4], [3, [8, 5]]]]\n",
    "all_ids = get_indices(n)\n",
    "\n",
    "loc = all_ids[1]\n",
    "print(access(n, loc))\n",
    "ii = find_left(n, loc)\n",
    "print(ii)\n",
    "print(access(n, ii))"
   ]
  },
  {
   "cell_type": "code",
   "execution_count": 145,
   "id": "faab0c5e",
   "metadata": {
    "ExecuteTime": {
     "end_time": "2021-12-18T13:34:53.941167Z",
     "start_time": "2021-12-18T13:34:53.937435Z"
    }
   },
   "outputs": [],
   "source": [
    "def find_right(n, location):\n",
    "    \"\"\"Find the number to the right of location\n",
    "    \n",
    "    Args:\n",
    "        n - snailfish number\n",
    "        location - list of indices for the desired digit\n",
    "    Returns:\n",
    "        list of indices for the left-hand digit or None\n",
    "    \"\"\"\n",
    "    all_ids = get_indices(n)\n",
    "    where = all_ids.index(location)\n",
    "    \n",
    "    if where < len(all_ids) - 1:\n",
    "        return all_ids[where+1]\n",
    "    else:\n",
    "        return None"
   ]
  },
  {
   "cell_type": "code",
   "execution_count": 146,
   "id": "9f9dbf92",
   "metadata": {
    "ExecuteTime": {
     "end_time": "2021-12-18T13:34:54.193723Z",
     "start_time": "2021-12-18T13:34:54.187244Z"
    }
   },
   "outputs": [],
   "source": [
    "def explode_next(n):\n",
    "    # Find leftmost pair 4 levels deep\n",
    "    location = None\n",
    "    for inds in get_indices(n):\n",
    "        if len(inds) > 4:\n",
    "            location = inds[:-1]\n",
    "            break\n",
    "        \n",
    "    if location is None:\n",
    "        return n, False\n",
    "    else:\n",
    "        #print(f'exploding {access(n, location)} at {location}')\n",
    "        n1, n2 = access(n, location)\n",
    "        \n",
    "        # Increment left neighbour (if found)\n",
    "        left = find_left(n, location+[0])\n",
    "        if left:\n",
    "            #print(f'found left digit {access(n, left)}, incrementing by {n1}')\n",
    "            i1, i2 = left[:-1], left[-1]\n",
    "            access(n, i1)[i2] += n1\n",
    "            \n",
    "        # Increment right neighbour (if found)\n",
    "        right = find_right(n, location+[1])\n",
    "        if right:\n",
    "            #print(f'found right digit {access(n, right)}, incrementing by {n2}')\n",
    "            i1, i2 = right[:-1], right[-1]\n",
    "            access(n, i1)[i2] += n2\n",
    "        \n",
    "        # Replace pair with 0\n",
    "        access(n, location[:-1])[location[-1]] = 0\n",
    "    \n",
    "        return n, True"
   ]
  },
  {
   "cell_type": "code",
   "execution_count": 147,
   "id": "ef2ae5c1",
   "metadata": {
    "ExecuteTime": {
     "end_time": "2021-12-18T13:34:54.426290Z",
     "start_time": "2021-12-18T13:34:54.419904Z"
    }
   },
   "outputs": [
    {
     "name": "stdout",
     "output_type": "stream",
     "text": [
      "[[2, [[7, 4], [5, [3, 9]]]], [[[[1, 4], [0, 1]], 4], [3, [8, 5]]]]\n"
     ]
    },
    {
     "data": {
      "text/plain": [
       "([[2, [[7, 4], [8, 0]]], [[[[10, 4], [0, 1]], 4], [3, [8, 5]]]], True)"
      ]
     },
     "execution_count": 147,
     "metadata": {},
     "output_type": "execute_result"
    }
   ],
   "source": [
    "n = [[2, [[7, 4], [5, [3, 9]]]], [[[[1, 4], [0, 1]], 4], [3, [8, 5]]]]\n",
    "print(n)\n",
    "explode_next(n)"
   ]
  },
  {
   "cell_type": "code",
   "execution_count": 148,
   "id": "2a361158",
   "metadata": {
    "ExecuteTime": {
     "end_time": "2021-12-18T13:34:54.601285Z",
     "start_time": "2021-12-18T13:34:54.596252Z"
    }
   },
   "outputs": [
    {
     "data": {
      "text/plain": [
       "True"
      ]
     },
     "execution_count": 148,
     "metadata": {},
     "output_type": "execute_result"
    }
   ],
   "source": [
    "n = [[[[[9,8],1],2],3],4]\n",
    "n,_ = explode_next(n)\n",
    "n == [[[[0,9],2],3],4]"
   ]
  },
  {
   "cell_type": "code",
   "execution_count": 149,
   "id": "d9a14ae9",
   "metadata": {
    "ExecuteTime": {
     "end_time": "2021-12-18T13:34:54.781348Z",
     "start_time": "2021-12-18T13:34:54.775723Z"
    }
   },
   "outputs": [
    {
     "data": {
      "text/plain": [
       "True"
      ]
     },
     "execution_count": 149,
     "metadata": {},
     "output_type": "execute_result"
    }
   ],
   "source": [
    "n = [[3,[2,[1,[7,3]]]],[6,[5,[4,[3,2]]]]]\n",
    "n,_ = explode_next(n)\n",
    "n == [[3,[2,[8,0]]],[9,[5,[4,[3,2]]]]]"
   ]
  },
  {
   "cell_type": "code",
   "execution_count": 150,
   "id": "8f7a5660",
   "metadata": {
    "ExecuteTime": {
     "end_time": "2021-12-18T13:34:54.976292Z",
     "start_time": "2021-12-18T13:34:54.972512Z"
    }
   },
   "outputs": [],
   "source": [
    "def split_next(n):\n",
    "    for location in get_indices(n):\n",
    "        digit = access(n, location)\n",
    "        if digit > 9:\n",
    "            n1 = floor(digit/2)\n",
    "            n2 = ceil(digit/2)\n",
    "            #print(f'splitting {digit} into {[n1, n2]}')\n",
    "            access(n, location[:-1])[location[-1]] = [n1, n2]\n",
    "            return n, True\n",
    "    return n, False"
   ]
  },
  {
   "cell_type": "code",
   "execution_count": 151,
   "id": "c2fb81bd",
   "metadata": {
    "ExecuteTime": {
     "end_time": "2021-12-18T13:34:55.193315Z",
     "start_time": "2021-12-18T13:34:55.186200Z"
    }
   },
   "outputs": [
    {
     "name": "stdout",
     "output_type": "stream",
     "text": [
      "True\n"
     ]
    },
    {
     "data": {
      "text/plain": [
       "True"
      ]
     },
     "execution_count": 151,
     "metadata": {},
     "output_type": "execute_result"
    }
   ],
   "source": [
    "n = [[[[0,7],4],[15,[0,13]]],[1,1]]\n",
    "n, _ = split_next(n)\n",
    "print(n == [[[[0,7],4],[[7,8],[0,13]]],[1,1]])\n",
    "\n",
    "n, _ = split_next(n)\n",
    "n == [[[[0,7],4],[[7,8],[0,[6,7]]]],[1,1]]"
   ]
  },
  {
   "cell_type": "code",
   "execution_count": 152,
   "id": "2f2f45e7",
   "metadata": {
    "ExecuteTime": {
     "end_time": "2021-12-18T13:34:55.379076Z",
     "start_time": "2021-12-18T13:34:55.375729Z"
    }
   },
   "outputs": [],
   "source": [
    "def reduce(n):\n",
    "    # 1. Assume explosions necessary\n",
    "    # 2. Find next explosion\n",
    "    # 3. If none, go to splits (5)\n",
    "    # 4. If yes, apply and return to 2.\n",
    "    # 5. Find next split\n",
    "    # 6. If none, return number\n",
    "    # 7. If yes, apply and return to 2.\n",
    "    while True:\n",
    "        #print()\n",
    "        #print(n)\n",
    "        n, changed = explode_next(n)\n",
    "        if not changed:\n",
    "            to_split = True\n",
    "            while True:\n",
    "                n, changed = split_next(n)\n",
    "                if changed:\n",
    "                    break\n",
    "                else:\n",
    "                    return n"
   ]
  },
  {
   "cell_type": "code",
   "execution_count": 153,
   "id": "4c4aada7",
   "metadata": {
    "ExecuteTime": {
     "end_time": "2021-12-18T13:34:55.597884Z",
     "start_time": "2021-12-18T13:34:55.591353Z"
    }
   },
   "outputs": [
    {
     "name": "stdout",
     "output_type": "stream",
     "text": [
      "[[[[0, 7], 4], [[7, 8], [6, 0]]], [8, 1]]\n"
     ]
    },
    {
     "data": {
      "text/plain": [
       "True"
      ]
     },
     "execution_count": 153,
     "metadata": {},
     "output_type": "execute_result"
    }
   ],
   "source": [
    "n = [[[[[4,3],4],4],[7,[[8,4],9]]],[1,1]]\n",
    "n = reduce(n)\n",
    "print(n)\n",
    "n == [[[[0,7],4],[[7,8],[6,0]]],[8,1]]"
   ]
  },
  {
   "cell_type": "code",
   "execution_count": 154,
   "id": "dc624ef0",
   "metadata": {
    "ExecuteTime": {
     "end_time": "2021-12-18T13:34:55.807866Z",
     "start_time": "2021-12-18T13:34:55.804734Z"
    }
   },
   "outputs": [],
   "source": [
    "def add(n1, n2):\n",
    "    n = [n1, n2]\n",
    "    return reduce(n)"
   ]
  },
  {
   "cell_type": "code",
   "execution_count": 155,
   "id": "e3bf2f01",
   "metadata": {
    "ExecuteTime": {
     "end_time": "2021-12-18T13:34:56.002096Z",
     "start_time": "2021-12-18T13:34:55.995838Z"
    }
   },
   "outputs": [
    {
     "data": {
      "text/plain": [
       "True"
      ]
     },
     "execution_count": 155,
     "metadata": {},
     "output_type": "execute_result"
    }
   ],
   "source": [
    "n1 = [[[[4,3],4],4],[7,[[8,4],9]]]\n",
    "n2 = [1,1]\n",
    "n = add(n1, n2)\n",
    "n == [[[[0,7],4],[[7,8],[6,0]]],[8,1]]"
   ]
  },
  {
   "cell_type": "code",
   "execution_count": null,
   "id": "2ec7d084",
   "metadata": {},
   "outputs": [],
   "source": []
  },
  {
   "cell_type": "code",
   "execution_count": 156,
   "id": "a7ea9b26",
   "metadata": {
    "ExecuteTime": {
     "end_time": "2021-12-18T13:34:56.423847Z",
     "start_time": "2021-12-18T13:34:56.420151Z"
    }
   },
   "outputs": [],
   "source": [
    "example = \"\"\"\\\n",
    "[[[0,[5,8]],[[1,7],[9,6]]],[[4,[1,2]],[[1,4],2]]]\n",
    "[[[5,[2,8]],4],[5,[[9,9],0]]]\n",
    "[6,[[[6,2],[5,6]],[[7,6],[4,7]]]]\n",
    "[[[6,[0,7]],[0,9]],[4,[9,[9,0]]]]\n",
    "[[[7,[6,4]],[3,[1,3]]],[[[5,5],1],9]]\n",
    "[[6,[[7,3],[3,2]]],[[[3,8],[5,7]],4]]\n",
    "[[[[5,4],[7,7]],8],[[8,3],8]]\n",
    "[[9,3],[[9,9],[6,[4,9]]]]\n",
    "[[2,[[7,7],7]],[[5,8],[[9,3],[0,2]]]]\n",
    "[[[[5,2],5],[8,[3,7]]],[[5,[7,5]],[4,4]]]\"\"\"\n",
    "\n",
    "nns = [literal_eval(l) for l in example.split()]"
   ]
  },
  {
   "cell_type": "code",
   "execution_count": 157,
   "id": "d67a6cba",
   "metadata": {
    "ExecuteTime": {
     "end_time": "2021-12-18T13:34:56.906298Z",
     "start_time": "2021-12-18T13:34:56.755527Z"
    }
   },
   "outputs": [],
   "source": [
    "total = nns[0]\n",
    "for n in nns[1:]:\n",
    "    total = add(total, n)"
   ]
  },
  {
   "cell_type": "code",
   "execution_count": 119,
   "id": "6ea1813a",
   "metadata": {
    "ExecuteTime": {
     "end_time": "2021-12-18T12:22:16.156717Z",
     "start_time": "2021-12-18T12:22:16.149613Z"
    }
   },
   "outputs": [
    {
     "data": {
      "text/plain": [
       "True"
      ]
     },
     "execution_count": 119,
     "metadata": {},
     "output_type": "execute_result"
    }
   ],
   "source": [
    "total == [[[[6,6],[7,6]],[[7,7],[7,0]]],[[[7,7],[7,7]],[[7,8],[9,9]]]]"
   ]
  },
  {
   "cell_type": "code",
   "execution_count": 120,
   "id": "61853403",
   "metadata": {
    "ExecuteTime": {
     "end_time": "2021-12-18T12:22:16.554102Z",
     "start_time": "2021-12-18T12:22:16.550586Z"
    }
   },
   "outputs": [],
   "source": [
    "def magnitude(n, mult=3):\n",
    "    if type(n) is int:\n",
    "        return n\n",
    "    else:\n",
    "        n1, n2 = n\n",
    "        return 3*magnitude(n1) + 2*magnitude(n2)"
   ]
  },
  {
   "cell_type": "code",
   "execution_count": 121,
   "id": "3636c7a8",
   "metadata": {
    "ExecuteTime": {
     "end_time": "2021-12-18T12:22:16.793419Z",
     "start_time": "2021-12-18T12:22:16.788325Z"
    }
   },
   "outputs": [
    {
     "data": {
      "text/plain": [
       "4140"
      ]
     },
     "execution_count": 121,
     "metadata": {},
     "output_type": "execute_result"
    }
   ],
   "source": [
    "magnitude(total)"
   ]
  },
  {
   "cell_type": "markdown",
   "id": "5c9666b7",
   "metadata": {},
   "source": [
    "### Ok, let's calculate the actual total"
   ]
  },
  {
   "cell_type": "code",
   "execution_count": 122,
   "id": "b3c95171",
   "metadata": {
    "ExecuteTime": {
     "end_time": "2021-12-18T12:22:41.460494Z",
     "start_time": "2021-12-18T12:22:41.452740Z"
    }
   },
   "outputs": [],
   "source": [
    "with open('day18_snailfish.txt') as dfile:\n",
    "    numbers = [l.strip() for l in dfile]\n",
    "numbers = [literal_eval(l) for l in numbers]"
   ]
  },
  {
   "cell_type": "code",
   "execution_count": 123,
   "id": "5a514778",
   "metadata": {
    "ExecuteTime": {
     "end_time": "2021-12-18T12:22:43.200337Z",
     "start_time": "2021-12-18T12:22:41.960457Z"
    }
   },
   "outputs": [],
   "source": [
    "total = numbers[0]\n",
    "for n in numbers[1:]:\n",
    "    total = add(total, n)"
   ]
  },
  {
   "cell_type": "code",
   "execution_count": 124,
   "id": "a4f969e5",
   "metadata": {
    "ExecuteTime": {
     "end_time": "2021-12-18T12:22:43.207713Z",
     "start_time": "2021-12-18T12:22:43.203109Z"
    }
   },
   "outputs": [
    {
     "data": {
      "text/plain": [
       "[[[[7, 7], [7, 7]], [[7, 8], [0, 8]]], [[[8, 9], [9, 9]], [7, 7]]]"
      ]
     },
     "execution_count": 124,
     "metadata": {},
     "output_type": "execute_result"
    }
   ],
   "source": [
    "total"
   ]
  },
  {
   "cell_type": "code",
   "execution_count": 125,
   "id": "b60ed8b8",
   "metadata": {
    "ExecuteTime": {
     "end_time": "2021-12-18T12:22:44.834097Z",
     "start_time": "2021-12-18T12:22:44.828099Z"
    }
   },
   "outputs": [
    {
     "data": {
      "text/plain": [
       "3869"
      ]
     },
     "execution_count": 125,
     "metadata": {},
     "output_type": "execute_result"
    }
   ],
   "source": [
    "magnitude(total)"
   ]
  },
  {
   "cell_type": "code",
   "execution_count": null,
   "id": "23f5b85b",
   "metadata": {},
   "outputs": [],
   "source": []
  },
  {
   "cell_type": "markdown",
   "id": "c646f2d2",
   "metadata": {
    "ExecuteTime": {
     "end_time": "2021-12-18T12:22:51.229013Z",
     "start_time": "2021-12-18T12:22:51.225792Z"
    }
   },
   "source": [
    "# Part 2"
   ]
  },
  {
   "cell_type": "code",
   "execution_count": 134,
   "id": "a50ee104",
   "metadata": {
    "ExecuteTime": {
     "end_time": "2021-12-18T12:52:26.965983Z",
     "start_time": "2021-12-18T12:52:26.954843Z"
    }
   },
   "outputs": [],
   "source": [
    "with open('day18_snailfish.txt') as dfile:\n",
    "    numbers = [l.strip() for l in dfile]\n",
    "numbers = [literal_eval(l) for l in numbers]"
   ]
  },
  {
   "cell_type": "code",
   "execution_count": 135,
   "id": "cae1967b",
   "metadata": {
    "ExecuteTime": {
     "end_time": "2021-12-18T12:52:27.144787Z",
     "start_time": "2021-12-18T12:52:27.138753Z"
    }
   },
   "outputs": [
    {
     "data": {
      "text/plain": [
       "100"
      ]
     },
     "execution_count": 135,
     "metadata": {},
     "output_type": "execute_result"
    }
   ],
   "source": [
    "len(numbers)"
   ]
  },
  {
   "cell_type": "code",
   "execution_count": 138,
   "id": "60bdcd89",
   "metadata": {
    "ExecuteTime": {
     "end_time": "2021-12-18T12:53:30.747828Z",
     "start_time": "2021-12-18T12:53:14.909481Z"
    }
   },
   "outputs": [],
   "source": [
    "max_mag = 0\n",
    "\n",
    "N = len(numbers)\n",
    "for i in range(N):\n",
    "    for j in range(i+1, N):\n",
    "        n1 = deepcopy(numbers[i])\n",
    "        n2 = deepcopy(numbers[j])\n",
    "        mag = magnitude(add(n1, n2))\n",
    "        if mag > max_mag:\n",
    "            max_mag = mag\n",
    "            \n",
    "        n1 = deepcopy(numbers[i])\n",
    "        n2 = deepcopy(numbers[j])\n",
    "        mag = magnitude(add(n2, n1))\n",
    "        if mag > max_mag:\n",
    "            max_mag = mag"
   ]
  },
  {
   "cell_type": "code",
   "execution_count": 139,
   "id": "81fc9d5f",
   "metadata": {
    "ExecuteTime": {
     "end_time": "2021-12-18T12:53:30.754679Z",
     "start_time": "2021-12-18T12:53:30.750906Z"
    }
   },
   "outputs": [
    {
     "data": {
      "text/plain": [
       "4671"
      ]
     },
     "execution_count": 139,
     "metadata": {},
     "output_type": "execute_result"
    }
   ],
   "source": [
    "max_mag"
   ]
  },
  {
   "cell_type": "code",
   "execution_count": null,
   "id": "16b54620",
   "metadata": {},
   "outputs": [],
   "source": []
  },
  {
   "cell_type": "markdown",
   "id": "f7db6643",
   "metadata": {
    "ExecuteTime": {
     "end_time": "2021-12-18T14:22:17.399385Z",
     "start_time": "2021-12-18T14:22:17.380739Z"
    }
   },
   "source": [
    "# Reimplement with a class"
   ]
  },
  {
   "cell_type": "code",
   "execution_count": 9,
   "id": "4e075828",
   "metadata": {
    "ExecuteTime": {
     "end_time": "2021-12-18T14:50:45.986677Z",
     "start_time": "2021-12-18T14:50:45.969112Z"
    }
   },
   "outputs": [],
   "source": [
    "class Snumber():\n",
    "    def __init__(self, iterable):\n",
    "        self.number = deepcopy(iterable)\n",
    "        self.indices = self.get_indices(self.number)\n",
    "        \n",
    "    def __eq__(self, other):\n",
    "        return self.number == other.number\n",
    "    \n",
    "    def __repr__(self):\n",
    "        return f'Snumber({repr(self.number)})'\n",
    "    \n",
    "    def __getitem__(self, ind):\n",
    "        try:\n",
    "            n_list = self.number\n",
    "            for i in ind:\n",
    "                n_list = n_list[i]\n",
    "            return n_list\n",
    "        except IndexError:\n",
    "            return None\n",
    "        \n",
    "    def __setitem__(self, ind, value):\n",
    "        n_list = self.number\n",
    "        for i in ind[:-1]:\n",
    "            n_list = n_list[i]\n",
    "        n_list[ind[-1]] = value\n",
    "        # Redo indices, they might have changed\n",
    "        self.indices = self.get_indices(self.number)\n",
    "        \n",
    "    def find_left(self, location):\n",
    "        \"\"\"Find the int to the left of location\n",
    "\n",
    "        Args:\n",
    "            location - list of indices for the desired digit\n",
    "        Returns:\n",
    "            list of indices for the left-hand digit or None\n",
    "        \"\"\"\n",
    "        where = self.indices.index(location)\n",
    "        if where > 0:\n",
    "            return self.indices[where-1]\n",
    "        else:\n",
    "            return None\n",
    "        \n",
    "    def find_right(self, location):\n",
    "        \"\"\"Find the number to the right of location\n",
    "\n",
    "        Args:\n",
    "            location - list of indices for the desired digit\n",
    "        Returns:\n",
    "            list of indices for the left-hand digit or None\n",
    "        \"\"\"\n",
    "        where = self.indices.index(location)\n",
    "        if where < len(self.indices) - 1:\n",
    "            return self.indices[where+1]\n",
    "        else:\n",
    "            return None\n",
    "        \n",
    "    def explode(self):\n",
    "        # Find leftmost pair 4 levels deep\n",
    "        location = None\n",
    "        for inds in self.indices:\n",
    "            if len(inds) > 4:\n",
    "                location = inds[:-1]\n",
    "                break\n",
    "        if location is None:\n",
    "            return False\n",
    "        else:\n",
    "            n1, n2 = self[location]\n",
    "            \n",
    "            # Increment left neighbour (if found)\n",
    "            left = self.find_left(location+[0])\n",
    "            if left:\n",
    "                self[left] += n1\n",
    "\n",
    "            # Increment right neighbour (if found)\n",
    "            right = self.find_right(location+[1])\n",
    "            if right:\n",
    "                self[right] += n2\n",
    "\n",
    "            # Replace pair with 0\n",
    "            self[location] = 0\n",
    "            return True\n",
    "        \n",
    "    def split(self):\n",
    "        for location in self.indices:\n",
    "            digit = self[location]\n",
    "            if digit > 9:\n",
    "                n1 = floor(digit/2)\n",
    "                n2 = ceil(digit/2)\n",
    "                self[location] = [n1, n2]\n",
    "                return True\n",
    "        return False\n",
    "    \n",
    "    def reduce(self):\n",
    "        changed = self.explode()\n",
    "        if changed:\n",
    "            return self.reduce()\n",
    "        else:\n",
    "            changed = self.split()\n",
    "            if changed:\n",
    "                return self.reduce()\n",
    "            else:\n",
    "                return self\n",
    "            \n",
    "    def __add__(self, other):\n",
    "        new = Snumber([self.number, other.number])\n",
    "        new.reduce()\n",
    "        return new\n",
    "    \n",
    "    def magnitude(self):\n",
    "        def mag(n):\n",
    "            if type(n) is int:\n",
    "                return n\n",
    "            else:\n",
    "                n1, n2 = n\n",
    "                return 3*mag(n1) + 2*mag(n2)\n",
    "        return mag(self.number)\n",
    "    \n",
    "    @staticmethod\n",
    "    def get_indices(n):\n",
    "        if type(n) is int:\n",
    "            return [[]]\n",
    "\n",
    "        else:\n",
    "            indices = []\n",
    "            for i in range(2):\n",
    "                for ids in Snumber.get_indices(n[i]):\n",
    "                    indices.append([i] + ids)\n",
    "\n",
    "            return indices"
   ]
  },
  {
   "cell_type": "code",
   "execution_count": 10,
   "id": "5ec3cd7d",
   "metadata": {
    "ExecuteTime": {
     "end_time": "2021-12-18T14:50:46.569741Z",
     "start_time": "2021-12-18T14:50:46.563077Z"
    }
   },
   "outputs": [
    {
     "name": "stdout",
     "output_type": "stream",
     "text": [
      "True\n"
     ]
    }
   ],
   "source": [
    "n1 = Snumber([[[[4,3],4],4],[7,[[8,4],9]]])\n",
    "n2 = Snumber([1,1])\n",
    "n = n1 + n2\n",
    "print(n == Snumber([[[[0,7],4],[[7,8],[6,0]]],[8,1]]))"
   ]
  },
  {
   "cell_type": "code",
   "execution_count": 11,
   "id": "cedfea66",
   "metadata": {
    "ExecuteTime": {
     "end_time": "2021-12-18T14:50:47.336856Z",
     "start_time": "2021-12-18T14:50:47.323157Z"
    }
   },
   "outputs": [
    {
     "data": {
      "text/plain": [
       "1384"
      ]
     },
     "execution_count": 11,
     "metadata": {},
     "output_type": "execute_result"
    }
   ],
   "source": [
    "n.magnitude()"
   ]
  },
  {
   "cell_type": "markdown",
   "id": "7cd26ca7",
   "metadata": {},
   "source": [
    "## Tests"
   ]
  },
  {
   "cell_type": "code",
   "execution_count": 12,
   "id": "bdda8489",
   "metadata": {
    "ExecuteTime": {
     "end_time": "2021-12-18T14:50:48.706989Z",
     "start_time": "2021-12-18T14:50:48.697455Z"
    }
   },
   "outputs": [
    {
     "name": "stdout",
     "output_type": "stream",
     "text": [
      "Snumber([[[[0, 7], 4], [[7, 8], [6, 0]]], [8, 1]])\n"
     ]
    },
    {
     "data": {
      "text/plain": [
       "True"
      ]
     },
     "execution_count": 12,
     "metadata": {},
     "output_type": "execute_result"
    }
   ],
   "source": [
    "n = Snumber([[[[[4,3],4],4],[7,[[8,4],9]]],[1,1]])\n",
    "n.reduce()\n",
    "print(n)\n",
    "n == Snumber([[[[0,7],4],[[7,8],[6,0]]],[8,1]])"
   ]
  },
  {
   "cell_type": "code",
   "execution_count": 13,
   "id": "81311211",
   "metadata": {
    "ExecuteTime": {
     "end_time": "2021-12-18T14:50:48.960040Z",
     "start_time": "2021-12-18T14:50:48.956319Z"
    }
   },
   "outputs": [],
   "source": [
    "example = \"\"\"\\\n",
    "[[[0,[5,8]],[[1,7],[9,6]]],[[4,[1,2]],[[1,4],2]]]\n",
    "[[[5,[2,8]],4],[5,[[9,9],0]]]\n",
    "[6,[[[6,2],[5,6]],[[7,6],[4,7]]]]\n",
    "[[[6,[0,7]],[0,9]],[4,[9,[9,0]]]]\n",
    "[[[7,[6,4]],[3,[1,3]]],[[[5,5],1],9]]\n",
    "[[6,[[7,3],[3,2]]],[[[3,8],[5,7]],4]]\n",
    "[[[[5,4],[7,7]],8],[[8,3],8]]\n",
    "[[9,3],[[9,9],[6,[4,9]]]]\n",
    "[[2,[[7,7],7]],[[5,8],[[9,3],[0,2]]]]\n",
    "[[[[5,2],5],[8,[3,7]]],[[5,[7,5]],[4,4]]]\"\"\"\n",
    "\n",
    "nns = [Snumber(literal_eval(l)) for l in example.split()]"
   ]
  },
  {
   "cell_type": "code",
   "execution_count": 14,
   "id": "121cacd8",
   "metadata": {
    "ExecuteTime": {
     "end_time": "2021-12-18T14:50:49.409797Z",
     "start_time": "2021-12-18T14:50:49.258881Z"
    }
   },
   "outputs": [
    {
     "name": "stdout",
     "output_type": "stream",
     "text": [
      "True\n",
      "4140\n"
     ]
    }
   ],
   "source": [
    "total = nns[0]\n",
    "for n in nns[1:]:\n",
    "    total = total + n\n",
    "\n",
    "print(total == Snumber([[[[6,6],[7,6]],[[7,7],[7,0]]],[[[7,7],[7,7]],[[7,8],[9,9]]]]))\n",
    "print(total.magnitude())"
   ]
  },
  {
   "cell_type": "markdown",
   "id": "53eb923c",
   "metadata": {},
   "source": [
    "### Part 1"
   ]
  },
  {
   "cell_type": "code",
   "execution_count": 15,
   "id": "e8570f3f",
   "metadata": {
    "ExecuteTime": {
     "end_time": "2021-12-18T14:50:50.824843Z",
     "start_time": "2021-12-18T14:50:49.751832Z"
    }
   },
   "outputs": [
    {
     "data": {
      "text/plain": [
       "3869"
      ]
     },
     "execution_count": 15,
     "metadata": {},
     "output_type": "execute_result"
    }
   ],
   "source": [
    "snumbers = [Snumber(n) for n in numbers]\n",
    "\n",
    "total = snumbers[0]\n",
    "for n in snumbers[1:]:\n",
    "    total = total + n\n",
    "    \n",
    "total.magnitude()"
   ]
  },
  {
   "cell_type": "markdown",
   "id": "ffa90e2c",
   "metadata": {
    "ExecuteTime": {
     "end_time": "2021-12-18T14:23:58.928644Z",
     "start_time": "2021-12-18T14:23:58.925796Z"
    }
   },
   "source": [
    "### Part 2"
   ]
  },
  {
   "cell_type": "code",
   "execution_count": 16,
   "id": "5507fd89",
   "metadata": {
    "ExecuteTime": {
     "end_time": "2021-12-18T14:51:05.088707Z",
     "start_time": "2021-12-18T14:50:50.827436Z"
    }
   },
   "outputs": [
    {
     "data": {
      "text/plain": [
       "4671"
      ]
     },
     "execution_count": 16,
     "metadata": {},
     "output_type": "execute_result"
    }
   ],
   "source": [
    "max_mag = 0\n",
    "\n",
    "N = len(snumbers)\n",
    "for i in range(N):\n",
    "    for j in range(i+1, N):\n",
    "        n1 = snumbers[i]\n",
    "        n2 = snumbers[j]\n",
    "        mag = (n1 + n2).magnitude()\n",
    "        if mag > max_mag:\n",
    "            max_mag = mag\n",
    "            \n",
    "        mag = (n2 + n1).magnitude()\n",
    "        if mag > max_mag:\n",
    "            max_mag = mag\n",
    "\n",
    "max_mag"
   ]
  },
  {
   "cell_type": "code",
   "execution_count": null,
   "id": "de19abdb",
   "metadata": {},
   "outputs": [],
   "source": []
  }
 ],
 "metadata": {
  "kernelspec": {
   "display_name": "Python 3",
   "language": "python",
   "name": "python3"
  },
  "language_info": {
   "codemirror_mode": {
    "name": "ipython",
    "version": 3
   },
   "file_extension": ".py",
   "mimetype": "text/x-python",
   "name": "python",
   "nbconvert_exporter": "python",
   "pygments_lexer": "ipython3",
   "version": "3.8.12"
  }
 },
 "nbformat": 4,
 "nbformat_minor": 5
}
