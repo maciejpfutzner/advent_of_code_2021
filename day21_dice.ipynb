{
 "cells": [
  {
   "cell_type": "code",
   "execution_count": 1,
   "id": "9b93b72d",
   "metadata": {
    "ExecuteTime": {
     "end_time": "2022-01-14T14:27:35.678391Z",
     "start_time": "2022-01-14T14:27:35.670518Z"
    }
   },
   "outputs": [],
   "source": [
    "from itertools import cycle\n",
    "from collections import Counter"
   ]
  },
  {
   "cell_type": "code",
   "execution_count": 2,
   "id": "3dea0198",
   "metadata": {
    "ExecuteTime": {
     "end_time": "2022-01-14T14:27:35.684417Z",
     "start_time": "2022-01-14T14:27:35.681145Z"
    }
   },
   "outputs": [],
   "source": [
    "p1_start = 8\n",
    "p2_start = 7"
   ]
  },
  {
   "cell_type": "markdown",
   "id": "76af8df1",
   "metadata": {},
   "source": [
    "# Part 1"
   ]
  },
  {
   "cell_type": "code",
   "execution_count": 3,
   "id": "0f13dee1",
   "metadata": {
    "ExecuteTime": {
     "end_time": "2022-01-14T14:27:35.693073Z",
     "start_time": "2022-01-14T14:27:35.688473Z"
    }
   },
   "outputs": [],
   "source": [
    "die = cycle(range(100))\n",
    "def roll():\n",
    "    res = 0\n",
    "    for i in range(3):\n",
    "        res += (next(die) + 1)\n",
    "    return res"
   ]
  },
  {
   "cell_type": "code",
   "execution_count": 4,
   "id": "2b54b685",
   "metadata": {
    "ExecuteTime": {
     "end_time": "2022-01-14T14:27:35.702589Z",
     "start_time": "2022-01-14T14:27:35.698852Z"
    }
   },
   "outputs": [],
   "source": [
    "def move(pos, steps):\n",
    "    return (pos + steps -1) % 10 + 1"
   ]
  },
  {
   "cell_type": "code",
   "execution_count": 5,
   "id": "d7af7af1",
   "metadata": {
    "ExecuteTime": {
     "end_time": "2022-01-14T14:27:35.710827Z",
     "start_time": "2022-01-14T14:27:35.705047Z"
    }
   },
   "outputs": [
    {
     "name": "stdout",
     "output_type": "stream",
     "text": [
      "player 1 wins\n"
     ]
    }
   ],
   "source": [
    "die = cycle(range(100))\n",
    "\n",
    "p1 = p1_start\n",
    "p2 = p2_start\n",
    "points1, points2 = 0, 0\n",
    "rolls = 0\n",
    "\n",
    "for i in range(int(1e6)):\n",
    "    rolls += 3\n",
    "    steps = roll()\n",
    "    \n",
    "    if i%2 == 0:\n",
    "        p1 = move(p1, steps)\n",
    "        points1 += p1\n",
    "        #print(f'p1 moves {steps} steps to {p1} for a total of {points1}')\n",
    "        if points1 >= 1000:\n",
    "            print('player 1 wins')\n",
    "            break\n",
    "    else:\n",
    "        p2 = move(p2, steps)\n",
    "        points2 += p2\n",
    "        #print(f'p2 moves {steps} steps to {p2} for a total of {points2}')\n",
    "        if points2 >= 1000:\n",
    "            print('player 2 wins')\n",
    "            break"
   ]
  },
  {
   "cell_type": "code",
   "execution_count": 6,
   "id": "c324e6ed",
   "metadata": {
    "ExecuteTime": {
     "end_time": "2022-01-14T14:27:35.716940Z",
     "start_time": "2022-01-14T14:27:35.713240Z"
    }
   },
   "outputs": [
    {
     "name": "stdout",
     "output_type": "stream",
     "text": [
      "1000 678 747\n"
     ]
    }
   ],
   "source": [
    "print(points1, points2, rolls)"
   ]
  },
  {
   "cell_type": "code",
   "execution_count": 7,
   "id": "a8e72c54",
   "metadata": {
    "ExecuteTime": {
     "end_time": "2022-01-14T14:27:35.732412Z",
     "start_time": "2022-01-14T14:27:35.719308Z"
    }
   },
   "outputs": [
    {
     "data": {
      "text/plain": [
       "506466"
      ]
     },
     "execution_count": 7,
     "metadata": {},
     "output_type": "execute_result"
    }
   ],
   "source": [
    "min(points2, points1)*rolls"
   ]
  },
  {
   "cell_type": "markdown",
   "id": "60862f88",
   "metadata": {},
   "source": [
    "# Part 2"
   ]
  },
  {
   "cell_type": "code",
   "execution_count": 8,
   "id": "e8706df3",
   "metadata": {
    "ExecuteTime": {
     "end_time": "2022-01-14T14:27:35.746215Z",
     "start_time": "2022-01-14T14:27:35.741384Z"
    }
   },
   "outputs": [],
   "source": [
    "from collections import namedtuple"
   ]
  },
  {
   "cell_type": "code",
   "execution_count": 9,
   "id": "83d803f0",
   "metadata": {
    "ExecuteTime": {
     "end_time": "2022-01-14T14:27:38.284410Z",
     "start_time": "2022-01-14T14:27:35.750361Z"
    }
   },
   "outputs": [
    {
     "name": "stdout",
     "output_type": "stream",
     "text": [
      "49 different states\n",
      "729 universes\n",
      "2401 different states\n",
      "531441 universes\n",
      "12980 different states\n",
      "328198793 universes\n",
      "8464 different states\n",
      "67048621950 universes\n",
      "4900 different states\n",
      "2206559861353 universes\n",
      "2401 different states\n",
      "15277777322890 universes\n",
      "625 different states\n",
      "6392274812640 universes\n",
      "100 different states\n",
      "83114827628 universes\n",
      "1 different states\n",
      "3049974 universes\n",
      "0 different states\n",
      "0 universes\n"
     ]
    }
   ],
   "source": [
    "threshold = 21\n",
    "\n",
    "# The state of one game is a tuple\n",
    "# position of player one and two, score of one and two\n",
    "State = namedtuple('State', ['pos1', 'pos2', 'score1', 'score2'])\n",
    "# We will keep a Counter of all universes for a given state\n",
    "states = Counter([State(p1_start, p2_start, 0, 0)])\n",
    "wins = Counter()\n",
    "\n",
    "while len(states) > 0:\n",
    "    for player in range(2):\n",
    "        new_states = Counter()\n",
    "        # roll the dice 3 times\n",
    "        for s1 in range(1, 4):\n",
    "            for s2 in range(1, 4):\n",
    "                for s3 in range(1, 4):\n",
    "                    steps = s1 + s2 + s3\n",
    "                    for state, count in states.items():\n",
    "                        pos = state[player]\n",
    "                        score = state[player+2]\n",
    "                        new_pos = move(pos, steps)\n",
    "                        \n",
    "                        if score + new_pos >= threshold:\n",
    "                            wins[player] += count\n",
    "                        else:\n",
    "                            new_state = list(state)\n",
    "                            new_state[player] = new_pos\n",
    "                            new_state[player+2] = score + new_pos\n",
    "                            new_state = State(*new_state)\n",
    "                            #print(new_state)\n",
    "                            new_states[new_state] += count\n",
    "        states = new_states\n",
    "    print(len(states), 'different states')\n",
    "    print(sum(states.values()), 'universes')"
   ]
  },
  {
   "cell_type": "code",
   "execution_count": 10,
   "id": "19a1b470",
   "metadata": {
    "ExecuteTime": {
     "end_time": "2022-01-14T14:27:38.293288Z",
     "start_time": "2022-01-14T14:27:38.286122Z"
    }
   },
   "outputs": [
    {
     "data": {
      "text/plain": [
       "[(0, 632979211251440), (1, 401295357757593)]"
      ]
     },
     "execution_count": 10,
     "metadata": {},
     "output_type": "execute_result"
    }
   ],
   "source": [
    "wins.most_common()"
   ]
  },
  {
   "cell_type": "code",
   "execution_count": 15,
   "id": "9178d693",
   "metadata": {
    "ExecuteTime": {
     "end_time": "2022-01-14T14:28:01.073481Z",
     "start_time": "2022-01-14T14:28:01.069111Z"
    }
   },
   "outputs": [
    {
     "data": {
      "text/plain": [
       "Counter()"
      ]
     },
     "execution_count": 15,
     "metadata": {},
     "output_type": "execute_result"
    }
   ],
   "source": [
    "states"
   ]
  },
  {
   "cell_type": "markdown",
   "id": "ab85becb",
   "metadata": {},
   "source": [
    "## Old, wrong approach\n",
    "We moved players independently"
   ]
  },
  {
   "cell_type": "code",
   "execution_count": 11,
   "id": "0fd89a5c",
   "metadata": {
    "ExecuteTime": {
     "end_time": "2022-01-14T14:27:38.306235Z",
     "start_time": "2022-01-14T14:27:38.297771Z"
    }
   },
   "outputs": [],
   "source": [
    "def step(pawns):\n",
    "    \"\"\"Do one step for one player\"\"\"\n",
    "    new_pawns = {pos: Counter() for pos in range(1,11)}\n",
    "    # For each outcome of the die\n",
    "    for s1 in range(1, 4):\n",
    "        for s2 in range(1, 4):\n",
    "            for s3 in range(1, 4):\n",
    "                steps = s1 + s2 + s3\n",
    "                #print(f'rolled {s1}+{s2}+{s3}={steps}')\n",
    "                # For each current position of the board\n",
    "                for pos in pawns:\n",
    "                    # Move the number of steps\n",
    "                    new_pos = move(pos, steps)\n",
    "                    #print(f'moving from {pos} to {new_pos}')\n",
    "                    # Add the score \n",
    "                    new_pawns[new_pos].update(\n",
    "                        {score+new_pos: count for\n",
    "                         score, count in pawns[pos].items()}\n",
    "                    )\n",
    "                #print(f'current scores:', new_pawns)\n",
    "                    \n",
    "    return new_pawns"
   ]
  },
  {
   "cell_type": "code",
   "execution_count": 12,
   "id": "a39a4f8d",
   "metadata": {
    "ExecuteTime": {
     "end_time": "2022-01-14T14:27:38.350057Z",
     "start_time": "2022-01-14T14:27:38.308785Z"
    }
   },
   "outputs": [
    {
     "name": "stdout",
     "output_type": "stream",
     "text": [
      "{0: {1: Counter(), 2: Counter(), 3: Counter(), 4: Counter({0: 1}), 5: Counter(), 6: Counter(), 7: Counter(), 8: Counter(), 9: Counter(), 10: Counter()}, 1: {1: Counter(), 2: Counter(), 3: Counter(), 4: Counter(), 5: Counter(), 6: Counter(), 7: Counter(), 8: Counter({0: 1}), 9: Counter(), 10: Counter()}}\n",
      "\n",
      "{0: {1: Counter({1: 6}), 2: Counter({2: 3}), 3: Counter({3: 1}), 4: Counter(), 5: Counter(), 6: Counter(), 7: Counter({7: 1}), 8: Counter({8: 3}), 9: Counter({9: 6}), 10: Counter({10: 7})}, 1: {1: Counter({1: 1}), 2: Counter({2: 3}), 3: Counter({3: 6}), 4: Counter({4: 7}), 5: Counter({5: 6}), 6: Counter({6: 3}), 7: Counter({7: 1}), 8: Counter(), 9: Counter(), 10: Counter()}}\n",
      "\n",
      "{0: {1: Counter({9: 3, 8: 3, 4: 3, 3: 3}), 2: Counter({10: 9, 11: 6, 9: 6, 5: 1}), 3: Counter({12: 18, 11: 18, 13: 7, 10: 7}), 4: Counter({13: 36, 14: 21, 12: 21, 5: 6, 11: 6}), 5: Counter({15: 42, 14: 42, 6: 18, 13: 18, 7: 3, 12: 3}), 6: Counter({16: 49, 7: 36, 15: 36, 8: 9, 14: 9, 9: 1, 13: 1}), 7: Counter({8: 42, 17: 42, 9: 18, 16: 18, 10: 3, 15: 3}), 8: Counter({9: 36, 10: 21, 18: 21, 11: 6, 17: 6}), 9: Counter({11: 18, 10: 18, 12: 7, 19: 7}), 10: Counter({12: 9, 13: 6, 11: 6, 17: 1})}, 1: {1: Counter({6: 42, 5: 42, 7: 18, 4: 18, 8: 3, 3: 3}), 2: Counter({7: 36, 8: 21, 6: 21, 9: 6, 5: 6}), 3: Counter({9: 18, 8: 18, 10: 7, 7: 7}), 4: Counter({10: 9, 11: 6, 9: 6, 5: 1}), 5: Counter({7: 3, 6: 3, 12: 3, 11: 3}), 6: Counter({8: 9, 9: 6, 7: 6, 13: 1}), 7: Counter({10: 18, 9: 18, 11: 7, 8: 7}), 8: Counter({11: 36, 12: 21, 10: 21, 13: 6, 9: 6}), 9: Counter({13: 42, 12: 42, 14: 18, 11: 18, 15: 3, 10: 3}), 10: Counter({14: 49, 15: 36, 13: 36, 16: 9, 12: 9, 17: 1, 11: 1})}}\n",
      "\n",
      "{0: {1: Counter({16: 519, 15: 474, 14: 369, 17: 348, 8: 237, 13: 201, 9: 180, 18: 132, 7: 126, 12: 102, 10: 102, 11: 60, 6: 37, 19: 21}), 2: Counter({17: 522, 18: 451, 16: 378, 10: 315, 19: 270, 9: 270, 15: 230, 11: 223, 8: 108, 14: 106, 12: 106, 13: 72, 20: 63, 7: 18}), 3: Counter({19: 420, 18: 363, 12: 348, 11: 348, 20: 331, 10: 225, 13: 201, 17: 201, 16: 102, 14: 102, 15: 60, 9: 54, 8: 6}), 4: Counter({13: 366, 12: 282, 14: 273, 20: 255, 15: 168, 19: 168, 11: 111, 16: 72, 18: 69, 17: 39, 10: 18, 8: 3, 7: 3}), 5: Counter({14: 286, 15: 270, 16: 204, 13: 144, 17: 103, 20: 45, 18: 37, 12: 36, 9: 9, 8: 9, 19: 9, 10: 1}), 6: Counter({16: 208, 17: 204, 15: 162, 18: 123, 14: 60, 19: 49, 10: 18, 9: 18, 11: 3}), 7: Counter({18: 192, 19: 150, 17: 150, 20: 93, 16: 93, 15: 21, 11: 21, 10: 21, 12: 12}), 8: Counter({20: 208, 19: 204, 18: 123, 17: 60, 13: 25, 14: 18, 16: 18, 12: 18, 11: 18, 15: 3}), 9: Counter({20: 204, 19: 103, 15: 54, 18: 46, 16: 45, 14: 42, 17: 18, 13: 9, 12: 9}), 10: Counter({17: 126, 16: 108, 20: 72, 18: 72, 15: 45, 19: 42, 14: 3, 13: 3})}, 1: {1: Counter({10: 192, 11: 150, 9: 150, 12: 114, 8: 114, 13: 42, 7: 42, 14: 12, 6: 12}), 2: Counter({12: 208, 13: 204, 11: 204, 14: 123, 10: 123, 15: 67, 9: 67, 16: 18, 8: 18, 17: 3, 7: 3}), 3: Counter({14: 335, 15: 270, 13: 270, 16: 204, 12: 204, 17: 103, 11: 103, 18: 45, 10: 45, 19: 9, 9: 9, 20: 1, 8: 1}), 4: Counter({16: 429, 15: 408, 17: 405, 14: 273, 18: 255, 13: 168, 19: 126, 12: 72, 10: 45, 9: 42, 11: 39, 20: 27, 8: 18, 7: 3}), 5: Counter({18: 547, 17: 474, 19: 420, 16: 369, 20: 237, 15: 201, 11: 147, 10: 132, 14: 102, 12: 96, 13: 60, 9: 54, 8: 9}), 6: Counter({19: 522, 20: 451, 18: 378, 12: 315, 11: 270, 17: 230, 13: 223, 10: 108, 16: 106, 14: 106, 15: 72, 9: 18}), 7: Counter({13: 420, 14: 363, 20: 348, 12: 331, 15: 201, 19: 201, 11: 126, 18: 102, 16: 102, 17: 60, 10: 21}), 8: Counter({15: 405, 14: 402, 13: 297, 16: 273, 17: 168, 12: 108, 20: 72, 18: 72, 19: 42, 11: 18}), 9: Counter({16: 334, 17: 270, 15: 261, 18: 204, 14: 168, 19: 103, 13: 54, 20: 46, 12: 9}), 10: Counter({18: 208, 19: 204, 17: 204, 20: 123, 16: 123, 15: 67, 14: 18, 13: 3})}}\n",
      "\n",
      "{0: {1: Counter({15: 4430, 16: 4346, 17: 4089, 14: 3904, 18: 3814, 19: 3650, 20: 3549, 13: 3148, 12: 2032, 11: 1276, 10: 603, 9: 207, 8: 36}), 2: Counter({18: 3655, 17: 3507, 19: 3462, 20: 3220, 16: 3153, 15: 2247, 14: 1545, 13: 882, 12: 537, 11: 234, 10: 69, 9: 9}), 3: Counter({20: 3162, 19: 2934, 18: 2322, 17: 1728, 16: 978, 15: 609, 14: 384, 13: 276, 12: 135, 11: 30, 10: 3}), 4: Counter({20: 2625, 19: 1836, 18: 1222, 17: 583, 16: 390, 15: 321, 14: 283, 12: 246, 13: 243, 11: 126, 10: 37}), 5: Counter({20: 2543, 19: 1693, 18: 906, 14: 828, 13: 819, 15: 702, 17: 619, 16: 577, 12: 396, 11: 111}), 6: Counter({20: 2961, 15: 1944, 16: 1803, 19: 1773, 14: 1752, 17: 1452, 18: 1398, 13: 810, 12: 222}), 7: Counter({17: 3297, 16: 3042, 18: 2931, 20: 2878, 19: 2721, 15: 2328, 14: 993, 13: 259}), 8: Counter({19: 4342, 20: 4333, 18: 4222, 17: 3303, 16: 2232, 15: 891, 14: 222}), 9: Counter({20: 4623, 19: 3900, 18: 2583, 17: 1446, 16: 504, 15: 111}), 10: Counter({20: 2604, 19: 1422, 18: 672, 17: 201, 16: 37})}, 1: {1: Counter({19: 8140, 18: 7788, 20: 7500, 17: 7002, 16: 6172, 15: 5607, 14: 5337, 13: 4915, 12: 3792, 11: 2163, 10: 832, 9: 192, 8: 21}), 2: Counter({20: 7770, 19: 6906, 18: 6212, 15: 6160, 16: 6060, 17: 5886, 14: 5520, 13: 3802, 12: 1854, 11: 585, 10: 109, 9: 9}), 3: Counter({17: 6690, 16: 6573, 18: 6130, 20: 5649, 19: 5649, 15: 5242, 14: 3090, 13: 1236, 12: 312, 11: 45, 10: 3}), 4: Counter({18: 6486, 19: 6225, 17: 5703, 20: 5583, 16: 3951, 15: 1989, 14: 774, 13: 258, 12: 123, 11: 42, 10: 12}), 5: Counter({20: 5401, 19: 5050, 18: 3991, 17: 2569, 16: 1410, 15: 870, 14: 535, 13: 360, 12: 129, 11: 36}), 6: Counter({20: 3479, 19: 2790, 18: 2221, 17: 1795, 16: 1587, 15: 1110, 14: 739, 13: 261, 12: 72}), 7: Counter({20: 2973, 19: 2865, 18: 2640, 17: 2262, 16: 1521, 15: 927, 14: 315, 13: 84}), 8: Counter({20: 3685, 19: 3210, 18: 2550, 17: 1603, 16: 879, 15: 282, 14: 72}), 9: Counter({20: 3340, 19: 2403, 18: 1347, 17: 592, 16: 162, 15: 36}), 10: Counter({20: 2283, 19: 1077, 18: 354, 17: 72, 16: 12})}}\n",
      "\n",
      "{0: {1: Counter({20: 58274, 19: 45698, 18: 38428, 17: 34642, 16: 30453, 15: 23904, 14: 14538, 13: 6522, 12: 1857, 11: 300, 10: 9}), 2: Counter({20: 54045, 19: 48492, 18: 43683, 17: 36144, 16: 25089, 15: 13143, 14: 4803, 13: 1074, 12: 114}), 3: Counter({20: 58588, 19: 49174, 18: 36066, 17: 21562, 16: 9373, 15: 2766, 14: 459, 13: 37}), 4: Counter({20: 47343, 19: 31835, 18: 17500, 17: 7951, 16: 3094, 15: 1387, 14: 603, 13: 207, 12: 36}), 5: Counter({20: 30588, 19: 19320, 18: 11913, 17: 6855, 16: 4062, 15: 1878, 14: 630, 13: 108}), 6: Counter({20: 30102, 19: 22069, 18: 13938, 17: 8388, 16: 3828, 15: 1269, 14: 216}), 7: Counter({20: 28399, 19: 18097, 18: 10552, 17: 4681, 16: 1503, 15: 252}), 8: Counter({20: 17895, 19: 9963, 18: 4230, 17: 1305, 16: 216}), 9: Counter({20: 6531, 19: 2466, 18: 675, 17: 108}), 10: Counter({20: 1087, 19: 234, 18: 36})}, 1: {1: Counter({20: 125098, 19: 115251, 18: 97316, 17: 74319, 16: 49633, 15: 28630, 14: 13396, 13: 4863, 12: 1224, 11: 190, 10: 9}), 2: Counter({20: 89918, 19: 70751, 18: 49920, 17: 30643, 16: 15901, 15: 6501, 14: 1959, 13: 387, 12: 39}), 3: Counter({20: 51480, 19: 34122, 18: 19548, 17: 9450, 16: 3492, 15: 942, 14: 150, 13: 12}), 4: Counter({20: 28630, 19: 17559, 18: 10483, 17: 6562, 16: 4137, 15: 2199, 14: 832, 13: 192, 12: 21}), 5: Counter({20: 28816, 19: 23647, 18: 19060, 17: 13302, 16: 7074, 15: 2605, 14: 585, 13: 63}), 6: Counter({20: 52203, 19: 42216, 18: 28626, 17: 14778, 16: 5322, 15: 1179, 14: 126}), 7: Counter({20: 61183, 19: 38727, 18: 18828, 17: 6499, 16: 1398, 15: 147}), 8: Counter({20: 38100, 19: 17505, 18: 5809, 17: 1215, 16: 126}), 9: Counter({20: 10674, 19: 3243, 18: 630, 17: 63}), 10: Counter({20: 1261, 19: 219, 18: 21})}}\n",
      "\n",
      "{0: {1: Counter({20: 718932, 19: 459786, 18: 262197, 17: 127899, 16: 51279, 15: 15504, 14: 3183, 13: 330}), 2: Counter({20: 334287, 19: 177370, 18: 79489, 17: 28590, 16: 7560, 15: 1306, 14: 108}), 3: Counter({20: 119765, 19: 50065, 18: 16399, 17: 3789, 16: 531, 15: 36}), 4: Counter({20: 56529, 19: 31101, 18: 15816, 17: 6630, 16: 1857, 15: 300, 14: 9}), 5: Counter({20: 86880, 19: 48633, 18: 20640, 17: 5685, 16: 900, 15: 27}), 6: Counter({20: 102096, 19: 42391, 18: 11484, 17: 1800, 16: 54}), 7: Counter({20: 52416, 19: 13719, 18: 2100, 17: 63}), 8: Counter({20: 12048, 19: 1800, 18: 54}), 9: Counter({20: 900, 19: 27}), 10: Counter({20: 9})}, 1: {1: Counter({20: 830982, 19: 538931, 18: 300859, 17: 136969, 16: 48271, 15: 12252, 14: 2016, 13: 165}), 2: Counter({20: 496764, 19: 255096, 18: 104367, 17: 32304, 16: 7038, 15: 966, 14: 63}), 3: Counter({20: 188108, 19: 67833, 18: 18117, 17: 3343, 16: 381, 15: 21}), 4: Counter({20: 81943, 19: 35654, 18: 14359, 17: 4926, 16: 1224, 15: 190, 14: 9}), 5: Counter({20: 94011, 19: 42273, 18: 14976, 17: 3711, 16: 570, 15: 27}), 6: Counter({20: 86403, 19: 30351, 18: 7461, 17: 1140, 16: 54}), 7: Counter({20: 36591, 19: 8823, 18: 1330, 17: 63}), 8: Counter({20: 7680, 19: 1140, 18: 54}), 9: Counter({20: 570, 19: 27}), 10: Counter({20: 9})}}\n",
      "\n",
      "{0: {1: Counter({20: 1151905, 19: 443320, 18: 130521, 17: 26919, 16: 3403, 15: 162}), 2: Counter({20: 280837, 19: 70767, 18: 11880, 17: 1098, 16: 27}), 3: Counter({20: 34926, 19: 4881, 18: 381, 17: 9}), 4: Counter({20: 52341, 19: 15531, 18: 3183, 17: 330}), 5: Counter({20: 47818, 19: 9657, 18: 990}), 6: Counter({20: 19422, 19: 1980}), 7: Counter({20: 2310}), 8: Counter(), 9: Counter(), 10: Counter()}, 1: {1: Counter({20: 1178145, 19: 398514, 18: 104895, 17: 19839, 16: 2358, 15: 117}), 2: Counter({20: 211419, 19: 48745, 18: 7851, 17: 753, 16: 27}), 3: Counter({20: 23340, 19: 3258, 18: 271, 17: 9}), 4: Counter({20: 49003, 19: 12279, 18: 2016, 17: 165}), 5: Counter({20: 37722, 19: 6111, 18: 495}), 6: Counter({20: 12285, 19: 990}), 7: Counter({20: 1155}), 8: Counter(), 9: Counter(), 10: Counter()}}\n",
      "\n",
      "{0: {1: Counter({20: 258075, 19: 39051, 18: 3105, 17: 27}), 2: Counter({20: 15870, 19: 999}), 3: Counter({20: 330}), 4: Counter({20: 3403, 19: 162}), 5: Counter({20: 486}), 6: Counter(), 7: Counter(), 8: Counter(), 9: Counter(), 10: Counter()}, 1: {1: Counter({20: 180910, 19: 24225, 18: 1770, 17: 27}), 2: Counter({20: 9289, 19: 504}), 3: Counter({20: 165}), 4: Counter({20: 2358, 19: 117}), 5: Counter({20: 351}), 6: Counter(), 7: Counter(), 8: Counter(), 9: Counter(), 10: Counter()}}\n",
      "\n",
      "{0: {1: Counter({20: 1971}), 2: Counter(), 3: Counter(), 4: Counter(), 5: Counter(), 6: Counter(), 7: Counter(), 8: Counter(), 9: Counter(), 10: Counter()}, 1: {1: Counter({20: 1206}), 2: Counter(), 3: Counter(), 4: Counter(), 5: Counter(), 6: Counter(), 7: Counter(), 8: Counter(), 9: Counter(), 10: Counter()}}\n",
      "\n"
     ]
    },
    {
     "name": "stdout",
     "output_type": "stream",
     "text": [
      "{0: {1: Counter(), 2: Counter(), 3: Counter(), 4: Counter(), 5: Counter(), 6: Counter(), 7: Counter(), 8: Counter(), 9: Counter(), 10: Counter()}, 1: {1: Counter(), 2: Counter(), 3: Counter(), 4: Counter(), 5: Counter(), 6: Counter(), 7: Counter(), 8: Counter(), 9: Counter(), 10: Counter()}}\n",
      "\n"
     ]
    }
   ],
   "source": [
    "# player 1 is index 0, player 2 is 1\n",
    "# for each player, for each positions, for each score\n",
    "# we keep the number of pawns\n",
    "player_pawns = {}\n",
    "for player in range(2):\n",
    "    player_pawns[player] = {}\n",
    "    for pos in range(1, 11):\n",
    "        player_pawns[player][pos] = Counter()\n",
    "        \n",
    "#player_pawns[0][p1_start][0] = 1\n",
    "#player_pawns[1][p2_start][0] = 1\n",
    "player_pawns[0][4][0] = 1\n",
    "player_pawns[1][8][0] = 1\n",
    "\n",
    "wins = Counter()\n",
    "print(player_pawns)\n",
    "print()\n",
    "\n",
    "for i in range(10):\n",
    "    for player in range(2):\n",
    "        #print(f'>>> PLAYER {player+1}')\n",
    "        pawns = step(player_pawns[player])\n",
    "        player_pawns[player] = pawns\n",
    "        #print()\n",
    "        \n",
    "    # TODO: Check if anyone won and stop incrementing for them\n",
    "    for player, pawns in player_pawns.items():\n",
    "        for pos, scores in pawns.items():\n",
    "            for score in scores.copy():\n",
    "                if score >= 21:\n",
    "                     wins[player] += scores.pop(score)\n",
    "    print(player_pawns)\n",
    "    print()"
   ]
  },
  {
   "cell_type": "code",
   "execution_count": 13,
   "id": "0f91e203",
   "metadata": {
    "ExecuteTime": {
     "end_time": "2022-01-14T14:27:38.360140Z",
     "start_time": "2022-01-14T14:27:38.352985Z"
    }
   },
   "outputs": [
    {
     "data": {
      "text/plain": [
       "Counter({0: 177277153, 1: 196218569})"
      ]
     },
     "execution_count": 13,
     "metadata": {},
     "output_type": "execute_result"
    }
   ],
   "source": [
    "wins"
   ]
  },
  {
   "cell_type": "code",
   "execution_count": 14,
   "id": "55024ba9",
   "metadata": {
    "ExecuteTime": {
     "end_time": "2022-01-14T14:27:38.376200Z",
     "start_time": "2022-01-14T14:27:38.366022Z"
    }
   },
   "outputs": [
    {
     "name": "stdout",
     "output_type": "stream",
     "text": [
      "1\n",
      "4\n",
      "7\n",
      "10\n"
     ]
    },
    {
     "data": {
      "text/plain": [
       "22"
      ]
     },
     "execution_count": 14,
     "metadata": {},
     "output_type": "execute_result"
    }
   ],
   "source": [
    "pos = 8\n",
    "score = 0\n",
    "for i in range(10):\n",
    "    pos = move(pos, 3)\n",
    "    print(pos)\n",
    "    score += pos\n",
    "    if score >= 21:\n",
    "        break\n",
    "score"
   ]
  }
 ],
 "metadata": {
  "kernelspec": {
   "display_name": "Python 3",
   "language": "python",
   "name": "python3"
  },
  "language_info": {
   "codemirror_mode": {
    "name": "ipython",
    "version": 3
   },
   "file_extension": ".py",
   "mimetype": "text/x-python",
   "name": "python",
   "nbconvert_exporter": "python",
   "pygments_lexer": "ipython3",
   "version": "3.8.12"
  }
 },
 "nbformat": 4,
 "nbformat_minor": 5
}
