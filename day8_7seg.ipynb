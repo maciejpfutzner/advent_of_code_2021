{
 "cells": [
  {
   "cell_type": "code",
   "execution_count": 26,
   "id": "c7406c4c",
   "metadata": {
    "ExecuteTime": {
     "end_time": "2021-12-08T08:53:39.804121Z",
     "start_time": "2021-12-08T08:53:39.800117Z"
    }
   },
   "outputs": [],
   "source": [
    "import re\n",
    "import numpy as np"
   ]
  },
  {
   "cell_type": "code",
   "execution_count": 27,
   "id": "6be6a1e0",
   "metadata": {
    "ExecuteTime": {
     "end_time": "2021-12-08T08:53:39.992104Z",
     "start_time": "2021-12-08T08:53:39.984591Z"
    }
   },
   "outputs": [],
   "source": [
    "data_fname = 'day8_7seg.txt'\n",
    "with open(data_fname, 'r') as datafile:\n",
    "    data = [l.strip() for l in datafile.readlines()]"
   ]
  },
  {
   "cell_type": "code",
   "execution_count": 28,
   "id": "9aa48c56",
   "metadata": {
    "ExecuteTime": {
     "end_time": "2021-12-08T08:53:40.142242Z",
     "start_time": "2021-12-08T08:53:40.139186Z"
    }
   },
   "outputs": [],
   "source": [
    "pattern = '[abcdefg]+'"
   ]
  },
  {
   "cell_type": "code",
   "execution_count": 122,
   "id": "a6bb7c8a",
   "metadata": {
    "ExecuteTime": {
     "end_time": "2021-12-08T09:32:55.239211Z",
     "start_time": "2021-12-08T09:32:55.227529Z"
    }
   },
   "outputs": [],
   "source": [
    "inputs = []\n",
    "outputs = []\n",
    "\n",
    "for d in data:\n",
    "    inputs_txt = d[:d.find('|')]\n",
    "    inputs.append(re.findall(pattern, inputs_txt))\n",
    "                  \n",
    "    outputs_txt = d[d.find('|'):]\n",
    "    outputs.append(re.findall(pattern, outputs_txt))"
   ]
  },
  {
   "cell_type": "markdown",
   "id": "ef1fd698",
   "metadata": {},
   "source": [
    "# Part 1"
   ]
  },
  {
   "cell_type": "code",
   "execution_count": 30,
   "id": "203be582",
   "metadata": {
    "ExecuteTime": {
     "end_time": "2021-12-08T08:53:43.040515Z",
     "start_time": "2021-12-08T08:53:43.035018Z"
    }
   },
   "outputs": [],
   "source": [
    "lengths = [len(d) for digits in outputs for d in digits]"
   ]
  },
  {
   "cell_type": "code",
   "execution_count": 31,
   "id": "d12d5c57",
   "metadata": {
    "ExecuteTime": {
     "end_time": "2021-12-08T08:53:43.255559Z",
     "start_time": "2021-12-08T08:53:43.247691Z"
    }
   },
   "outputs": [
    {
     "data": {
      "text/plain": [
       "519"
      ]
     },
     "execution_count": 31,
     "metadata": {},
     "output_type": "execute_result"
    }
   ],
   "source": [
    "np.isin(lengths, [2, 3, 4, 7]).sum()"
   ]
  },
  {
   "cell_type": "markdown",
   "id": "0ed8d39f",
   "metadata": {},
   "source": [
    "# Part 2 - the hard part"
   ]
  },
  {
   "cell_type": "code",
   "execution_count": 47,
   "id": "fc12bf54",
   "metadata": {
    "ExecuteTime": {
     "end_time": "2021-12-08T09:02:16.540464Z",
     "start_time": "2021-12-08T09:02:16.534347Z"
    }
   },
   "outputs": [],
   "source": [
    "def map_easy_digits(digits):\n",
    "    len_digits = {len(d): d for d in digits}\n",
    "    len_mapping = {2: 1, 3: 7, 4: 4, 7: 8}\n",
    "    result = {}\n",
    "    for length,digit in len_digits.items():\n",
    "        if length in len_mapping:\n",
    "            result[digit] = len_mapping[length]\n",
    "    return result"
   ]
  },
  {
   "cell_type": "code",
   "execution_count": 153,
   "id": "aad12741",
   "metadata": {
    "ExecuteTime": {
     "end_time": "2021-12-08T09:43:01.864991Z",
     "start_time": "2021-12-08T09:43:01.851709Z"
    }
   },
   "outputs": [],
   "source": [
    "def find_mapping(inputs):\n",
    "    mapping = map_easy_digits(inputs)\n",
    "    rev_mapping = {v:set(k) for k,v in mapping.items()}\n",
    "\n",
    "    lengths = {d: len(d) for d in inputs}\n",
    "    # 2, 3 and 5\n",
    "    seg5 = [d for d in lengths if lengths[d] == 5]\n",
    "\n",
    "    # 6, 9, 0\n",
    "    seg6 = [d for d in lengths if lengths[d] == 6]\n",
    "\n",
    "    # Find 9\n",
    "    for d in seg6:\n",
    "        if rev_mapping[4] < set(d):\n",
    "            mapping[d] = 9\n",
    "            rev_mapping[9] = set(d)\n",
    "            seg6.remove(d)\n",
    "            break\n",
    "\n",
    "    # Find 3\n",
    "    for d in seg5:\n",
    "        if rev_mapping[1] < set(d):\n",
    "            mapping[d] = 3\n",
    "            rev_mapping[3] = set(d)\n",
    "            seg5.remove(d)\n",
    "            break\n",
    "\n",
    "    # Find 0\n",
    "    for d in seg6:\n",
    "        if rev_mapping[1] < set(d): # and 4 not in\n",
    "            mapping[d] = 0\n",
    "            rev_mapping[0] = set(d)\n",
    "            seg6.remove(d)\n",
    "            break\n",
    "\n",
    "    # The remaining seg6 digit is 6\n",
    "    mapping[seg6[0]] = 6\n",
    "\n",
    "    # Find 5\n",
    "    for d in seg5:\n",
    "        if set(d) < rev_mapping[9]:\n",
    "            mapping[d] = 5\n",
    "            rev_mapping[5] = set(d)\n",
    "            seg5.remove(d)\n",
    "            break\n",
    "\n",
    "    # The remaining seg5 digit is 2\n",
    "    mapping[seg5[0]] = 2\n",
    "    \n",
    "    return mapping"
   ]
  },
  {
   "cell_type": "code",
   "execution_count": 154,
   "id": "766d54f2",
   "metadata": {
    "ExecuteTime": {
     "end_time": "2021-12-08T09:43:02.493818Z",
     "start_time": "2021-12-08T09:43:02.486921Z"
    }
   },
   "outputs": [
    {
     "data": {
      "text/plain": [
       "{'acedgfb': 8,\n",
       " 'dab': 7,\n",
       " 'eafb': 4,\n",
       " 'ab': 1,\n",
       " 'cefabd': 9,\n",
       " 'fbcad': 3,\n",
       " 'cagedb': 0,\n",
       " 'cdfgeb': 6,\n",
       " 'cdfbe': 5,\n",
       " 'gcdfa': 2}"
      ]
     },
     "execution_count": 154,
     "metadata": {},
     "output_type": "execute_result"
    }
   ],
   "source": [
    "ex = 'acedgfb cdfbe gcdfa fbcad dab cefabd cdfgeb eafb cagedb ab'.split(' ')\n",
    "find_mapping(ex)"
   ]
  },
  {
   "cell_type": "code",
   "execution_count": 155,
   "id": "276ab2c3",
   "metadata": {
    "ExecuteTime": {
     "end_time": "2021-12-08T09:43:02.914866Z",
     "start_time": "2021-12-08T09:43:02.909701Z"
    }
   },
   "outputs": [],
   "source": [
    "def map_digits(segments, mapping):\n",
    "    for pattern, value in mapping.items():\n",
    "        if set(segments) == set(pattern):\n",
    "            return value"
   ]
  },
  {
   "cell_type": "code",
   "execution_count": 157,
   "id": "85b40507",
   "metadata": {
    "ExecuteTime": {
     "end_time": "2021-12-08T09:43:09.701459Z",
     "start_time": "2021-12-08T09:43:09.684799Z"
    }
   },
   "outputs": [],
   "source": [
    "decoded_outputs = []\n",
    "for input_, output in zip(inputs, outputs):\n",
    "    mapping = find_mapping(input_)\n",
    "    output_str = ''.join([str(map_digits(o, mapping)) for o in output])\n",
    "    decoded_outputs.append(int(output_str))"
   ]
  },
  {
   "cell_type": "code",
   "execution_count": 159,
   "id": "f48d2aa5",
   "metadata": {
    "ExecuteTime": {
     "end_time": "2021-12-08T09:43:20.774933Z",
     "start_time": "2021-12-08T09:43:20.768922Z"
    }
   },
   "outputs": [
    {
     "data": {
      "text/plain": [
       "1027483"
      ]
     },
     "execution_count": 159,
     "metadata": {},
     "output_type": "execute_result"
    }
   ],
   "source": [
    "sum(decoded_outputs)"
   ]
  },
  {
   "cell_type": "code",
   "execution_count": 125,
   "id": "8c3598e6",
   "metadata": {
    "ExecuteTime": {
     "end_time": "2021-12-08T09:33:09.318034Z",
     "start_time": "2021-12-08T09:33:09.311452Z"
    }
   },
   "outputs": [
    {
     "data": {
      "text/plain": [
       "['gbcdae', 'dagc', 'acgd', 'gd']"
      ]
     },
     "execution_count": 125,
     "metadata": {},
     "output_type": "execute_result"
    }
   ],
   "source": [
    "outputs[0]"
   ]
  },
  {
   "cell_type": "code",
   "execution_count": null,
   "id": "bf9f6917",
   "metadata": {},
   "outputs": [],
   "source": []
  }
 ],
 "metadata": {
  "kernelspec": {
   "display_name": "Python 3",
   "language": "python",
   "name": "python3"
  },
  "language_info": {
   "codemirror_mode": {
    "name": "ipython",
    "version": 3
   },
   "file_extension": ".py",
   "mimetype": "text/x-python",
   "name": "python",
   "nbconvert_exporter": "python",
   "pygments_lexer": "ipython3",
   "version": "3.8.12"
  }
 },
 "nbformat": 4,
 "nbformat_minor": 5
}
