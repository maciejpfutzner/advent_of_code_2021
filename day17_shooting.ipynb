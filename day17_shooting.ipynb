{
 "cells": [
  {
   "cell_type": "code",
   "execution_count": 13,
   "id": "5d5fe901",
   "metadata": {
    "ExecuteTime": {
     "end_time": "2021-12-17T09:02:26.447749Z",
     "start_time": "2021-12-17T09:02:25.826289Z"
    }
   },
   "outputs": [],
   "source": [
    "import numpy as np\n",
    "from collections import namedtuple\n",
    "from matplotlib import pyplot as plt"
   ]
  },
  {
   "cell_type": "code",
   "execution_count": 1,
   "id": "8653d63c",
   "metadata": {
    "ExecuteTime": {
     "end_time": "2021-12-17T08:51:18.853484Z",
     "start_time": "2021-12-17T08:51:18.844701Z"
    }
   },
   "outputs": [],
   "source": [
    "input_data = 'target area: x=111..161, y=-154..-101'"
   ]
  },
  {
   "cell_type": "code",
   "execution_count": 97,
   "id": "99e36fdc",
   "metadata": {
    "ExecuteTime": {
     "end_time": "2021-12-17T09:27:40.704588Z",
     "start_time": "2021-12-17T09:27:40.697672Z"
    }
   },
   "outputs": [
    {
     "data": {
      "text/plain": [
       "Target(xmin=111, xmax=161, ymin=-154, ymax=-101)"
      ]
     },
     "execution_count": 97,
     "metadata": {},
     "output_type": "execute_result"
    }
   ],
   "source": [
    "Target = namedtuple('Target', ['xmin', 'xmax', 'ymin', 'ymax'])\n",
    "target = Target(111, 161, -154, -101)\n",
    "target"
   ]
  },
  {
   "cell_type": "code",
   "execution_count": 98,
   "id": "00d08082",
   "metadata": {
    "ExecuteTime": {
     "end_time": "2021-12-17T09:27:40.919108Z",
     "start_time": "2021-12-17T09:27:40.915381Z"
    }
   },
   "outputs": [],
   "source": [
    "# x=20..30, y=-10..-5\n",
    "#target = Target(20, 30, -10, -5)"
   ]
  },
  {
   "cell_type": "markdown",
   "id": "c2f059e8",
   "metadata": {
    "ExecuteTime": {
     "end_time": "2021-12-17T08:53:34.704024Z",
     "start_time": "2021-12-17T08:53:34.697760Z"
    }
   },
   "source": [
    "# Part 1"
   ]
  },
  {
   "cell_type": "code",
   "execution_count": 99,
   "id": "2ca32c45",
   "metadata": {
    "ExecuteTime": {
     "end_time": "2021-12-17T09:27:46.061066Z",
     "start_time": "2021-12-17T09:27:46.055915Z"
    }
   },
   "outputs": [],
   "source": [
    "def step(x, y, vx, vy):\n",
    "    x += vx\n",
    "    y += vy\n",
    "    if vx > 0:\n",
    "        # Don't have to worry about going to the left\n",
    "        vx -= 1\n",
    "    vy -= 1\n",
    "    return x, y, vx, vy"
   ]
  },
  {
   "cell_type": "code",
   "execution_count": 100,
   "id": "e26a570e",
   "metadata": {
    "ExecuteTime": {
     "end_time": "2021-12-17T09:27:46.282113Z",
     "start_time": "2021-12-17T09:27:46.277525Z"
    }
   },
   "outputs": [],
   "source": [
    "def run_shot(vx, vy):\n",
    "    x, y = 0,0\n",
    "    path = []\n",
    "    while x < target.xmax and y > target.ymin:\n",
    "        x, y, vx, vy = step(x, y, vx, vy)\n",
    "        #print(x, y, vx, vy)\n",
    "        path.append((x, y))\n",
    "        \n",
    "    return path"
   ]
  },
  {
   "cell_type": "code",
   "execution_count": 101,
   "id": "cb948166",
   "metadata": {
    "ExecuteTime": {
     "end_time": "2021-12-17T09:27:47.225979Z",
     "start_time": "2021-12-17T09:27:47.220709Z"
    }
   },
   "outputs": [],
   "source": [
    "def in_target(path):\n",
    "    for x, y in path[::-1]:\n",
    "        if (x <= target.xmax and x >= target.xmin and\n",
    "            y <= target.ymax and y >= target.ymin):\n",
    "            return True\n",
    "    return False"
   ]
  },
  {
   "cell_type": "code",
   "execution_count": 102,
   "id": "7f497ec5",
   "metadata": {
    "ExecuteTime": {
     "end_time": "2021-12-17T09:27:47.906043Z",
     "start_time": "2021-12-17T09:27:47.747347Z"
    }
   },
   "outputs": [
    {
     "name": "stdout",
     "output_type": "stream",
     "text": [
      "True\n",
      "210\n"
     ]
    },
    {
     "data": {
      "text/plain": [
       "<matplotlib.collections.PathCollection at 0x11d67d1c0>"
      ]
     },
     "execution_count": 102,
     "metadata": {},
     "output_type": "execute_result"
    },
    {
     "data": {
      "image/png": "[encoded data removed]",
      "text/plain": [
       "<Figure size 432x288 with 1 Axes>"
      ]
     },
     "metadata": {
      "needs_background": "light"
     },
     "output_type": "display_data"
    }
   ],
   "source": [
    "path = run_shot(15, 20)\n",
    "#print(path)\n",
    "print(in_target(path))\n",
    "print(max([p[1] for p in path]))\n",
    "\n",
    "plt.plot(*list(zip(*path)))\n",
    "plt.scatter((target.xmin, target.xmax), (target.ymin, target.ymax), c='r')"
   ]
  },
  {
   "cell_type": "code",
   "execution_count": 110,
   "id": "43fc60f6",
   "metadata": {
    "ExecuteTime": {
     "end_time": "2021-12-17T09:31:10.678002Z",
     "start_time": "2021-12-17T09:31:10.637093Z"
    }
   },
   "outputs": [
    {
     "name": "stdout",
     "output_type": "stream",
     "text": [
      "153\n",
      "11781\n"
     ]
    }
   ],
   "source": [
    "vx = 16\n",
    "y_max = -10000\n",
    "for vy in range(0, 200):\n",
    "    path = run_shot(vx, vy)\n",
    "    max_y = max([p[1] for p in path])\n",
    "    if in_target(path) and max_y > y_max:\n",
    "        y_max = max_y\n",
    "        vy_max = vy\n",
    "\n",
    "print(vy_max)\n",
    "print(y_max)"
   ]
  },
  {
   "cell_type": "code",
   "execution_count": 111,
   "id": "695e7592",
   "metadata": {
    "ExecuteTime": {
     "end_time": "2021-12-17T09:31:11.623334Z",
     "start_time": "2021-12-17T09:31:11.459740Z"
    }
   },
   "outputs": [
    {
     "data": {
      "text/plain": [
       "(0.0, 168.25)"
      ]
     },
     "execution_count": 111,
     "metadata": {},
     "output_type": "execute_result"
    },
    {
     "data": {
      "image/png": "[encoded data removed]",
      "text/plain": [
       "<Figure size 432x288 with 1 Axes>"
      ]
     },
     "metadata": {
      "needs_background": "light"
     },
     "output_type": "display_data"
    }
   ],
   "source": [
    "path = run_shot(vx, vy_max)\n",
    "plt.plot(*list(zip(*path)))\n",
    "plt.scatter((target.xmin, target.xmax), (target.ymin, target.ymax), c='r')\n",
    "plt.xlim(0)"
   ]
  },
  {
   "cell_type": "markdown",
   "id": "666393df",
   "metadata": {},
   "source": [
    "# Part 2"
   ]
  },
  {
   "cell_type": "code",
   "execution_count": 155,
   "id": "ecec207a",
   "metadata": {
    "ExecuteTime": {
     "end_time": "2021-12-17T09:45:43.000011Z",
     "start_time": "2021-12-17T09:45:42.791898Z"
    }
   },
   "outputs": [
    {
     "name": "stdout",
     "output_type": "stream",
     "text": [
      "False\n",
      "4095\n"
     ]
    },
    {
     "data": {
      "text/plain": [
       "<matplotlib.collections.PathCollection at 0x11e7549d0>"
      ]
     },
     "execution_count": 155,
     "metadata": {},
     "output_type": "execute_result"
    },
    {
     "data": {
      "image/png": "[encoded data removed]",
      "text/plain": [
       "<Figure size 432x288 with 1 Axes>"
      ]
     },
     "metadata": {
      "needs_background": "light"
     },
     "output_type": "display_data"
    }
   ],
   "source": [
    "path = run_shot(15, 90)\n",
    "#print(path)\n",
    "print(in_target(path))\n",
    "print(max([p[1] for p in path]))\n",
    "\n",
    "plt.plot(*list(zip(*path)))\n",
    "plt.scatter((target.xmin, target.xmax), (target.ymin, target.ymax), c='r')"
   ]
  },
  {
   "cell_type": "code",
   "execution_count": 215,
   "id": "0c032a5a",
   "metadata": {
    "ExecuteTime": {
     "end_time": "2021-12-17T09:57:18.532952Z",
     "start_time": "2021-12-17T09:57:18.528394Z"
    }
   },
   "outputs": [],
   "source": [
    "vxmin, vxmax = 15, 800\n",
    "vymin, vymax = -800, 250"
   ]
  },
  {
   "cell_type": "code",
   "execution_count": 216,
   "id": "944cca7e",
   "metadata": {
    "ExecuteTime": {
     "end_time": "2021-12-17T09:57:20.212635Z",
     "start_time": "2021-12-17T09:57:18.906922Z"
    }
   },
   "outputs": [],
   "source": [
    "checks = []\n",
    "for vx in range(vxmin, vxmax):\n",
    "    for vy in range(vymin, vymax):\n",
    "        path = run_shot(vx, vy)\n",
    "        checks.append((vx,vy, in_target(path)))"
   ]
  },
  {
   "cell_type": "code",
   "execution_count": 217,
   "id": "97d6b910",
   "metadata": {
    "ExecuteTime": {
     "end_time": "2021-12-17T09:57:20.593482Z",
     "start_time": "2021-12-17T09:57:20.216441Z"
    }
   },
   "outputs": [],
   "source": [
    "check_arr = np.zeros((vxmax-vxmin, vymax-vymin))\n",
    "for vx,vy,c in checks:\n",
    "    check_arr[vx-vxmin, vy-vymin] = int(c)"
   ]
  },
  {
   "cell_type": "code",
   "execution_count": 218,
   "id": "3d154a9a",
   "metadata": {
    "ExecuteTime": {
     "end_time": "2021-12-17T09:57:20.767713Z",
     "start_time": "2021-12-17T09:57:20.597001Z"
    }
   },
   "outputs": [
    {
     "data": {
      "text/plain": [
       "<matplotlib.image.AxesImage at 0x125120ca0>"
      ]
     },
     "execution_count": 218,
     "metadata": {},
     "output_type": "execute_result"
    },
    {
     "data": {
      "image/png": "[encoded data removed]",
      "text/plain": [
       "<Figure size 432x288 with 1 Axes>"
      ]
     },
     "metadata": {
      "needs_background": "light"
     },
     "output_type": "display_data"
    }
   ],
   "source": [
    "plt.imshow(check_arr)"
   ]
  },
  {
   "cell_type": "code",
   "execution_count": 220,
   "id": "2edd0caf",
   "metadata": {
    "ExecuteTime": {
     "end_time": "2021-12-17T09:57:42.354938Z",
     "start_time": "2021-12-17T09:57:42.285657Z"
    }
   },
   "outputs": [
    {
     "data": {
      "text/plain": [
       "4531"
      ]
     },
     "execution_count": 220,
     "metadata": {},
     "output_type": "execute_result"
    }
   ],
   "source": [
    "sum([c[2] for c in checks])"
   ]
  },
  {
   "cell_type": "code",
   "execution_count": null,
   "id": "04749bc0",
   "metadata": {},
   "outputs": [],
   "source": []
  }
 ],
 "metadata": {
  "kernelspec": {
   "display_name": "Python 3",
   "language": "python",
   "name": "python3"
  },
  "language_info": {
   "codemirror_mode": {
    "name": "ipython",
    "version": 3
   },
   "file_extension": ".py",
   "mimetype": "text/x-python",
   "name": "python",
   "nbconvert_exporter": "python",
   "pygments_lexer": "ipython3",
   "version": "3.8.12"
  }
 },
 "nbformat": 4,
 "nbformat_minor": 5
}
