{
 "cells": [
  {
   "cell_type": "code",
   "execution_count": 4,
   "id": "041f9c43",
   "metadata": {
    "ExecuteTime": {
     "end_time": "2021-12-25T20:08:07.712810Z",
     "start_time": "2021-12-25T20:08:07.511614Z"
    }
   },
   "outputs": [],
   "source": [
    "import numpy as np"
   ]
  },
  {
   "cell_type": "code",
   "execution_count": 7,
   "id": "978a156e",
   "metadata": {
    "ExecuteTime": {
     "end_time": "2021-12-25T20:08:32.142183Z",
     "start_time": "2021-12-25T20:08:32.128361Z"
    }
   },
   "outputs": [],
   "source": [
    "with open('day25_cucumbers.txt') as infile:\n",
    "    start_positions = [[s for s in row.strip()] for row in infile]\n",
    "start_positions = np.array(start_positions)"
   ]
  },
  {
   "cell_type": "markdown",
   "id": "0f5f7b2b",
   "metadata": {
    "ExecuteTime": {
     "end_time": "2021-12-25T20:08:17.078300Z",
     "start_time": "2021-12-25T20:08:17.065890Z"
    }
   },
   "source": [
    "# Part 1"
   ]
  },
  {
   "cell_type": "code",
   "execution_count": 73,
   "id": "74306c87",
   "metadata": {
    "ExecuteTime": {
     "end_time": "2021-12-25T20:23:30.184827Z",
     "start_time": "2021-12-25T20:23:30.180739Z"
    }
   },
   "outputs": [],
   "source": [
    "def sample(board, n=10):\n",
    "    print(board[:n, :n])"
   ]
  },
  {
   "cell_type": "code",
   "execution_count": 135,
   "id": "bbc0b4fa",
   "metadata": {
    "ExecuteTime": {
     "end_time": "2021-12-25T20:37:09.319818Z",
     "start_time": "2021-12-25T20:37:09.313296Z"
    }
   },
   "outputs": [],
   "source": [
    "def move_east(board):\n",
    "    x, y = np.where(board=='>')\n",
    "    y_new = y+1\n",
    "    y_new[y_new==board.shape[1]] = 0\n",
    "    free_neigbour = (board[(x, y_new)] == '.')\n",
    "    east_free = (x[free_neigbour], y[free_neigbour])\n",
    "    east_next = (x[free_neigbour], y_new[free_neigbour])\n",
    "    n_changes = len(east_free[0])\n",
    "    \n",
    "    board[east_free] = '.'\n",
    "    board[east_next] = '>'\n",
    "    return board, n_changes"
   ]
  },
  {
   "cell_type": "code",
   "execution_count": 136,
   "id": "b8b96628",
   "metadata": {
    "ExecuteTime": {
     "end_time": "2021-12-25T20:37:09.520845Z",
     "start_time": "2021-12-25T20:37:09.515819Z"
    }
   },
   "outputs": [],
   "source": [
    "def move_south(board):\n",
    "    x, y = np.where(board=='v')\n",
    "    x_new = x+1\n",
    "    x_new[x_new==board.shape[0]] = 0\n",
    "    free_neigbour = (board[(x_new, y)] == '.')\n",
    "    south_free = (x[free_neigbour], y[free_neigbour])\n",
    "    south_next = (x_new[free_neigbour], y[free_neigbour])\n",
    "    n_changes = len(south_free[0])\n",
    "    \n",
    "    board[south_free] = '.'\n",
    "    board[south_next] = 'v'\n",
    "    return board, n_changes"
   ]
  },
  {
   "cell_type": "code",
   "execution_count": 137,
   "id": "6b967453",
   "metadata": {
    "ExecuteTime": {
     "end_time": "2021-12-25T20:37:09.758010Z",
     "start_time": "2021-12-25T20:37:09.753685Z"
    }
   },
   "outputs": [],
   "source": [
    "def step(board):\n",
    "    board, n_changes_e = move_east(board)\n",
    "    board, n_changes_s = move_south(board)\n",
    "    if n_changes_e + n_changes_s > 0:\n",
    "        return board, False\n",
    "    else:\n",
    "        return board, True"
   ]
  },
  {
   "cell_type": "code",
   "execution_count": 142,
   "id": "b18f3d94",
   "metadata": {
    "ExecuteTime": {
     "end_time": "2021-12-25T20:40:54.096659Z",
     "start_time": "2021-12-25T20:40:53.656245Z"
    }
   },
   "outputs": [
    {
     "name": "stdout",
     "output_type": "stream",
     "text": [
      "[['.' '.' 'v' 'v' '.' 'v' '>' 'v' 'v' '.' '>' '.' '.' '>' '.']\n",
      " ['.' '>' '.' '.' '.' '.' '>' '.' '.' 'v' '.' '>' 'v' '>' '>']\n",
      " ['>' 'v' '>' '>' '.' 'v' 'v' 'v' '.' '.' '.' '.' '.' '.' '>']\n",
      " ['>' '.' '>' '.' '.' '>' '>' '.' 'v' '.' '.' '.' '>' 'v' '.']\n",
      " ['v' '>' '.' '>' '>' 'v' '.' '.' 'v' '>' 'v' '>' 'v' '>' '>']\n",
      " ['.' '.' '.' '>' '>' '.' '.' '.' 'v' '.' '.' '>' '.' '.' 'v']\n",
      " ['>' '.' 'v' '.' '>' '>' '.' '.' '>' '.' 'v' 'v' '.' '>' '.']\n",
      " ['v' '.' 'v' '.' '>' '>' 'v' '.' '.' '.' 'v' '.' '.' '.' '.']\n",
      " ['.' 'v' '>' '.' '>' '.' 'v' '.' 'v' '>' '>' 'v' '>' '.' '.']\n",
      " ['v' 'v' '.' '.' '.' '.' '>' '>' 'v' '.' '>' '.' 'v' '.' '.']\n",
      " ['>' '.' 'v' '.' '>' '>' '.' 'v' '.' '.' '>' '>' '.' '>' 'v']\n",
      " ['v' '>' '.' '>' '.' '.' 'v' '.' '>' '>' '.' '.' '.' '.' '.']\n",
      " ['v' '.' '>' 'v' 'v' '.' '.' '.' '.' '>' '.' '.' '.' '>' '.']\n",
      " ['>' 'v' '.' 'v' '>' '>' '.' '.' 'v' '.' '.' 'v' '>' '.' 'v']\n",
      " ['v' '>' '>' '>' '>' 'v' '.' '>' '>' '.' '>' '.' '.' '>' '.']]\n",
      "\n",
      "[['>' '>' '>' '>' '>' '>' '>' '>' 'v' 'v' 'v' '.' '.' '>' '>']\n",
      " ['.' '>' '>' '>' '>' '>' '>' '>' '>' 'v' 'v' 'v' '.' '.' '>']\n",
      " ['v' '.' '>' '>' '>' '>' '>' '>' '>' '>' 'v' 'v' '.' '.' '>']\n",
      " ['v' '.' '.' '>' '>' '>' '>' '>' '>' '>' '>' 'v' 'v' '.' '>']\n",
      " ['v' '.' '.' '.' '>' '>' '>' '>' '>' '>' '>' '>' 'v' 'v' '>']\n",
      " ['v' '.' '.' '.' '.' '>' '>' '>' '>' '>' '>' '>' '>' 'v' 'v']\n",
      " ['>' 'v' '.' '.' '.' '>' '>' '>' '>' '>' '>' '>' '>' '>' 'v']\n",
      " ['>' '>' 'v' '.' '.' '.' '.' '>' '>' '>' '>' '>' '>' '>' '>']\n",
      " ['>' '>' '>' 'v' '.' '.' '.' '.' '.' '.' '>' '>' '>' '>' '>']\n",
      " ['>' '>' '>' '>' '>' '>' 'v' '.' '.' '.' '>' '>' '>' '>' '>']\n",
      " ['>' '>' '>' '>' '>' '>' '>' 'v' '.' '>' '>' '>' '>' '>' '>']\n",
      " ['>' '>' '>' '>' '>' '>' '>' '>' 'v' '.' '.' '.' '.' '.' '>']\n",
      " ['>' '>' '>' '>' '>' '>' '>' '>' '>' '>' 'v' '>' '>' '>' '>']\n",
      " ['>' '>' '>' '>' '>' '>' '>' '>' '>' '>' '>' '>' '>' '>' '>']\n",
      " ['>' '>' '>' '>' '>' '>' '>' '>' '>' '>' '>' '>' '>' '>' '>']]\n",
      "\n",
      "532 steps\n"
     ]
    }
   ],
   "source": [
    "board = start_positions.copy()\n",
    "sample(board, 15)\n",
    "\n",
    "finished = False\n",
    "n_steps = 0\n",
    "while not finished:\n",
    "    n_steps += 1\n",
    "    board, finished = step(board)\n",
    "\n",
    "print()\n",
    "sample(board, 15)\n",
    "print()\n",
    "print(n_steps, 'steps')"
   ]
  },
  {
   "cell_type": "code",
   "execution_count": null,
   "id": "319338a3",
   "metadata": {},
   "outputs": [],
   "source": []
  }
 ],
 "metadata": {
  "kernelspec": {
   "display_name": "Python 3",
   "language": "python",
   "name": "python3"
  },
  "language_info": {
   "codemirror_mode": {
    "name": "ipython",
    "version": 3
   },
   "file_extension": ".py",
   "mimetype": "text/x-python",
   "name": "python",
   "nbconvert_exporter": "python",
   "pygments_lexer": "ipython3",
   "version": "3.8.12"
  }
 },
 "nbformat": 4,
 "nbformat_minor": 5
}
