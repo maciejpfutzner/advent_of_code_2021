{
 "cells": [
  {
   "cell_type": "code",
   "execution_count": 2,
   "id": "2c84d907",
   "metadata": {
    "ExecuteTime": {
     "end_time": "2021-12-01T19:01:38.180264Z",
     "start_time": "2021-12-01T19:01:37.988795Z"
    }
   },
   "outputs": [],
   "source": [
    "import numpy as np"
   ]
  },
  {
   "cell_type": "markdown",
   "id": "8986b9c4",
   "metadata": {},
   "source": [
    "# Part 1"
   ]
  },
  {
   "cell_type": "code",
   "execution_count": 3,
   "id": "74a534ba",
   "metadata": {
    "ExecuteTime": {
     "end_time": "2021-12-01T19:02:09.213263Z",
     "start_time": "2021-12-01T19:02:09.209455Z"
    }
   },
   "outputs": [],
   "source": [
    "data_filename = 'data_01.txt'"
   ]
  },
  {
   "cell_type": "code",
   "execution_count": 6,
   "id": "e371f55e",
   "metadata": {
    "ExecuteTime": {
     "end_time": "2021-12-01T19:02:40.928912Z",
     "start_time": "2021-12-01T19:02:40.917579Z"
    }
   },
   "outputs": [
    {
     "ename": "TypeError",
     "evalue": "a bytes-like object is required, not 'list'",
     "output_type": "error",
     "traceback": [
      "\u001b[0;31m---------------------------------------------------------------------------\u001b[0m",
      "\u001b[0;31mTypeError\u001b[0m                                 Traceback (most recent call last)",
      "\u001b[0;32m<ipython-input-6-b80a7e9df3e4>\u001b[0m in \u001b[0;36m<module>\u001b[0;34m\u001b[0m\n\u001b[1;32m      1\u001b[0m \u001b[0;32mwith\u001b[0m \u001b[0mopen\u001b[0m\u001b[0;34m(\u001b[0m\u001b[0mdata_filename\u001b[0m\u001b[0;34m,\u001b[0m \u001b[0;34m'r'\u001b[0m\u001b[0;34m)\u001b[0m \u001b[0;32mas\u001b[0m \u001b[0mdata_file\u001b[0m\u001b[0;34m:\u001b[0m\u001b[0;34m\u001b[0m\u001b[0;34m\u001b[0m\u001b[0m\n\u001b[1;32m      2\u001b[0m     \u001b[0;31m#data = [int(l) for l in data_file.readlines()]\u001b[0m\u001b[0;34m\u001b[0m\u001b[0;34m\u001b[0m\u001b[0;34m\u001b[0m\u001b[0m\n\u001b[0;32m----> 3\u001b[0;31m     \u001b[0mdata\u001b[0m \u001b[0;34m=\u001b[0m \u001b[0mnp\u001b[0m\u001b[0;34m.\u001b[0m\u001b[0mfromstring\u001b[0m\u001b[0;34m(\u001b[0m\u001b[0mdata_file\u001b[0m\u001b[0;34m.\u001b[0m\u001b[0mreadlines\u001b[0m\u001b[0;34m(\u001b[0m\u001b[0;34m)\u001b[0m\u001b[0;34m)\u001b[0m\u001b[0;34m\u001b[0m\u001b[0;34m\u001b[0m\u001b[0m\n\u001b[0m",
      "\u001b[0;31mTypeError\u001b[0m: a bytes-like object is required, not 'list'"
     ]
    }
   ],
   "source": [
    "with open(data_filename, 'r') as data_file:\n",
    "    data = [int(l) for l in data_file.readlines()]"
   ]
  },
  {
   "cell_type": "code",
   "execution_count": 17,
   "id": "663e6def",
   "metadata": {
    "ExecuteTime": {
     "end_time": "2021-12-01T18:29:01.915793Z",
     "start_time": "2021-12-01T18:29:01.911093Z"
    }
   },
   "outputs": [],
   "source": [
    "data = np.array(data)"
   ]
  },
  {
   "cell_type": "code",
   "execution_count": 20,
   "id": "54274725",
   "metadata": {
    "ExecuteTime": {
     "end_time": "2021-12-01T18:29:19.730134Z",
     "start_time": "2021-12-01T18:29:19.723305Z"
    }
   },
   "outputs": [
    {
     "data": {
      "text/plain": [
       "array([140, 154, 165, 150, 151, 161, 172, 174, 166, 168])"
      ]
     },
     "execution_count": 20,
     "metadata": {},
     "output_type": "execute_result"
    }
   ],
   "source": [
    "data[:10]"
   ]
  },
  {
   "cell_type": "code",
   "execution_count": 22,
   "id": "90572d3c",
   "metadata": {
    "ExecuteTime": {
     "end_time": "2021-12-01T18:29:42.989632Z",
     "start_time": "2021-12-01T18:29:42.982087Z"
    }
   },
   "outputs": [
    {
     "data": {
      "text/plain": [
       "1298"
      ]
     },
     "execution_count": 22,
     "metadata": {},
     "output_type": "execute_result"
    }
   ],
   "source": [
    "((data[1:] - data[:-1]) > 0).sum()"
   ]
  },
  {
   "cell_type": "markdown",
   "id": "93143044",
   "metadata": {
    "ExecuteTime": {
     "end_time": "2021-12-01T18:30:29.514933Z",
     "start_time": "2021-12-01T18:30:29.511623Z"
    }
   },
   "source": [
    "# Part 2"
   ]
  },
  {
   "cell_type": "code",
   "execution_count": 45,
   "id": "e0d52c4e",
   "metadata": {
    "ExecuteTime": {
     "end_time": "2021-12-01T18:34:41.118810Z",
     "start_time": "2021-12-01T18:34:41.114115Z"
    }
   },
   "outputs": [],
   "source": [
    "data_new = np.stack([data[:-2], data[1:-1], data[2:]]).sum(axis=0)"
   ]
  },
  {
   "cell_type": "code",
   "execution_count": 46,
   "id": "ff07ea04",
   "metadata": {
    "ExecuteTime": {
     "end_time": "2021-12-01T18:34:56.622266Z",
     "start_time": "2021-12-01T18:34:56.613912Z"
    }
   },
   "outputs": [
    {
     "data": {
      "text/plain": [
       "1248"
      ]
     },
     "execution_count": 46,
     "metadata": {},
     "output_type": "execute_result"
    }
   ],
   "source": [
    "((data_new[1:] - data_new[:-1]) > 0).sum()"
   ]
  },
  {
   "cell_type": "code",
   "execution_count": null,
   "id": "d466a8b7",
   "metadata": {},
   "outputs": [],
   "source": []
  }
 ],
 "metadata": {
  "kernelspec": {
   "display_name": "Python 3",
   "language": "python",
   "name": "python3"
  },
  "language_info": {
   "codemirror_mode": {
    "name": "ipython",
    "version": 3
   },
   "file_extension": ".py",
   "mimetype": "text/x-python",
   "name": "python",
   "nbconvert_exporter": "python",
   "pygments_lexer": "ipython3",
   "version": "3.8.12"
  }
 },
 "nbformat": 4,
 "nbformat_minor": 5
}
